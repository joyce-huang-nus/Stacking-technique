{
 "cells": [
  {
   "cell_type": "markdown",
   "id": "9d324a0d",
   "metadata": {},
   "source": [
    "# BT5126 Assignment 2\n",
    "Student Name: Hai-hsin HUANG\n",
    "\n",
    "Student Number: A0231906J"
   ]
  },
  {
   "cell_type": "code",
   "execution_count": 1,
   "id": "70eaf730",
   "metadata": {},
   "outputs": [],
   "source": [
    "import pandas as pd\n",
    "import numpy as np\n",
    "from sklearn.model_selection import train_test_split\n",
    "from sklearn.preprocessing import MinMaxScaler\n",
    "from sklearn.preprocessing import StandardScaler\n",
    "from sklearn.pipeline import Pipeline\n",
    "from sklearn.model_selection import GridSearchCV\n",
    "import seaborn as sn\n",
    "import lightgbm as ltb\n",
    "import xgboost as xgb\n",
    "from sklearn.metrics import mean_squared_error\n",
    "import matplotlib.pyplot as plt\n",
    "from sklearn.preprocessing import PolynomialFeatures\n",
    "from sklearn.compose import make_column_selector\n",
    "from sklearn import set_config\n",
    "set_config(display=\"diagram\")\n",
    "from sklearn.compose import make_column_transformer\n",
    "from sklearn.impute import SimpleImputer\n",
    "from sklearn.pipeline import make_pipeline\n",
    "from sklearn.preprocessing import OrdinalEncoder\n",
    "from sklearn.preprocessing import OneHotEncoder\n",
    "from sklearn.base import BaseEstimator, TransformerMixin\n",
    "from sklearn.metrics import classification_report\n",
    "import warnings\n",
    "warnings.filterwarnings('ignore')"
   ]
  },
  {
   "cell_type": "code",
   "execution_count": 2,
   "id": "4f9e3b71",
   "metadata": {},
   "outputs": [],
   "source": [
    "df = pd.read_csv(r'C:\\Users\\Joyce Huang\\Downloads\\BT5126-HW2\\Q1_train.csv')\n",
    "df.sic = df.sic.astype('object')\n",
    "X = df.drop(['bankrupt','gvkey','datadate','conm'],axis=1)\n",
    "y = df.bankrupt\n",
    "X_train, X_test, y_train, y_test = train_test_split(X, y, test_size=0.3, random_state=42, stratify=y)"
   ]
  },
  {
   "cell_type": "markdown",
   "id": "350ee8f9",
   "metadata": {},
   "source": [
    "## Split up Categorical and numeric features"
   ]
  },
  {
   "cell_type": "code",
   "execution_count": 3,
   "id": "e8182a54",
   "metadata": {},
   "outputs": [
    {
     "data": {
      "text/plain": [
       "['sic']"
      ]
     },
     "execution_count": 3,
     "metadata": {},
     "output_type": "execute_result"
    }
   ],
   "source": [
    "cat_selector = make_column_selector(dtype_include=object)\n",
    "num_selector = make_column_selector(dtype_include=np.number)\n",
    "\n",
    "num_selector(X)\n",
    "cat_selector(X)"
   ]
  },
  {
   "cell_type": "markdown",
   "id": "f0f24f96",
   "metadata": {},
   "source": [
    "## Custom Transformer for SIC grouping"
   ]
  },
  {
   "cell_type": "code",
   "execution_count": 4,
   "id": "2463f1ad",
   "metadata": {},
   "outputs": [],
   "source": [
    "class sic_grouping(BaseEstimator, TransformerMixin):\n",
    "    def __init__(self):\n",
    "        super().__init__()\n",
    "\n",
    "    # Return self nothing else to do here\n",
    "    def fit(self, X, y=None):\n",
    "        return self\n",
    "\n",
    "    # Helper function that converts values to Binary depending on input\n",
    "    def create_group(self, obj):\n",
    "        if 999>obj>100:\n",
    "            return '1'\n",
    "        elif 1000<obj<1499:\n",
    "            return '2'\n",
    "        elif 1500<obj<1799:\n",
    "            return '3'\n",
    "        elif 1800<obj<1999:\n",
    "            return np.nan\n",
    "        elif 2000<obj<3999:\n",
    "            return '4'\n",
    "        elif 4000<obj<4999:\n",
    "            return '5'\n",
    "        elif 5000<obj<5199:\n",
    "            return '6'\n",
    "        elif 5200<obj<5999:\n",
    "            return '7'\n",
    "        elif 6000<obj<6799:\n",
    "            return '8'\n",
    "        elif 7000<obj<8999:\n",
    "            return '9'\n",
    "        elif 9100<obj<9729:\n",
    "            return '10'\n",
    "        elif 9900<obj<9999:\n",
    "            return '11'\n",
    "        else:\n",
    "            return np.nan\n",
    "\n",
    "    # Transformer method for this transformer\n",
    "    def transform(self, X, y=None):\n",
    "        # Categorical features to pass down the categorical pipeline\n",
    "        return X[['sic']].values"
   ]
  },
  {
   "cell_type": "markdown",
   "id": "cd47e3a3",
   "metadata": {},
   "source": [
    "## Adding interaction terms"
   ]
  },
  {
   "cell_type": "code",
   "execution_count": 5,
   "id": "947be82e",
   "metadata": {},
   "outputs": [],
   "source": [
    "interaction_terms = PolynomialFeatures(interaction_only=True,include_bias = False)"
   ]
  },
  {
   "cell_type": "markdown",
   "id": "985a7aef",
   "metadata": {},
   "source": [
    "## Processor 01"
   ]
  },
  {
   "cell_type": "code",
   "execution_count": 6,
   "id": "674544fa",
   "metadata": {},
   "outputs": [
    {
     "data": {
      "text/html": [
       "<style>#sk-ea8e8107-5258-454e-b0f9-4e8eadf0ae30 {color: black;background-color: white;}#sk-ea8e8107-5258-454e-b0f9-4e8eadf0ae30 pre{padding: 0;}#sk-ea8e8107-5258-454e-b0f9-4e8eadf0ae30 div.sk-toggleable {background-color: white;}#sk-ea8e8107-5258-454e-b0f9-4e8eadf0ae30 label.sk-toggleable__label {cursor: pointer;display: block;width: 100%;margin-bottom: 0;padding: 0.3em;box-sizing: border-box;text-align: center;}#sk-ea8e8107-5258-454e-b0f9-4e8eadf0ae30 label.sk-toggleable__label-arrow:before {content: \"▸\";float: left;margin-right: 0.25em;color: #696969;}#sk-ea8e8107-5258-454e-b0f9-4e8eadf0ae30 label.sk-toggleable__label-arrow:hover:before {color: black;}#sk-ea8e8107-5258-454e-b0f9-4e8eadf0ae30 div.sk-estimator:hover label.sk-toggleable__label-arrow:before {color: black;}#sk-ea8e8107-5258-454e-b0f9-4e8eadf0ae30 div.sk-toggleable__content {max-height: 0;max-width: 0;overflow: hidden;text-align: left;background-color: #f0f8ff;}#sk-ea8e8107-5258-454e-b0f9-4e8eadf0ae30 div.sk-toggleable__content pre {margin: 0.2em;color: black;border-radius: 0.25em;background-color: #f0f8ff;}#sk-ea8e8107-5258-454e-b0f9-4e8eadf0ae30 input.sk-toggleable__control:checked~div.sk-toggleable__content {max-height: 200px;max-width: 100%;overflow: auto;}#sk-ea8e8107-5258-454e-b0f9-4e8eadf0ae30 input.sk-toggleable__control:checked~label.sk-toggleable__label-arrow:before {content: \"▾\";}#sk-ea8e8107-5258-454e-b0f9-4e8eadf0ae30 div.sk-estimator input.sk-toggleable__control:checked~label.sk-toggleable__label {background-color: #d4ebff;}#sk-ea8e8107-5258-454e-b0f9-4e8eadf0ae30 div.sk-label input.sk-toggleable__control:checked~label.sk-toggleable__label {background-color: #d4ebff;}#sk-ea8e8107-5258-454e-b0f9-4e8eadf0ae30 input.sk-hidden--visually {border: 0;clip: rect(1px 1px 1px 1px);clip: rect(1px, 1px, 1px, 1px);height: 1px;margin: -1px;overflow: hidden;padding: 0;position: absolute;width: 1px;}#sk-ea8e8107-5258-454e-b0f9-4e8eadf0ae30 div.sk-estimator {font-family: monospace;background-color: #f0f8ff;border: 1px dotted black;border-radius: 0.25em;box-sizing: border-box;margin-bottom: 0.5em;}#sk-ea8e8107-5258-454e-b0f9-4e8eadf0ae30 div.sk-estimator:hover {background-color: #d4ebff;}#sk-ea8e8107-5258-454e-b0f9-4e8eadf0ae30 div.sk-parallel-item::after {content: \"\";width: 100%;border-bottom: 1px solid gray;flex-grow: 1;}#sk-ea8e8107-5258-454e-b0f9-4e8eadf0ae30 div.sk-label:hover label.sk-toggleable__label {background-color: #d4ebff;}#sk-ea8e8107-5258-454e-b0f9-4e8eadf0ae30 div.sk-serial::before {content: \"\";position: absolute;border-left: 1px solid gray;box-sizing: border-box;top: 2em;bottom: 0;left: 50%;}#sk-ea8e8107-5258-454e-b0f9-4e8eadf0ae30 div.sk-serial {display: flex;flex-direction: column;align-items: center;background-color: white;padding-right: 0.2em;padding-left: 0.2em;}#sk-ea8e8107-5258-454e-b0f9-4e8eadf0ae30 div.sk-item {z-index: 1;}#sk-ea8e8107-5258-454e-b0f9-4e8eadf0ae30 div.sk-parallel {display: flex;align-items: stretch;justify-content: center;background-color: white;}#sk-ea8e8107-5258-454e-b0f9-4e8eadf0ae30 div.sk-parallel::before {content: \"\";position: absolute;border-left: 1px solid gray;box-sizing: border-box;top: 2em;bottom: 0;left: 50%;}#sk-ea8e8107-5258-454e-b0f9-4e8eadf0ae30 div.sk-parallel-item {display: flex;flex-direction: column;position: relative;background-color: white;}#sk-ea8e8107-5258-454e-b0f9-4e8eadf0ae30 div.sk-parallel-item:first-child::after {align-self: flex-end;width: 50%;}#sk-ea8e8107-5258-454e-b0f9-4e8eadf0ae30 div.sk-parallel-item:last-child::after {align-self: flex-start;width: 50%;}#sk-ea8e8107-5258-454e-b0f9-4e8eadf0ae30 div.sk-parallel-item:only-child::after {width: 0;}#sk-ea8e8107-5258-454e-b0f9-4e8eadf0ae30 div.sk-dashed-wrapped {border: 1px dashed gray;margin: 0 0.4em 0.5em 0.4em;box-sizing: border-box;padding-bottom: 0.4em;background-color: white;position: relative;}#sk-ea8e8107-5258-454e-b0f9-4e8eadf0ae30 div.sk-label label {font-family: monospace;font-weight: bold;background-color: white;display: inline-block;line-height: 1.2em;}#sk-ea8e8107-5258-454e-b0f9-4e8eadf0ae30 div.sk-label-container {position: relative;z-index: 2;text-align: center;}#sk-ea8e8107-5258-454e-b0f9-4e8eadf0ae30 div.sk-container {/* jupyter's `normalize.less` sets `[hidden] { display: none; }` but bootstrap.min.css set `[hidden] { display: none !important; }` so we also need the `!important` here to be able to override the default hidden behavior on the sphinx rendered scikit-learn.org. See: https://github.com/scikit-learn/scikit-learn/issues/21755 */display: inline-block !important;position: relative;}#sk-ea8e8107-5258-454e-b0f9-4e8eadf0ae30 div.sk-text-repr-fallback {display: none;}</style><div id=\"sk-ea8e8107-5258-454e-b0f9-4e8eadf0ae30\" class=\"sk-top-container\"><div class=\"sk-text-repr-fallback\"><pre>ColumnTransformer(transformers=[(&#x27;polynomialfeatures&#x27;,\n",
       "                                 PolynomialFeatures(include_bias=False,\n",
       "                                                    interaction_only=True),\n",
       "                                 &lt;sklearn.compose._column_transformer.make_column_selector object at 0x00000226693C97F0&gt;),\n",
       "                                (&#x27;sic_grouping&#x27;, sic_grouping(),\n",
       "                                 &lt;sklearn.compose._column_transformer.make_column_selector object at 0x00000226693C9550&gt;)])</pre><b>Please rerun this cell to show the HTML repr or trust the notebook.</b></div><div class=\"sk-container\" hidden><div class=\"sk-item sk-dashed-wrapped\"><div class=\"sk-label-container\"><div class=\"sk-label sk-toggleable\"><input class=\"sk-toggleable__control sk-hidden--visually\" id=\"752f6bc6-f3c5-410b-9965-df5f8d0b096b\" type=\"checkbox\" ><label for=\"752f6bc6-f3c5-410b-9965-df5f8d0b096b\" class=\"sk-toggleable__label sk-toggleable__label-arrow\">ColumnTransformer</label><div class=\"sk-toggleable__content\"><pre>ColumnTransformer(transformers=[(&#x27;polynomialfeatures&#x27;,\n",
       "                                 PolynomialFeatures(include_bias=False,\n",
       "                                                    interaction_only=True),\n",
       "                                 &lt;sklearn.compose._column_transformer.make_column_selector object at 0x00000226693C97F0&gt;),\n",
       "                                (&#x27;sic_grouping&#x27;, sic_grouping(),\n",
       "                                 &lt;sklearn.compose._column_transformer.make_column_selector object at 0x00000226693C9550&gt;)])</pre></div></div></div><div class=\"sk-parallel\"><div class=\"sk-parallel-item\"><div class=\"sk-item\"><div class=\"sk-label-container\"><div class=\"sk-label sk-toggleable\"><input class=\"sk-toggleable__control sk-hidden--visually\" id=\"e23d17ff-5e12-48a4-a521-5b70cf354812\" type=\"checkbox\" ><label for=\"e23d17ff-5e12-48a4-a521-5b70cf354812\" class=\"sk-toggleable__label sk-toggleable__label-arrow\">polynomialfeatures</label><div class=\"sk-toggleable__content\"><pre>&lt;sklearn.compose._column_transformer.make_column_selector object at 0x00000226693C97F0&gt;</pre></div></div></div><div class=\"sk-serial\"><div class=\"sk-item\"><div class=\"sk-estimator sk-toggleable\"><input class=\"sk-toggleable__control sk-hidden--visually\" id=\"1fd98770-83fb-4a62-89b7-bf344e756027\" type=\"checkbox\" ><label for=\"1fd98770-83fb-4a62-89b7-bf344e756027\" class=\"sk-toggleable__label sk-toggleable__label-arrow\">PolynomialFeatures</label><div class=\"sk-toggleable__content\"><pre>PolynomialFeatures(include_bias=False, interaction_only=True)</pre></div></div></div></div></div></div><div class=\"sk-parallel-item\"><div class=\"sk-item\"><div class=\"sk-label-container\"><div class=\"sk-label sk-toggleable\"><input class=\"sk-toggleable__control sk-hidden--visually\" id=\"dd5dc7e1-cc30-420b-af8f-a68ca17d0e49\" type=\"checkbox\" ><label for=\"dd5dc7e1-cc30-420b-af8f-a68ca17d0e49\" class=\"sk-toggleable__label sk-toggleable__label-arrow\">sic_grouping</label><div class=\"sk-toggleable__content\"><pre>&lt;sklearn.compose._column_transformer.make_column_selector object at 0x00000226693C9550&gt;</pre></div></div></div><div class=\"sk-serial\"><div class=\"sk-item\"><div class=\"sk-estimator sk-toggleable\"><input class=\"sk-toggleable__control sk-hidden--visually\" id=\"12e93561-0ec6-441f-8421-a4d13d91b6f9\" type=\"checkbox\" ><label for=\"12e93561-0ec6-441f-8421-a4d13d91b6f9\" class=\"sk-toggleable__label sk-toggleable__label-arrow\">sic_grouping</label><div class=\"sk-toggleable__content\"><pre>sic_grouping()</pre></div></div></div></div></div></div></div></div></div></div>"
      ],
      "text/plain": [
       "ColumnTransformer(transformers=[('polynomialfeatures',\n",
       "                                 PolynomialFeatures(include_bias=False,\n",
       "                                                    interaction_only=True),\n",
       "                                 <sklearn.compose._column_transformer.make_column_selector object at 0x00000226693C97F0>),\n",
       "                                ('sic_grouping', sic_grouping(),\n",
       "                                 <sklearn.compose._column_transformer.make_column_selector object at 0x00000226693C9550>)])"
      ]
     },
     "execution_count": 6,
     "metadata": {},
     "output_type": "execute_result"
    }
   ],
   "source": [
    "from sklearn import preprocessing\n",
    "cat_processor = sic_grouping()\n",
    "\n",
    "preprocessor = make_column_transformer(\n",
    "    (interaction_terms, num_selector), (cat_processor, cat_selector)\n",
    ")\n",
    "\n",
    "preprocessor"
   ]
  },
  {
   "cell_type": "markdown",
   "id": "aaf517d8",
   "metadata": {},
   "source": [
    "## Processor 2: Standard Scaler and One hot encoding"
   ]
  },
  {
   "cell_type": "code",
   "execution_count": 7,
   "id": "222ffe2c",
   "metadata": {},
   "outputs": [],
   "source": [
    "# Standardization\n",
    "standard_scaler = StandardScaler()"
   ]
  },
  {
   "cell_type": "code",
   "execution_count": 8,
   "id": "5687d043",
   "metadata": {},
   "outputs": [],
   "source": [
    "# MinMax Scaling\n",
    "# minmax_scaler = MinMaxScaler()"
   ]
  },
  {
   "cell_type": "code",
   "execution_count": 9,
   "id": "83016955",
   "metadata": {},
   "outputs": [
    {
     "data": {
      "text/html": [
       "<style>#sk-62882d4a-fa04-459f-be72-576b1896035e {color: black;background-color: white;}#sk-62882d4a-fa04-459f-be72-576b1896035e pre{padding: 0;}#sk-62882d4a-fa04-459f-be72-576b1896035e div.sk-toggleable {background-color: white;}#sk-62882d4a-fa04-459f-be72-576b1896035e label.sk-toggleable__label {cursor: pointer;display: block;width: 100%;margin-bottom: 0;padding: 0.3em;box-sizing: border-box;text-align: center;}#sk-62882d4a-fa04-459f-be72-576b1896035e label.sk-toggleable__label-arrow:before {content: \"▸\";float: left;margin-right: 0.25em;color: #696969;}#sk-62882d4a-fa04-459f-be72-576b1896035e label.sk-toggleable__label-arrow:hover:before {color: black;}#sk-62882d4a-fa04-459f-be72-576b1896035e div.sk-estimator:hover label.sk-toggleable__label-arrow:before {color: black;}#sk-62882d4a-fa04-459f-be72-576b1896035e div.sk-toggleable__content {max-height: 0;max-width: 0;overflow: hidden;text-align: left;background-color: #f0f8ff;}#sk-62882d4a-fa04-459f-be72-576b1896035e div.sk-toggleable__content pre {margin: 0.2em;color: black;border-radius: 0.25em;background-color: #f0f8ff;}#sk-62882d4a-fa04-459f-be72-576b1896035e input.sk-toggleable__control:checked~div.sk-toggleable__content {max-height: 200px;max-width: 100%;overflow: auto;}#sk-62882d4a-fa04-459f-be72-576b1896035e input.sk-toggleable__control:checked~label.sk-toggleable__label-arrow:before {content: \"▾\";}#sk-62882d4a-fa04-459f-be72-576b1896035e div.sk-estimator input.sk-toggleable__control:checked~label.sk-toggleable__label {background-color: #d4ebff;}#sk-62882d4a-fa04-459f-be72-576b1896035e div.sk-label input.sk-toggleable__control:checked~label.sk-toggleable__label {background-color: #d4ebff;}#sk-62882d4a-fa04-459f-be72-576b1896035e input.sk-hidden--visually {border: 0;clip: rect(1px 1px 1px 1px);clip: rect(1px, 1px, 1px, 1px);height: 1px;margin: -1px;overflow: hidden;padding: 0;position: absolute;width: 1px;}#sk-62882d4a-fa04-459f-be72-576b1896035e div.sk-estimator {font-family: monospace;background-color: #f0f8ff;border: 1px dotted black;border-radius: 0.25em;box-sizing: border-box;margin-bottom: 0.5em;}#sk-62882d4a-fa04-459f-be72-576b1896035e div.sk-estimator:hover {background-color: #d4ebff;}#sk-62882d4a-fa04-459f-be72-576b1896035e div.sk-parallel-item::after {content: \"\";width: 100%;border-bottom: 1px solid gray;flex-grow: 1;}#sk-62882d4a-fa04-459f-be72-576b1896035e div.sk-label:hover label.sk-toggleable__label {background-color: #d4ebff;}#sk-62882d4a-fa04-459f-be72-576b1896035e div.sk-serial::before {content: \"\";position: absolute;border-left: 1px solid gray;box-sizing: border-box;top: 2em;bottom: 0;left: 50%;}#sk-62882d4a-fa04-459f-be72-576b1896035e div.sk-serial {display: flex;flex-direction: column;align-items: center;background-color: white;padding-right: 0.2em;padding-left: 0.2em;}#sk-62882d4a-fa04-459f-be72-576b1896035e div.sk-item {z-index: 1;}#sk-62882d4a-fa04-459f-be72-576b1896035e div.sk-parallel {display: flex;align-items: stretch;justify-content: center;background-color: white;}#sk-62882d4a-fa04-459f-be72-576b1896035e div.sk-parallel::before {content: \"\";position: absolute;border-left: 1px solid gray;box-sizing: border-box;top: 2em;bottom: 0;left: 50%;}#sk-62882d4a-fa04-459f-be72-576b1896035e div.sk-parallel-item {display: flex;flex-direction: column;position: relative;background-color: white;}#sk-62882d4a-fa04-459f-be72-576b1896035e div.sk-parallel-item:first-child::after {align-self: flex-end;width: 50%;}#sk-62882d4a-fa04-459f-be72-576b1896035e div.sk-parallel-item:last-child::after {align-self: flex-start;width: 50%;}#sk-62882d4a-fa04-459f-be72-576b1896035e div.sk-parallel-item:only-child::after {width: 0;}#sk-62882d4a-fa04-459f-be72-576b1896035e div.sk-dashed-wrapped {border: 1px dashed gray;margin: 0 0.4em 0.5em 0.4em;box-sizing: border-box;padding-bottom: 0.4em;background-color: white;position: relative;}#sk-62882d4a-fa04-459f-be72-576b1896035e div.sk-label label {font-family: monospace;font-weight: bold;background-color: white;display: inline-block;line-height: 1.2em;}#sk-62882d4a-fa04-459f-be72-576b1896035e div.sk-label-container {position: relative;z-index: 2;text-align: center;}#sk-62882d4a-fa04-459f-be72-576b1896035e div.sk-container {/* jupyter's `normalize.less` sets `[hidden] { display: none; }` but bootstrap.min.css set `[hidden] { display: none !important; }` so we also need the `!important` here to be able to override the default hidden behavior on the sphinx rendered scikit-learn.org. See: https://github.com/scikit-learn/scikit-learn/issues/21755 */display: inline-block !important;position: relative;}#sk-62882d4a-fa04-459f-be72-576b1896035e div.sk-text-repr-fallback {display: none;}</style><div id=\"sk-62882d4a-fa04-459f-be72-576b1896035e\" class=\"sk-top-container\"><div class=\"sk-text-repr-fallback\"><pre>ColumnTransformer(transformers=[(&#x27;pipeline-1&#x27;,\n",
       "                                 Pipeline(steps=[(&#x27;polynomialfeatures&#x27;,\n",
       "                                                  PolynomialFeatures(include_bias=False,\n",
       "                                                                     interaction_only=True)),\n",
       "                                                 (&#x27;standardscaler&#x27;,\n",
       "                                                  StandardScaler())]),\n",
       "                                 &lt;sklearn.compose._column_transformer.make_column_selector object at 0x00000226693C97F0&gt;),\n",
       "                                (&#x27;pipeline-2&#x27;,\n",
       "                                 Pipeline(steps=[(&#x27;sic_grouping&#x27;,\n",
       "                                                  sic_grouping()),\n",
       "                                                 (&#x27;onehotencoder&#x27;,\n",
       "                                                  OneHotEncoder(handle_unknown=&#x27;ignore&#x27;))]),\n",
       "                                 &lt;sklearn.compose._column_transformer.make_column_selector object at 0x00000226693C9550&gt;)])</pre><b>Please rerun this cell to show the HTML repr or trust the notebook.</b></div><div class=\"sk-container\" hidden><div class=\"sk-item sk-dashed-wrapped\"><div class=\"sk-label-container\"><div class=\"sk-label sk-toggleable\"><input class=\"sk-toggleable__control sk-hidden--visually\" id=\"8571f4e6-85eb-4c92-8b47-7f914fbd1d9e\" type=\"checkbox\" ><label for=\"8571f4e6-85eb-4c92-8b47-7f914fbd1d9e\" class=\"sk-toggleable__label sk-toggleable__label-arrow\">ColumnTransformer</label><div class=\"sk-toggleable__content\"><pre>ColumnTransformer(transformers=[(&#x27;pipeline-1&#x27;,\n",
       "                                 Pipeline(steps=[(&#x27;polynomialfeatures&#x27;,\n",
       "                                                  PolynomialFeatures(include_bias=False,\n",
       "                                                                     interaction_only=True)),\n",
       "                                                 (&#x27;standardscaler&#x27;,\n",
       "                                                  StandardScaler())]),\n",
       "                                 &lt;sklearn.compose._column_transformer.make_column_selector object at 0x00000226693C97F0&gt;),\n",
       "                                (&#x27;pipeline-2&#x27;,\n",
       "                                 Pipeline(steps=[(&#x27;sic_grouping&#x27;,\n",
       "                                                  sic_grouping()),\n",
       "                                                 (&#x27;onehotencoder&#x27;,\n",
       "                                                  OneHotEncoder(handle_unknown=&#x27;ignore&#x27;))]),\n",
       "                                 &lt;sklearn.compose._column_transformer.make_column_selector object at 0x00000226693C9550&gt;)])</pre></div></div></div><div class=\"sk-parallel\"><div class=\"sk-parallel-item\"><div class=\"sk-item\"><div class=\"sk-label-container\"><div class=\"sk-label sk-toggleable\"><input class=\"sk-toggleable__control sk-hidden--visually\" id=\"ea6b8cbc-6651-40b1-a40e-27315ef87895\" type=\"checkbox\" ><label for=\"ea6b8cbc-6651-40b1-a40e-27315ef87895\" class=\"sk-toggleable__label sk-toggleable__label-arrow\">pipeline-1</label><div class=\"sk-toggleable__content\"><pre>&lt;sklearn.compose._column_transformer.make_column_selector object at 0x00000226693C97F0&gt;</pre></div></div></div><div class=\"sk-serial\"><div class=\"sk-item\"><div class=\"sk-serial\"><div class=\"sk-item\"><div class=\"sk-estimator sk-toggleable\"><input class=\"sk-toggleable__control sk-hidden--visually\" id=\"3c880063-817d-405d-91c1-6025469d1152\" type=\"checkbox\" ><label for=\"3c880063-817d-405d-91c1-6025469d1152\" class=\"sk-toggleable__label sk-toggleable__label-arrow\">PolynomialFeatures</label><div class=\"sk-toggleable__content\"><pre>PolynomialFeatures(include_bias=False, interaction_only=True)</pre></div></div></div><div class=\"sk-item\"><div class=\"sk-estimator sk-toggleable\"><input class=\"sk-toggleable__control sk-hidden--visually\" id=\"fe584015-f3a4-47f0-9e86-2e1f694a4e46\" type=\"checkbox\" ><label for=\"fe584015-f3a4-47f0-9e86-2e1f694a4e46\" class=\"sk-toggleable__label sk-toggleable__label-arrow\">StandardScaler</label><div class=\"sk-toggleable__content\"><pre>StandardScaler()</pre></div></div></div></div></div></div></div></div><div class=\"sk-parallel-item\"><div class=\"sk-item\"><div class=\"sk-label-container\"><div class=\"sk-label sk-toggleable\"><input class=\"sk-toggleable__control sk-hidden--visually\" id=\"673dcb49-288b-4a96-a090-3b5f31953b6b\" type=\"checkbox\" ><label for=\"673dcb49-288b-4a96-a090-3b5f31953b6b\" class=\"sk-toggleable__label sk-toggleable__label-arrow\">pipeline-2</label><div class=\"sk-toggleable__content\"><pre>&lt;sklearn.compose._column_transformer.make_column_selector object at 0x00000226693C9550&gt;</pre></div></div></div><div class=\"sk-serial\"><div class=\"sk-item\"><div class=\"sk-serial\"><div class=\"sk-item\"><div class=\"sk-estimator sk-toggleable\"><input class=\"sk-toggleable__control sk-hidden--visually\" id=\"5266eb81-321d-4411-9340-d7ad3b93cfe1\" type=\"checkbox\" ><label for=\"5266eb81-321d-4411-9340-d7ad3b93cfe1\" class=\"sk-toggleable__label sk-toggleable__label-arrow\">sic_grouping</label><div class=\"sk-toggleable__content\"><pre>sic_grouping()</pre></div></div></div><div class=\"sk-item\"><div class=\"sk-estimator sk-toggleable\"><input class=\"sk-toggleable__control sk-hidden--visually\" id=\"714e934c-dae3-4e11-acbf-c34ea85b6a0b\" type=\"checkbox\" ><label for=\"714e934c-dae3-4e11-acbf-c34ea85b6a0b\" class=\"sk-toggleable__label sk-toggleable__label-arrow\">OneHotEncoder</label><div class=\"sk-toggleable__content\"><pre>OneHotEncoder(handle_unknown=&#x27;ignore&#x27;)</pre></div></div></div></div></div></div></div></div></div></div></div></div>"
      ],
      "text/plain": [
       "ColumnTransformer(transformers=[('pipeline-1',\n",
       "                                 Pipeline(steps=[('polynomialfeatures',\n",
       "                                                  PolynomialFeatures(include_bias=False,\n",
       "                                                                     interaction_only=True)),\n",
       "                                                 ('standardscaler',\n",
       "                                                  StandardScaler())]),\n",
       "                                 <sklearn.compose._column_transformer.make_column_selector object at 0x00000226693C97F0>),\n",
       "                                ('pipeline-2',\n",
       "                                 Pipeline(steps=[('sic_grouping',\n",
       "                                                  sic_grouping()),\n",
       "                                                 ('onehotencoder',\n",
       "                                                  OneHotEncoder(handle_unknown='ignore'))]),\n",
       "                                 <sklearn.compose._column_transformer.make_column_selector object at 0x00000226693C9550>)])"
      ]
     },
     "execution_count": 9,
     "metadata": {},
     "output_type": "execute_result"
    }
   ],
   "source": [
    "cat_onehot = make_pipeline(cat_processor,OneHotEncoder(handle_unknown=\"ignore\"))\n",
    "\n",
    "standard_processor = make_pipeline(interaction_terms,standard_scaler)\n",
    "\n",
    "# minmax_processor = make_pipeline(interaction_terms,minmax_scaler)\n",
    "\n",
    "second_preprocessor = make_column_transformer(\n",
    "    (standard_processor, num_selector),(cat_onehot, cat_selector)\n",
    ")\n",
    "\n",
    "second_preprocessor"
   ]
  },
  {
   "cell_type": "markdown",
   "id": "ddfbb8c3",
   "metadata": {},
   "source": [
    "## Stacking Level 0"
   ]
  },
  {
   "cell_type": "code",
   "execution_count": 10,
   "id": "7984f7dc",
   "metadata": {},
   "outputs": [
    {
     "data": {
      "text/html": [
       "<style>#sk-935b48fa-9ad8-40a6-90bd-8721fb085442 {color: black;background-color: white;}#sk-935b48fa-9ad8-40a6-90bd-8721fb085442 pre{padding: 0;}#sk-935b48fa-9ad8-40a6-90bd-8721fb085442 div.sk-toggleable {background-color: white;}#sk-935b48fa-9ad8-40a6-90bd-8721fb085442 label.sk-toggleable__label {cursor: pointer;display: block;width: 100%;margin-bottom: 0;padding: 0.3em;box-sizing: border-box;text-align: center;}#sk-935b48fa-9ad8-40a6-90bd-8721fb085442 label.sk-toggleable__label-arrow:before {content: \"▸\";float: left;margin-right: 0.25em;color: #696969;}#sk-935b48fa-9ad8-40a6-90bd-8721fb085442 label.sk-toggleable__label-arrow:hover:before {color: black;}#sk-935b48fa-9ad8-40a6-90bd-8721fb085442 div.sk-estimator:hover label.sk-toggleable__label-arrow:before {color: black;}#sk-935b48fa-9ad8-40a6-90bd-8721fb085442 div.sk-toggleable__content {max-height: 0;max-width: 0;overflow: hidden;text-align: left;background-color: #f0f8ff;}#sk-935b48fa-9ad8-40a6-90bd-8721fb085442 div.sk-toggleable__content pre {margin: 0.2em;color: black;border-radius: 0.25em;background-color: #f0f8ff;}#sk-935b48fa-9ad8-40a6-90bd-8721fb085442 input.sk-toggleable__control:checked~div.sk-toggleable__content {max-height: 200px;max-width: 100%;overflow: auto;}#sk-935b48fa-9ad8-40a6-90bd-8721fb085442 input.sk-toggleable__control:checked~label.sk-toggleable__label-arrow:before {content: \"▾\";}#sk-935b48fa-9ad8-40a6-90bd-8721fb085442 div.sk-estimator input.sk-toggleable__control:checked~label.sk-toggleable__label {background-color: #d4ebff;}#sk-935b48fa-9ad8-40a6-90bd-8721fb085442 div.sk-label input.sk-toggleable__control:checked~label.sk-toggleable__label {background-color: #d4ebff;}#sk-935b48fa-9ad8-40a6-90bd-8721fb085442 input.sk-hidden--visually {border: 0;clip: rect(1px 1px 1px 1px);clip: rect(1px, 1px, 1px, 1px);height: 1px;margin: -1px;overflow: hidden;padding: 0;position: absolute;width: 1px;}#sk-935b48fa-9ad8-40a6-90bd-8721fb085442 div.sk-estimator {font-family: monospace;background-color: #f0f8ff;border: 1px dotted black;border-radius: 0.25em;box-sizing: border-box;margin-bottom: 0.5em;}#sk-935b48fa-9ad8-40a6-90bd-8721fb085442 div.sk-estimator:hover {background-color: #d4ebff;}#sk-935b48fa-9ad8-40a6-90bd-8721fb085442 div.sk-parallel-item::after {content: \"\";width: 100%;border-bottom: 1px solid gray;flex-grow: 1;}#sk-935b48fa-9ad8-40a6-90bd-8721fb085442 div.sk-label:hover label.sk-toggleable__label {background-color: #d4ebff;}#sk-935b48fa-9ad8-40a6-90bd-8721fb085442 div.sk-serial::before {content: \"\";position: absolute;border-left: 1px solid gray;box-sizing: border-box;top: 2em;bottom: 0;left: 50%;}#sk-935b48fa-9ad8-40a6-90bd-8721fb085442 div.sk-serial {display: flex;flex-direction: column;align-items: center;background-color: white;padding-right: 0.2em;padding-left: 0.2em;}#sk-935b48fa-9ad8-40a6-90bd-8721fb085442 div.sk-item {z-index: 1;}#sk-935b48fa-9ad8-40a6-90bd-8721fb085442 div.sk-parallel {display: flex;align-items: stretch;justify-content: center;background-color: white;}#sk-935b48fa-9ad8-40a6-90bd-8721fb085442 div.sk-parallel::before {content: \"\";position: absolute;border-left: 1px solid gray;box-sizing: border-box;top: 2em;bottom: 0;left: 50%;}#sk-935b48fa-9ad8-40a6-90bd-8721fb085442 div.sk-parallel-item {display: flex;flex-direction: column;position: relative;background-color: white;}#sk-935b48fa-9ad8-40a6-90bd-8721fb085442 div.sk-parallel-item:first-child::after {align-self: flex-end;width: 50%;}#sk-935b48fa-9ad8-40a6-90bd-8721fb085442 div.sk-parallel-item:last-child::after {align-self: flex-start;width: 50%;}#sk-935b48fa-9ad8-40a6-90bd-8721fb085442 div.sk-parallel-item:only-child::after {width: 0;}#sk-935b48fa-9ad8-40a6-90bd-8721fb085442 div.sk-dashed-wrapped {border: 1px dashed gray;margin: 0 0.4em 0.5em 0.4em;box-sizing: border-box;padding-bottom: 0.4em;background-color: white;position: relative;}#sk-935b48fa-9ad8-40a6-90bd-8721fb085442 div.sk-label label {font-family: monospace;font-weight: bold;background-color: white;display: inline-block;line-height: 1.2em;}#sk-935b48fa-9ad8-40a6-90bd-8721fb085442 div.sk-label-container {position: relative;z-index: 2;text-align: center;}#sk-935b48fa-9ad8-40a6-90bd-8721fb085442 div.sk-container {/* jupyter's `normalize.less` sets `[hidden] { display: none; }` but bootstrap.min.css set `[hidden] { display: none !important; }` so we also need the `!important` here to be able to override the default hidden behavior on the sphinx rendered scikit-learn.org. See: https://github.com/scikit-learn/scikit-learn/issues/21755 */display: inline-block !important;position: relative;}#sk-935b48fa-9ad8-40a6-90bd-8721fb085442 div.sk-text-repr-fallback {display: none;}</style><div id=\"sk-935b48fa-9ad8-40a6-90bd-8721fb085442\" class=\"sk-top-container\"><div class=\"sk-text-repr-fallback\"><pre>Pipeline(steps=[(&#x27;columntransformer&#x27;,\n",
       "                 ColumnTransformer(transformers=[(&#x27;pipeline-1&#x27;,\n",
       "                                                  Pipeline(steps=[(&#x27;polynomialfeatures&#x27;,\n",
       "                                                                   PolynomialFeatures(include_bias=False,\n",
       "                                                                                      interaction_only=True)),\n",
       "                                                                  (&#x27;standardscaler&#x27;,\n",
       "                                                                   StandardScaler())]),\n",
       "                                                  &lt;sklearn.compose._column_transformer.make_column_selector object at 0x00000226693C97F0&gt;),\n",
       "                                                 (&#x27;pipeline-2&#x27;,\n",
       "                                                  Pipeline(steps=[(&#x27;sic_grouping&#x27;,\n",
       "                                                                   sic_grouping()),\n",
       "                                                                  (&#x27;onehotencoder&#x27;,\n",
       "                                                                   OneHotEncoder(handle_unknown=&#x27;ignore&#x27;))]),\n",
       "                                                  &lt;sklearn.compose._column_transformer.make_column_selector object at 0x00000226693C9550&gt;)])),\n",
       "                (&#x27;lgbmclassifier&#x27;, LGBMClassifier())])</pre><b>Please rerun this cell to show the HTML repr or trust the notebook.</b></div><div class=\"sk-container\" hidden><div class=\"sk-item sk-dashed-wrapped\"><div class=\"sk-label-container\"><div class=\"sk-label sk-toggleable\"><input class=\"sk-toggleable__control sk-hidden--visually\" id=\"980401a7-a9b6-4ebb-bc1a-f78bc4e9a3ed\" type=\"checkbox\" ><label for=\"980401a7-a9b6-4ebb-bc1a-f78bc4e9a3ed\" class=\"sk-toggleable__label sk-toggleable__label-arrow\">Pipeline</label><div class=\"sk-toggleable__content\"><pre>Pipeline(steps=[(&#x27;columntransformer&#x27;,\n",
       "                 ColumnTransformer(transformers=[(&#x27;pipeline-1&#x27;,\n",
       "                                                  Pipeline(steps=[(&#x27;polynomialfeatures&#x27;,\n",
       "                                                                   PolynomialFeatures(include_bias=False,\n",
       "                                                                                      interaction_only=True)),\n",
       "                                                                  (&#x27;standardscaler&#x27;,\n",
       "                                                                   StandardScaler())]),\n",
       "                                                  &lt;sklearn.compose._column_transformer.make_column_selector object at 0x00000226693C97F0&gt;),\n",
       "                                                 (&#x27;pipeline-2&#x27;,\n",
       "                                                  Pipeline(steps=[(&#x27;sic_grouping&#x27;,\n",
       "                                                                   sic_grouping()),\n",
       "                                                                  (&#x27;onehotencoder&#x27;,\n",
       "                                                                   OneHotEncoder(handle_unknown=&#x27;ignore&#x27;))]),\n",
       "                                                  &lt;sklearn.compose._column_transformer.make_column_selector object at 0x00000226693C9550&gt;)])),\n",
       "                (&#x27;lgbmclassifier&#x27;, LGBMClassifier())])</pre></div></div></div><div class=\"sk-serial\"><div class=\"sk-item sk-dashed-wrapped\"><div class=\"sk-label-container\"><div class=\"sk-label sk-toggleable\"><input class=\"sk-toggleable__control sk-hidden--visually\" id=\"238a9695-f802-4c47-aee5-c53a03af07c6\" type=\"checkbox\" ><label for=\"238a9695-f802-4c47-aee5-c53a03af07c6\" class=\"sk-toggleable__label sk-toggleable__label-arrow\">columntransformer: ColumnTransformer</label><div class=\"sk-toggleable__content\"><pre>ColumnTransformer(transformers=[(&#x27;pipeline-1&#x27;,\n",
       "                                 Pipeline(steps=[(&#x27;polynomialfeatures&#x27;,\n",
       "                                                  PolynomialFeatures(include_bias=False,\n",
       "                                                                     interaction_only=True)),\n",
       "                                                 (&#x27;standardscaler&#x27;,\n",
       "                                                  StandardScaler())]),\n",
       "                                 &lt;sklearn.compose._column_transformer.make_column_selector object at 0x00000226693C97F0&gt;),\n",
       "                                (&#x27;pipeline-2&#x27;,\n",
       "                                 Pipeline(steps=[(&#x27;sic_grouping&#x27;,\n",
       "                                                  sic_grouping()),\n",
       "                                                 (&#x27;onehotencoder&#x27;,\n",
       "                                                  OneHotEncoder(handle_unknown=&#x27;ignore&#x27;))]),\n",
       "                                 &lt;sklearn.compose._column_transformer.make_column_selector object at 0x00000226693C9550&gt;)])</pre></div></div></div><div class=\"sk-parallel\"><div class=\"sk-parallel-item\"><div class=\"sk-item\"><div class=\"sk-label-container\"><div class=\"sk-label sk-toggleable\"><input class=\"sk-toggleable__control sk-hidden--visually\" id=\"6f4b8e9c-2855-40dd-8eb4-dcb35e3a3121\" type=\"checkbox\" ><label for=\"6f4b8e9c-2855-40dd-8eb4-dcb35e3a3121\" class=\"sk-toggleable__label sk-toggleable__label-arrow\">pipeline-1</label><div class=\"sk-toggleable__content\"><pre>&lt;sklearn.compose._column_transformer.make_column_selector object at 0x00000226693C97F0&gt;</pre></div></div></div><div class=\"sk-serial\"><div class=\"sk-item\"><div class=\"sk-serial\"><div class=\"sk-item\"><div class=\"sk-estimator sk-toggleable\"><input class=\"sk-toggleable__control sk-hidden--visually\" id=\"e8e1fd44-24ea-4854-8e58-164ef3b958b0\" type=\"checkbox\" ><label for=\"e8e1fd44-24ea-4854-8e58-164ef3b958b0\" class=\"sk-toggleable__label sk-toggleable__label-arrow\">PolynomialFeatures</label><div class=\"sk-toggleable__content\"><pre>PolynomialFeatures(include_bias=False, interaction_only=True)</pre></div></div></div><div class=\"sk-item\"><div class=\"sk-estimator sk-toggleable\"><input class=\"sk-toggleable__control sk-hidden--visually\" id=\"51fec2c7-2d9b-4275-b4ab-6d7cec2b6568\" type=\"checkbox\" ><label for=\"51fec2c7-2d9b-4275-b4ab-6d7cec2b6568\" class=\"sk-toggleable__label sk-toggleable__label-arrow\">StandardScaler</label><div class=\"sk-toggleable__content\"><pre>StandardScaler()</pre></div></div></div></div></div></div></div></div><div class=\"sk-parallel-item\"><div class=\"sk-item\"><div class=\"sk-label-container\"><div class=\"sk-label sk-toggleable\"><input class=\"sk-toggleable__control sk-hidden--visually\" id=\"23a13145-6cb7-438b-8c74-63453e91a935\" type=\"checkbox\" ><label for=\"23a13145-6cb7-438b-8c74-63453e91a935\" class=\"sk-toggleable__label sk-toggleable__label-arrow\">pipeline-2</label><div class=\"sk-toggleable__content\"><pre>&lt;sklearn.compose._column_transformer.make_column_selector object at 0x00000226693C9550&gt;</pre></div></div></div><div class=\"sk-serial\"><div class=\"sk-item\"><div class=\"sk-serial\"><div class=\"sk-item\"><div class=\"sk-estimator sk-toggleable\"><input class=\"sk-toggleable__control sk-hidden--visually\" id=\"4545a2da-92fc-42e8-9fc9-338a1f273de6\" type=\"checkbox\" ><label for=\"4545a2da-92fc-42e8-9fc9-338a1f273de6\" class=\"sk-toggleable__label sk-toggleable__label-arrow\">sic_grouping</label><div class=\"sk-toggleable__content\"><pre>sic_grouping()</pre></div></div></div><div class=\"sk-item\"><div class=\"sk-estimator sk-toggleable\"><input class=\"sk-toggleable__control sk-hidden--visually\" id=\"adaaf2e0-de73-4f52-baf9-943151c7441b\" type=\"checkbox\" ><label for=\"adaaf2e0-de73-4f52-baf9-943151c7441b\" class=\"sk-toggleable__label sk-toggleable__label-arrow\">OneHotEncoder</label><div class=\"sk-toggleable__content\"><pre>OneHotEncoder(handle_unknown=&#x27;ignore&#x27;)</pre></div></div></div></div></div></div></div></div></div></div><div class=\"sk-item\"><div class=\"sk-estimator sk-toggleable\"><input class=\"sk-toggleable__control sk-hidden--visually\" id=\"173cedac-b4a3-40c9-afd8-5203e4bab086\" type=\"checkbox\" ><label for=\"173cedac-b4a3-40c9-afd8-5203e4bab086\" class=\"sk-toggleable__label sk-toggleable__label-arrow\">LGBMClassifier</label><div class=\"sk-toggleable__content\"><pre>LGBMClassifier()</pre></div></div></div></div></div></div></div>"
      ],
      "text/plain": [
       "Pipeline(steps=[('columntransformer',\n",
       "                 ColumnTransformer(transformers=[('pipeline-1',\n",
       "                                                  Pipeline(steps=[('polynomialfeatures',\n",
       "                                                                   PolynomialFeatures(include_bias=False,\n",
       "                                                                                      interaction_only=True)),\n",
       "                                                                  ('standardscaler',\n",
       "                                                                   StandardScaler())]),\n",
       "                                                  <sklearn.compose._column_transformer.make_column_selector object at 0x00000226693C97F0>),\n",
       "                                                 ('pipeline-2',\n",
       "                                                  Pipeline(steps=[('sic_grouping',\n",
       "                                                                   sic_grouping()),\n",
       "                                                                  ('onehotencoder',\n",
       "                                                                   OneHotEncoder(handle_unknown='ignore'))]),\n",
       "                                                  <sklearn.compose._column_transformer.make_column_selector object at 0x00000226693C9550>)])),\n",
       "                ('lgbmclassifier', LGBMClassifier())])"
      ]
     },
     "execution_count": 10,
     "metadata": {},
     "output_type": "execute_result"
    }
   ],
   "source": [
    "import lightgbm as lgb\n",
    "lightgbm_pipeline = make_pipeline(second_preprocessor, lgb.LGBMClassifier())\n",
    "lightgbm_pipeline"
   ]
  },
  {
   "cell_type": "code",
   "execution_count": 11,
   "id": "7e674d00",
   "metadata": {},
   "outputs": [
    {
     "data": {
      "text/html": [
       "<style>#sk-3068818f-6dde-4cd3-882a-a8ad40488982 {color: black;background-color: white;}#sk-3068818f-6dde-4cd3-882a-a8ad40488982 pre{padding: 0;}#sk-3068818f-6dde-4cd3-882a-a8ad40488982 div.sk-toggleable {background-color: white;}#sk-3068818f-6dde-4cd3-882a-a8ad40488982 label.sk-toggleable__label {cursor: pointer;display: block;width: 100%;margin-bottom: 0;padding: 0.3em;box-sizing: border-box;text-align: center;}#sk-3068818f-6dde-4cd3-882a-a8ad40488982 label.sk-toggleable__label-arrow:before {content: \"▸\";float: left;margin-right: 0.25em;color: #696969;}#sk-3068818f-6dde-4cd3-882a-a8ad40488982 label.sk-toggleable__label-arrow:hover:before {color: black;}#sk-3068818f-6dde-4cd3-882a-a8ad40488982 div.sk-estimator:hover label.sk-toggleable__label-arrow:before {color: black;}#sk-3068818f-6dde-4cd3-882a-a8ad40488982 div.sk-toggleable__content {max-height: 0;max-width: 0;overflow: hidden;text-align: left;background-color: #f0f8ff;}#sk-3068818f-6dde-4cd3-882a-a8ad40488982 div.sk-toggleable__content pre {margin: 0.2em;color: black;border-radius: 0.25em;background-color: #f0f8ff;}#sk-3068818f-6dde-4cd3-882a-a8ad40488982 input.sk-toggleable__control:checked~div.sk-toggleable__content {max-height: 200px;max-width: 100%;overflow: auto;}#sk-3068818f-6dde-4cd3-882a-a8ad40488982 input.sk-toggleable__control:checked~label.sk-toggleable__label-arrow:before {content: \"▾\";}#sk-3068818f-6dde-4cd3-882a-a8ad40488982 div.sk-estimator input.sk-toggleable__control:checked~label.sk-toggleable__label {background-color: #d4ebff;}#sk-3068818f-6dde-4cd3-882a-a8ad40488982 div.sk-label input.sk-toggleable__control:checked~label.sk-toggleable__label {background-color: #d4ebff;}#sk-3068818f-6dde-4cd3-882a-a8ad40488982 input.sk-hidden--visually {border: 0;clip: rect(1px 1px 1px 1px);clip: rect(1px, 1px, 1px, 1px);height: 1px;margin: -1px;overflow: hidden;padding: 0;position: absolute;width: 1px;}#sk-3068818f-6dde-4cd3-882a-a8ad40488982 div.sk-estimator {font-family: monospace;background-color: #f0f8ff;border: 1px dotted black;border-radius: 0.25em;box-sizing: border-box;margin-bottom: 0.5em;}#sk-3068818f-6dde-4cd3-882a-a8ad40488982 div.sk-estimator:hover {background-color: #d4ebff;}#sk-3068818f-6dde-4cd3-882a-a8ad40488982 div.sk-parallel-item::after {content: \"\";width: 100%;border-bottom: 1px solid gray;flex-grow: 1;}#sk-3068818f-6dde-4cd3-882a-a8ad40488982 div.sk-label:hover label.sk-toggleable__label {background-color: #d4ebff;}#sk-3068818f-6dde-4cd3-882a-a8ad40488982 div.sk-serial::before {content: \"\";position: absolute;border-left: 1px solid gray;box-sizing: border-box;top: 2em;bottom: 0;left: 50%;}#sk-3068818f-6dde-4cd3-882a-a8ad40488982 div.sk-serial {display: flex;flex-direction: column;align-items: center;background-color: white;padding-right: 0.2em;padding-left: 0.2em;}#sk-3068818f-6dde-4cd3-882a-a8ad40488982 div.sk-item {z-index: 1;}#sk-3068818f-6dde-4cd3-882a-a8ad40488982 div.sk-parallel {display: flex;align-items: stretch;justify-content: center;background-color: white;}#sk-3068818f-6dde-4cd3-882a-a8ad40488982 div.sk-parallel::before {content: \"\";position: absolute;border-left: 1px solid gray;box-sizing: border-box;top: 2em;bottom: 0;left: 50%;}#sk-3068818f-6dde-4cd3-882a-a8ad40488982 div.sk-parallel-item {display: flex;flex-direction: column;position: relative;background-color: white;}#sk-3068818f-6dde-4cd3-882a-a8ad40488982 div.sk-parallel-item:first-child::after {align-self: flex-end;width: 50%;}#sk-3068818f-6dde-4cd3-882a-a8ad40488982 div.sk-parallel-item:last-child::after {align-self: flex-start;width: 50%;}#sk-3068818f-6dde-4cd3-882a-a8ad40488982 div.sk-parallel-item:only-child::after {width: 0;}#sk-3068818f-6dde-4cd3-882a-a8ad40488982 div.sk-dashed-wrapped {border: 1px dashed gray;margin: 0 0.4em 0.5em 0.4em;box-sizing: border-box;padding-bottom: 0.4em;background-color: white;position: relative;}#sk-3068818f-6dde-4cd3-882a-a8ad40488982 div.sk-label label {font-family: monospace;font-weight: bold;background-color: white;display: inline-block;line-height: 1.2em;}#sk-3068818f-6dde-4cd3-882a-a8ad40488982 div.sk-label-container {position: relative;z-index: 2;text-align: center;}#sk-3068818f-6dde-4cd3-882a-a8ad40488982 div.sk-container {/* jupyter's `normalize.less` sets `[hidden] { display: none; }` but bootstrap.min.css set `[hidden] { display: none !important; }` so we also need the `!important` here to be able to override the default hidden behavior on the sphinx rendered scikit-learn.org. See: https://github.com/scikit-learn/scikit-learn/issues/21755 */display: inline-block !important;position: relative;}#sk-3068818f-6dde-4cd3-882a-a8ad40488982 div.sk-text-repr-fallback {display: none;}</style><div id=\"sk-3068818f-6dde-4cd3-882a-a8ad40488982\" class=\"sk-top-container\"><div class=\"sk-text-repr-fallback\"><pre>Pipeline(steps=[(&#x27;columntransformer&#x27;,\n",
       "                 ColumnTransformer(transformers=[(&#x27;pipeline-1&#x27;,\n",
       "                                                  Pipeline(steps=[(&#x27;polynomialfeatures&#x27;,\n",
       "                                                                   PolynomialFeatures(include_bias=False,\n",
       "                                                                                      interaction_only=True)),\n",
       "                                                                  (&#x27;standardscaler&#x27;,\n",
       "                                                                   StandardScaler())]),\n",
       "                                                  &lt;sklearn.compose._column_transformer.make_column_selector object at 0x00000226693C97F0&gt;),\n",
       "                                                 (&#x27;pipeline-2&#x27;,\n",
       "                                                  Pipeline(steps=[(&#x27;sic_groupin...\n",
       "                               interaction_constraints=None, learning_rate=None,\n",
       "                               max_delta_step=None, max_depth=None,\n",
       "                               min_child_weight=None, missing=nan,\n",
       "                               monotone_constraints=None, n_estimators=100,\n",
       "                               n_jobs=None, num_parallel_tree=None,\n",
       "                               predictor=None, random_state=None,\n",
       "                               reg_alpha=None, reg_lambda=None,\n",
       "                               scale_pos_weight=None, subsample=None,\n",
       "                               tree_method=None, use_label_encoder=False,\n",
       "                               validate_parameters=None, verbosity=None))])</pre><b>Please rerun this cell to show the HTML repr or trust the notebook.</b></div><div class=\"sk-container\" hidden><div class=\"sk-item sk-dashed-wrapped\"><div class=\"sk-label-container\"><div class=\"sk-label sk-toggleable\"><input class=\"sk-toggleable__control sk-hidden--visually\" id=\"bc9235d4-a8a7-4d05-9072-7d6e12838863\" type=\"checkbox\" ><label for=\"bc9235d4-a8a7-4d05-9072-7d6e12838863\" class=\"sk-toggleable__label sk-toggleable__label-arrow\">Pipeline</label><div class=\"sk-toggleable__content\"><pre>Pipeline(steps=[(&#x27;columntransformer&#x27;,\n",
       "                 ColumnTransformer(transformers=[(&#x27;pipeline-1&#x27;,\n",
       "                                                  Pipeline(steps=[(&#x27;polynomialfeatures&#x27;,\n",
       "                                                                   PolynomialFeatures(include_bias=False,\n",
       "                                                                                      interaction_only=True)),\n",
       "                                                                  (&#x27;standardscaler&#x27;,\n",
       "                                                                   StandardScaler())]),\n",
       "                                                  &lt;sklearn.compose._column_transformer.make_column_selector object at 0x00000226693C97F0&gt;),\n",
       "                                                 (&#x27;pipeline-2&#x27;,\n",
       "                                                  Pipeline(steps=[(&#x27;sic_groupin...\n",
       "                               interaction_constraints=None, learning_rate=None,\n",
       "                               max_delta_step=None, max_depth=None,\n",
       "                               min_child_weight=None, missing=nan,\n",
       "                               monotone_constraints=None, n_estimators=100,\n",
       "                               n_jobs=None, num_parallel_tree=None,\n",
       "                               predictor=None, random_state=None,\n",
       "                               reg_alpha=None, reg_lambda=None,\n",
       "                               scale_pos_weight=None, subsample=None,\n",
       "                               tree_method=None, use_label_encoder=False,\n",
       "                               validate_parameters=None, verbosity=None))])</pre></div></div></div><div class=\"sk-serial\"><div class=\"sk-item sk-dashed-wrapped\"><div class=\"sk-label-container\"><div class=\"sk-label sk-toggleable\"><input class=\"sk-toggleable__control sk-hidden--visually\" id=\"561ede7b-c0e7-4ed3-8ad7-5833e4178cd8\" type=\"checkbox\" ><label for=\"561ede7b-c0e7-4ed3-8ad7-5833e4178cd8\" class=\"sk-toggleable__label sk-toggleable__label-arrow\">columntransformer: ColumnTransformer</label><div class=\"sk-toggleable__content\"><pre>ColumnTransformer(transformers=[(&#x27;pipeline-1&#x27;,\n",
       "                                 Pipeline(steps=[(&#x27;polynomialfeatures&#x27;,\n",
       "                                                  PolynomialFeatures(include_bias=False,\n",
       "                                                                     interaction_only=True)),\n",
       "                                                 (&#x27;standardscaler&#x27;,\n",
       "                                                  StandardScaler())]),\n",
       "                                 &lt;sklearn.compose._column_transformer.make_column_selector object at 0x00000226693C97F0&gt;),\n",
       "                                (&#x27;pipeline-2&#x27;,\n",
       "                                 Pipeline(steps=[(&#x27;sic_grouping&#x27;,\n",
       "                                                  sic_grouping()),\n",
       "                                                 (&#x27;onehotencoder&#x27;,\n",
       "                                                  OneHotEncoder(handle_unknown=&#x27;ignore&#x27;))]),\n",
       "                                 &lt;sklearn.compose._column_transformer.make_column_selector object at 0x00000226693C9550&gt;)])</pre></div></div></div><div class=\"sk-parallel\"><div class=\"sk-parallel-item\"><div class=\"sk-item\"><div class=\"sk-label-container\"><div class=\"sk-label sk-toggleable\"><input class=\"sk-toggleable__control sk-hidden--visually\" id=\"1527764a-c18f-4214-9315-f7b1428ba93b\" type=\"checkbox\" ><label for=\"1527764a-c18f-4214-9315-f7b1428ba93b\" class=\"sk-toggleable__label sk-toggleable__label-arrow\">pipeline-1</label><div class=\"sk-toggleable__content\"><pre>&lt;sklearn.compose._column_transformer.make_column_selector object at 0x00000226693C97F0&gt;</pre></div></div></div><div class=\"sk-serial\"><div class=\"sk-item\"><div class=\"sk-serial\"><div class=\"sk-item\"><div class=\"sk-estimator sk-toggleable\"><input class=\"sk-toggleable__control sk-hidden--visually\" id=\"4f962979-39b6-4252-957b-6e4865dc0b71\" type=\"checkbox\" ><label for=\"4f962979-39b6-4252-957b-6e4865dc0b71\" class=\"sk-toggleable__label sk-toggleable__label-arrow\">PolynomialFeatures</label><div class=\"sk-toggleable__content\"><pre>PolynomialFeatures(include_bias=False, interaction_only=True)</pre></div></div></div><div class=\"sk-item\"><div class=\"sk-estimator sk-toggleable\"><input class=\"sk-toggleable__control sk-hidden--visually\" id=\"d94e025f-705f-4e6e-a547-db4896f83d2f\" type=\"checkbox\" ><label for=\"d94e025f-705f-4e6e-a547-db4896f83d2f\" class=\"sk-toggleable__label sk-toggleable__label-arrow\">StandardScaler</label><div class=\"sk-toggleable__content\"><pre>StandardScaler()</pre></div></div></div></div></div></div></div></div><div class=\"sk-parallel-item\"><div class=\"sk-item\"><div class=\"sk-label-container\"><div class=\"sk-label sk-toggleable\"><input class=\"sk-toggleable__control sk-hidden--visually\" id=\"5b4f4e91-232e-4576-b4dc-eacffcfb4580\" type=\"checkbox\" ><label for=\"5b4f4e91-232e-4576-b4dc-eacffcfb4580\" class=\"sk-toggleable__label sk-toggleable__label-arrow\">pipeline-2</label><div class=\"sk-toggleable__content\"><pre>&lt;sklearn.compose._column_transformer.make_column_selector object at 0x00000226693C9550&gt;</pre></div></div></div><div class=\"sk-serial\"><div class=\"sk-item\"><div class=\"sk-serial\"><div class=\"sk-item\"><div class=\"sk-estimator sk-toggleable\"><input class=\"sk-toggleable__control sk-hidden--visually\" id=\"dd97caf2-c5e3-4582-85dc-579df6c2f7c8\" type=\"checkbox\" ><label for=\"dd97caf2-c5e3-4582-85dc-579df6c2f7c8\" class=\"sk-toggleable__label sk-toggleable__label-arrow\">sic_grouping</label><div class=\"sk-toggleable__content\"><pre>sic_grouping()</pre></div></div></div><div class=\"sk-item\"><div class=\"sk-estimator sk-toggleable\"><input class=\"sk-toggleable__control sk-hidden--visually\" id=\"80ba2e10-82c0-43bf-bea1-9b9b18a1858f\" type=\"checkbox\" ><label for=\"80ba2e10-82c0-43bf-bea1-9b9b18a1858f\" class=\"sk-toggleable__label sk-toggleable__label-arrow\">OneHotEncoder</label><div class=\"sk-toggleable__content\"><pre>OneHotEncoder(handle_unknown=&#x27;ignore&#x27;)</pre></div></div></div></div></div></div></div></div></div></div><div class=\"sk-item\"><div class=\"sk-estimator sk-toggleable\"><input class=\"sk-toggleable__control sk-hidden--visually\" id=\"4823214a-cf89-4eee-a6d5-6f771686f666\" type=\"checkbox\" ><label for=\"4823214a-cf89-4eee-a6d5-6f771686f666\" class=\"sk-toggleable__label sk-toggleable__label-arrow\">XGBClassifier</label><div class=\"sk-toggleable__content\"><pre>XGBClassifier(base_score=None, booster=None, colsample_bylevel=None,\n",
       "              colsample_bynode=None, colsample_bytree=None,\n",
       "              enable_categorical=False, gamma=None, gpu_id=None,\n",
       "              importance_type=None, interaction_constraints=None,\n",
       "              learning_rate=None, max_delta_step=None, max_depth=None,\n",
       "              min_child_weight=None, missing=nan, monotone_constraints=None,\n",
       "              n_estimators=100, n_jobs=None, num_parallel_tree=None,\n",
       "              predictor=None, random_state=None, reg_alpha=None,\n",
       "              reg_lambda=None, scale_pos_weight=None, subsample=None,\n",
       "              tree_method=None, use_label_encoder=False,\n",
       "              validate_parameters=None, verbosity=None)</pre></div></div></div></div></div></div></div>"
      ],
      "text/plain": [
       "Pipeline(steps=[('columntransformer',\n",
       "                 ColumnTransformer(transformers=[('pipeline-1',\n",
       "                                                  Pipeline(steps=[('polynomialfeatures',\n",
       "                                                                   PolynomialFeatures(include_bias=False,\n",
       "                                                                                      interaction_only=True)),\n",
       "                                                                  ('standardscaler',\n",
       "                                                                   StandardScaler())]),\n",
       "                                                  <sklearn.compose._column_transformer.make_column_selector object at 0x00000226693C97F0>),\n",
       "                                                 ('pipeline-2',\n",
       "                                                  Pipeline(steps=[('sic_groupin...\n",
       "                               interaction_constraints=None, learning_rate=None,\n",
       "                               max_delta_step=None, max_depth=None,\n",
       "                               min_child_weight=None, missing=nan,\n",
       "                               monotone_constraints=None, n_estimators=100,\n",
       "                               n_jobs=None, num_parallel_tree=None,\n",
       "                               predictor=None, random_state=None,\n",
       "                               reg_alpha=None, reg_lambda=None,\n",
       "                               scale_pos_weight=None, subsample=None,\n",
       "                               tree_method=None, use_label_encoder=False,\n",
       "                               validate_parameters=None, verbosity=None))])"
      ]
     },
     "execution_count": 11,
     "metadata": {},
     "output_type": "execute_result"
    }
   ],
   "source": [
    "from xgboost import XGBClassifier\n",
    "xgboost_pipeline = make_pipeline(second_preprocessor, XGBClassifier(objective='binary:logistic',use_label_encoder=False))\n",
    "xgboost_pipeline"
   ]
  },
  {
   "cell_type": "code",
   "execution_count": 12,
   "id": "1d81a07a",
   "metadata": {},
   "outputs": [
    {
     "data": {
      "text/html": [
       "<style>#sk-acc03419-babe-4021-a011-464c8bfd5137 {color: black;background-color: white;}#sk-acc03419-babe-4021-a011-464c8bfd5137 pre{padding: 0;}#sk-acc03419-babe-4021-a011-464c8bfd5137 div.sk-toggleable {background-color: white;}#sk-acc03419-babe-4021-a011-464c8bfd5137 label.sk-toggleable__label {cursor: pointer;display: block;width: 100%;margin-bottom: 0;padding: 0.3em;box-sizing: border-box;text-align: center;}#sk-acc03419-babe-4021-a011-464c8bfd5137 label.sk-toggleable__label-arrow:before {content: \"▸\";float: left;margin-right: 0.25em;color: #696969;}#sk-acc03419-babe-4021-a011-464c8bfd5137 label.sk-toggleable__label-arrow:hover:before {color: black;}#sk-acc03419-babe-4021-a011-464c8bfd5137 div.sk-estimator:hover label.sk-toggleable__label-arrow:before {color: black;}#sk-acc03419-babe-4021-a011-464c8bfd5137 div.sk-toggleable__content {max-height: 0;max-width: 0;overflow: hidden;text-align: left;background-color: #f0f8ff;}#sk-acc03419-babe-4021-a011-464c8bfd5137 div.sk-toggleable__content pre {margin: 0.2em;color: black;border-radius: 0.25em;background-color: #f0f8ff;}#sk-acc03419-babe-4021-a011-464c8bfd5137 input.sk-toggleable__control:checked~div.sk-toggleable__content {max-height: 200px;max-width: 100%;overflow: auto;}#sk-acc03419-babe-4021-a011-464c8bfd5137 input.sk-toggleable__control:checked~label.sk-toggleable__label-arrow:before {content: \"▾\";}#sk-acc03419-babe-4021-a011-464c8bfd5137 div.sk-estimator input.sk-toggleable__control:checked~label.sk-toggleable__label {background-color: #d4ebff;}#sk-acc03419-babe-4021-a011-464c8bfd5137 div.sk-label input.sk-toggleable__control:checked~label.sk-toggleable__label {background-color: #d4ebff;}#sk-acc03419-babe-4021-a011-464c8bfd5137 input.sk-hidden--visually {border: 0;clip: rect(1px 1px 1px 1px);clip: rect(1px, 1px, 1px, 1px);height: 1px;margin: -1px;overflow: hidden;padding: 0;position: absolute;width: 1px;}#sk-acc03419-babe-4021-a011-464c8bfd5137 div.sk-estimator {font-family: monospace;background-color: #f0f8ff;border: 1px dotted black;border-radius: 0.25em;box-sizing: border-box;margin-bottom: 0.5em;}#sk-acc03419-babe-4021-a011-464c8bfd5137 div.sk-estimator:hover {background-color: #d4ebff;}#sk-acc03419-babe-4021-a011-464c8bfd5137 div.sk-parallel-item::after {content: \"\";width: 100%;border-bottom: 1px solid gray;flex-grow: 1;}#sk-acc03419-babe-4021-a011-464c8bfd5137 div.sk-label:hover label.sk-toggleable__label {background-color: #d4ebff;}#sk-acc03419-babe-4021-a011-464c8bfd5137 div.sk-serial::before {content: \"\";position: absolute;border-left: 1px solid gray;box-sizing: border-box;top: 2em;bottom: 0;left: 50%;}#sk-acc03419-babe-4021-a011-464c8bfd5137 div.sk-serial {display: flex;flex-direction: column;align-items: center;background-color: white;padding-right: 0.2em;padding-left: 0.2em;}#sk-acc03419-babe-4021-a011-464c8bfd5137 div.sk-item {z-index: 1;}#sk-acc03419-babe-4021-a011-464c8bfd5137 div.sk-parallel {display: flex;align-items: stretch;justify-content: center;background-color: white;}#sk-acc03419-babe-4021-a011-464c8bfd5137 div.sk-parallel::before {content: \"\";position: absolute;border-left: 1px solid gray;box-sizing: border-box;top: 2em;bottom: 0;left: 50%;}#sk-acc03419-babe-4021-a011-464c8bfd5137 div.sk-parallel-item {display: flex;flex-direction: column;position: relative;background-color: white;}#sk-acc03419-babe-4021-a011-464c8bfd5137 div.sk-parallel-item:first-child::after {align-self: flex-end;width: 50%;}#sk-acc03419-babe-4021-a011-464c8bfd5137 div.sk-parallel-item:last-child::after {align-self: flex-start;width: 50%;}#sk-acc03419-babe-4021-a011-464c8bfd5137 div.sk-parallel-item:only-child::after {width: 0;}#sk-acc03419-babe-4021-a011-464c8bfd5137 div.sk-dashed-wrapped {border: 1px dashed gray;margin: 0 0.4em 0.5em 0.4em;box-sizing: border-box;padding-bottom: 0.4em;background-color: white;position: relative;}#sk-acc03419-babe-4021-a011-464c8bfd5137 div.sk-label label {font-family: monospace;font-weight: bold;background-color: white;display: inline-block;line-height: 1.2em;}#sk-acc03419-babe-4021-a011-464c8bfd5137 div.sk-label-container {position: relative;z-index: 2;text-align: center;}#sk-acc03419-babe-4021-a011-464c8bfd5137 div.sk-container {/* jupyter's `normalize.less` sets `[hidden] { display: none; }` but bootstrap.min.css set `[hidden] { display: none !important; }` so we also need the `!important` here to be able to override the default hidden behavior on the sphinx rendered scikit-learn.org. See: https://github.com/scikit-learn/scikit-learn/issues/21755 */display: inline-block !important;position: relative;}#sk-acc03419-babe-4021-a011-464c8bfd5137 div.sk-text-repr-fallback {display: none;}</style><div id=\"sk-acc03419-babe-4021-a011-464c8bfd5137\" class=\"sk-top-container\"><div class=\"sk-text-repr-fallback\"><pre>Pipeline(steps=[(&#x27;columntransformer&#x27;,\n",
       "                 ColumnTransformer(transformers=[(&#x27;pipeline-1&#x27;,\n",
       "                                                  Pipeline(steps=[(&#x27;polynomialfeatures&#x27;,\n",
       "                                                                   PolynomialFeatures(include_bias=False,\n",
       "                                                                                      interaction_only=True)),\n",
       "                                                                  (&#x27;standardscaler&#x27;,\n",
       "                                                                   StandardScaler())]),\n",
       "                                                  &lt;sklearn.compose._column_transformer.make_column_selector object at 0x00000226693C97F0&gt;),\n",
       "                                                 (&#x27;pipeline-2&#x27;,\n",
       "                                                  Pipeline(steps=[(&#x27;sic_grouping&#x27;,\n",
       "                                                                   sic_grouping()),\n",
       "                                                                  (&#x27;onehotencoder&#x27;,\n",
       "                                                                   OneHotEncoder(handle_unknown=&#x27;ignore&#x27;))]),\n",
       "                                                  &lt;sklearn.compose._column_transformer.make_column_selector object at 0x00000226693C9550&gt;)])),\n",
       "                (&#x27;svc&#x27;, SVC())])</pre><b>Please rerun this cell to show the HTML repr or trust the notebook.</b></div><div class=\"sk-container\" hidden><div class=\"sk-item sk-dashed-wrapped\"><div class=\"sk-label-container\"><div class=\"sk-label sk-toggleable\"><input class=\"sk-toggleable__control sk-hidden--visually\" id=\"d339bbe7-e417-42f5-883e-47d811c9a5a8\" type=\"checkbox\" ><label for=\"d339bbe7-e417-42f5-883e-47d811c9a5a8\" class=\"sk-toggleable__label sk-toggleable__label-arrow\">Pipeline</label><div class=\"sk-toggleable__content\"><pre>Pipeline(steps=[(&#x27;columntransformer&#x27;,\n",
       "                 ColumnTransformer(transformers=[(&#x27;pipeline-1&#x27;,\n",
       "                                                  Pipeline(steps=[(&#x27;polynomialfeatures&#x27;,\n",
       "                                                                   PolynomialFeatures(include_bias=False,\n",
       "                                                                                      interaction_only=True)),\n",
       "                                                                  (&#x27;standardscaler&#x27;,\n",
       "                                                                   StandardScaler())]),\n",
       "                                                  &lt;sklearn.compose._column_transformer.make_column_selector object at 0x00000226693C97F0&gt;),\n",
       "                                                 (&#x27;pipeline-2&#x27;,\n",
       "                                                  Pipeline(steps=[(&#x27;sic_grouping&#x27;,\n",
       "                                                                   sic_grouping()),\n",
       "                                                                  (&#x27;onehotencoder&#x27;,\n",
       "                                                                   OneHotEncoder(handle_unknown=&#x27;ignore&#x27;))]),\n",
       "                                                  &lt;sklearn.compose._column_transformer.make_column_selector object at 0x00000226693C9550&gt;)])),\n",
       "                (&#x27;svc&#x27;, SVC())])</pre></div></div></div><div class=\"sk-serial\"><div class=\"sk-item sk-dashed-wrapped\"><div class=\"sk-label-container\"><div class=\"sk-label sk-toggleable\"><input class=\"sk-toggleable__control sk-hidden--visually\" id=\"1ba74dd8-2ed0-4d61-98a7-430984b431ea\" type=\"checkbox\" ><label for=\"1ba74dd8-2ed0-4d61-98a7-430984b431ea\" class=\"sk-toggleable__label sk-toggleable__label-arrow\">columntransformer: ColumnTransformer</label><div class=\"sk-toggleable__content\"><pre>ColumnTransformer(transformers=[(&#x27;pipeline-1&#x27;,\n",
       "                                 Pipeline(steps=[(&#x27;polynomialfeatures&#x27;,\n",
       "                                                  PolynomialFeatures(include_bias=False,\n",
       "                                                                     interaction_only=True)),\n",
       "                                                 (&#x27;standardscaler&#x27;,\n",
       "                                                  StandardScaler())]),\n",
       "                                 &lt;sklearn.compose._column_transformer.make_column_selector object at 0x00000226693C97F0&gt;),\n",
       "                                (&#x27;pipeline-2&#x27;,\n",
       "                                 Pipeline(steps=[(&#x27;sic_grouping&#x27;,\n",
       "                                                  sic_grouping()),\n",
       "                                                 (&#x27;onehotencoder&#x27;,\n",
       "                                                  OneHotEncoder(handle_unknown=&#x27;ignore&#x27;))]),\n",
       "                                 &lt;sklearn.compose._column_transformer.make_column_selector object at 0x00000226693C9550&gt;)])</pre></div></div></div><div class=\"sk-parallel\"><div class=\"sk-parallel-item\"><div class=\"sk-item\"><div class=\"sk-label-container\"><div class=\"sk-label sk-toggleable\"><input class=\"sk-toggleable__control sk-hidden--visually\" id=\"b9de28dd-26d2-44ab-b821-a4e2a5ad545b\" type=\"checkbox\" ><label for=\"b9de28dd-26d2-44ab-b821-a4e2a5ad545b\" class=\"sk-toggleable__label sk-toggleable__label-arrow\">pipeline-1</label><div class=\"sk-toggleable__content\"><pre>&lt;sklearn.compose._column_transformer.make_column_selector object at 0x00000226693C97F0&gt;</pre></div></div></div><div class=\"sk-serial\"><div class=\"sk-item\"><div class=\"sk-serial\"><div class=\"sk-item\"><div class=\"sk-estimator sk-toggleable\"><input class=\"sk-toggleable__control sk-hidden--visually\" id=\"d17dc391-6372-49bf-bebf-352645c196ea\" type=\"checkbox\" ><label for=\"d17dc391-6372-49bf-bebf-352645c196ea\" class=\"sk-toggleable__label sk-toggleable__label-arrow\">PolynomialFeatures</label><div class=\"sk-toggleable__content\"><pre>PolynomialFeatures(include_bias=False, interaction_only=True)</pre></div></div></div><div class=\"sk-item\"><div class=\"sk-estimator sk-toggleable\"><input class=\"sk-toggleable__control sk-hidden--visually\" id=\"3e00864d-2054-4688-82dc-9d28ead599b4\" type=\"checkbox\" ><label for=\"3e00864d-2054-4688-82dc-9d28ead599b4\" class=\"sk-toggleable__label sk-toggleable__label-arrow\">StandardScaler</label><div class=\"sk-toggleable__content\"><pre>StandardScaler()</pre></div></div></div></div></div></div></div></div><div class=\"sk-parallel-item\"><div class=\"sk-item\"><div class=\"sk-label-container\"><div class=\"sk-label sk-toggleable\"><input class=\"sk-toggleable__control sk-hidden--visually\" id=\"1a5d0849-5474-4cdf-a659-a0786d6b4fe4\" type=\"checkbox\" ><label for=\"1a5d0849-5474-4cdf-a659-a0786d6b4fe4\" class=\"sk-toggleable__label sk-toggleable__label-arrow\">pipeline-2</label><div class=\"sk-toggleable__content\"><pre>&lt;sklearn.compose._column_transformer.make_column_selector object at 0x00000226693C9550&gt;</pre></div></div></div><div class=\"sk-serial\"><div class=\"sk-item\"><div class=\"sk-serial\"><div class=\"sk-item\"><div class=\"sk-estimator sk-toggleable\"><input class=\"sk-toggleable__control sk-hidden--visually\" id=\"84d1d1df-3300-41bc-bad8-bbfab8b1eb4e\" type=\"checkbox\" ><label for=\"84d1d1df-3300-41bc-bad8-bbfab8b1eb4e\" class=\"sk-toggleable__label sk-toggleable__label-arrow\">sic_grouping</label><div class=\"sk-toggleable__content\"><pre>sic_grouping()</pre></div></div></div><div class=\"sk-item\"><div class=\"sk-estimator sk-toggleable\"><input class=\"sk-toggleable__control sk-hidden--visually\" id=\"828d23f8-1cce-4ce6-bf41-7f1b5667e282\" type=\"checkbox\" ><label for=\"828d23f8-1cce-4ce6-bf41-7f1b5667e282\" class=\"sk-toggleable__label sk-toggleable__label-arrow\">OneHotEncoder</label><div class=\"sk-toggleable__content\"><pre>OneHotEncoder(handle_unknown=&#x27;ignore&#x27;)</pre></div></div></div></div></div></div></div></div></div></div><div class=\"sk-item\"><div class=\"sk-estimator sk-toggleable\"><input class=\"sk-toggleable__control sk-hidden--visually\" id=\"6451254d-c871-4976-96a4-7d37b083d3c2\" type=\"checkbox\" ><label for=\"6451254d-c871-4976-96a4-7d37b083d3c2\" class=\"sk-toggleable__label sk-toggleable__label-arrow\">SVC</label><div class=\"sk-toggleable__content\"><pre>SVC()</pre></div></div></div></div></div></div></div>"
      ],
      "text/plain": [
       "Pipeline(steps=[('columntransformer',\n",
       "                 ColumnTransformer(transformers=[('pipeline-1',\n",
       "                                                  Pipeline(steps=[('polynomialfeatures',\n",
       "                                                                   PolynomialFeatures(include_bias=False,\n",
       "                                                                                      interaction_only=True)),\n",
       "                                                                  ('standardscaler',\n",
       "                                                                   StandardScaler())]),\n",
       "                                                  <sklearn.compose._column_transformer.make_column_selector object at 0x00000226693C97F0>),\n",
       "                                                 ('pipeline-2',\n",
       "                                                  Pipeline(steps=[('sic_grouping',\n",
       "                                                                   sic_grouping()),\n",
       "                                                                  ('onehotencoder',\n",
       "                                                                   OneHotEncoder(handle_unknown='ignore'))]),\n",
       "                                                  <sklearn.compose._column_transformer.make_column_selector object at 0x00000226693C9550>)])),\n",
       "                ('svc', SVC())])"
      ]
     },
     "execution_count": 12,
     "metadata": {},
     "output_type": "execute_result"
    }
   ],
   "source": [
    "from sklearn.svm import SVC\n",
    "svm_pipeline = make_pipeline(second_preprocessor, SVC(kernel ='rbf'))\n",
    "svm_pipeline"
   ]
  },
  {
   "cell_type": "markdown",
   "id": "4ab4140e",
   "metadata": {},
   "source": [
    "## Stacking Level 1"
   ]
  },
  {
   "cell_type": "code",
   "execution_count": 13,
   "id": "86809a0b",
   "metadata": {},
   "outputs": [
    {
     "data": {
      "text/html": [
       "<style>#sk-33fe190a-f8a9-471d-963b-14f470b2a0ae {color: black;background-color: white;}#sk-33fe190a-f8a9-471d-963b-14f470b2a0ae pre{padding: 0;}#sk-33fe190a-f8a9-471d-963b-14f470b2a0ae div.sk-toggleable {background-color: white;}#sk-33fe190a-f8a9-471d-963b-14f470b2a0ae label.sk-toggleable__label {cursor: pointer;display: block;width: 100%;margin-bottom: 0;padding: 0.3em;box-sizing: border-box;text-align: center;}#sk-33fe190a-f8a9-471d-963b-14f470b2a0ae label.sk-toggleable__label-arrow:before {content: \"▸\";float: left;margin-right: 0.25em;color: #696969;}#sk-33fe190a-f8a9-471d-963b-14f470b2a0ae label.sk-toggleable__label-arrow:hover:before {color: black;}#sk-33fe190a-f8a9-471d-963b-14f470b2a0ae div.sk-estimator:hover label.sk-toggleable__label-arrow:before {color: black;}#sk-33fe190a-f8a9-471d-963b-14f470b2a0ae div.sk-toggleable__content {max-height: 0;max-width: 0;overflow: hidden;text-align: left;background-color: #f0f8ff;}#sk-33fe190a-f8a9-471d-963b-14f470b2a0ae div.sk-toggleable__content pre {margin: 0.2em;color: black;border-radius: 0.25em;background-color: #f0f8ff;}#sk-33fe190a-f8a9-471d-963b-14f470b2a0ae input.sk-toggleable__control:checked~div.sk-toggleable__content {max-height: 200px;max-width: 100%;overflow: auto;}#sk-33fe190a-f8a9-471d-963b-14f470b2a0ae input.sk-toggleable__control:checked~label.sk-toggleable__label-arrow:before {content: \"▾\";}#sk-33fe190a-f8a9-471d-963b-14f470b2a0ae div.sk-estimator input.sk-toggleable__control:checked~label.sk-toggleable__label {background-color: #d4ebff;}#sk-33fe190a-f8a9-471d-963b-14f470b2a0ae div.sk-label input.sk-toggleable__control:checked~label.sk-toggleable__label {background-color: #d4ebff;}#sk-33fe190a-f8a9-471d-963b-14f470b2a0ae input.sk-hidden--visually {border: 0;clip: rect(1px 1px 1px 1px);clip: rect(1px, 1px, 1px, 1px);height: 1px;margin: -1px;overflow: hidden;padding: 0;position: absolute;width: 1px;}#sk-33fe190a-f8a9-471d-963b-14f470b2a0ae div.sk-estimator {font-family: monospace;background-color: #f0f8ff;border: 1px dotted black;border-radius: 0.25em;box-sizing: border-box;margin-bottom: 0.5em;}#sk-33fe190a-f8a9-471d-963b-14f470b2a0ae div.sk-estimator:hover {background-color: #d4ebff;}#sk-33fe190a-f8a9-471d-963b-14f470b2a0ae div.sk-parallel-item::after {content: \"\";width: 100%;border-bottom: 1px solid gray;flex-grow: 1;}#sk-33fe190a-f8a9-471d-963b-14f470b2a0ae div.sk-label:hover label.sk-toggleable__label {background-color: #d4ebff;}#sk-33fe190a-f8a9-471d-963b-14f470b2a0ae div.sk-serial::before {content: \"\";position: absolute;border-left: 1px solid gray;box-sizing: border-box;top: 2em;bottom: 0;left: 50%;}#sk-33fe190a-f8a9-471d-963b-14f470b2a0ae div.sk-serial {display: flex;flex-direction: column;align-items: center;background-color: white;padding-right: 0.2em;padding-left: 0.2em;}#sk-33fe190a-f8a9-471d-963b-14f470b2a0ae div.sk-item {z-index: 1;}#sk-33fe190a-f8a9-471d-963b-14f470b2a0ae div.sk-parallel {display: flex;align-items: stretch;justify-content: center;background-color: white;}#sk-33fe190a-f8a9-471d-963b-14f470b2a0ae div.sk-parallel::before {content: \"\";position: absolute;border-left: 1px solid gray;box-sizing: border-box;top: 2em;bottom: 0;left: 50%;}#sk-33fe190a-f8a9-471d-963b-14f470b2a0ae div.sk-parallel-item {display: flex;flex-direction: column;position: relative;background-color: white;}#sk-33fe190a-f8a9-471d-963b-14f470b2a0ae div.sk-parallel-item:first-child::after {align-self: flex-end;width: 50%;}#sk-33fe190a-f8a9-471d-963b-14f470b2a0ae div.sk-parallel-item:last-child::after {align-self: flex-start;width: 50%;}#sk-33fe190a-f8a9-471d-963b-14f470b2a0ae div.sk-parallel-item:only-child::after {width: 0;}#sk-33fe190a-f8a9-471d-963b-14f470b2a0ae div.sk-dashed-wrapped {border: 1px dashed gray;margin: 0 0.4em 0.5em 0.4em;box-sizing: border-box;padding-bottom: 0.4em;background-color: white;position: relative;}#sk-33fe190a-f8a9-471d-963b-14f470b2a0ae div.sk-label label {font-family: monospace;font-weight: bold;background-color: white;display: inline-block;line-height: 1.2em;}#sk-33fe190a-f8a9-471d-963b-14f470b2a0ae div.sk-label-container {position: relative;z-index: 2;text-align: center;}#sk-33fe190a-f8a9-471d-963b-14f470b2a0ae div.sk-container {/* jupyter's `normalize.less` sets `[hidden] { display: none; }` but bootstrap.min.css set `[hidden] { display: none !important; }` so we also need the `!important` here to be able to override the default hidden behavior on the sphinx rendered scikit-learn.org. See: https://github.com/scikit-learn/scikit-learn/issues/21755 */display: inline-block !important;position: relative;}#sk-33fe190a-f8a9-471d-963b-14f470b2a0ae div.sk-text-repr-fallback {display: none;}</style><div id=\"sk-33fe190a-f8a9-471d-963b-14f470b2a0ae\" class=\"sk-top-container\"><div class=\"sk-text-repr-fallback\"><pre>StackingClassifier(estimators=[(&#x27;LightGBM&#x27;,\n",
       "                                Pipeline(steps=[(&#x27;columntransformer&#x27;,\n",
       "                                                 ColumnTransformer(transformers=[(&#x27;pipeline-1&#x27;,\n",
       "                                                                                  Pipeline(steps=[(&#x27;polynomialfeatures&#x27;,\n",
       "                                                                                                   PolynomialFeatures(include_bias=False,\n",
       "                                                                                                                      interaction_only=True)),\n",
       "                                                                                                  (&#x27;standardscaler&#x27;,\n",
       "                                                                                                   StandardScaler())]),\n",
       "                                                                                  &lt;sklearn.compose._column_transformer.make_column_selector object at 0x00000226693C97F0&gt;),...\n",
       "                                                                                                   StandardScaler())]),\n",
       "                                                                                  &lt;sklearn.compose._column_transformer.make_column_selector object at 0x00000226693C97F0&gt;),\n",
       "                                                                                 (&#x27;pipeline-2&#x27;,\n",
       "                                                                                  Pipeline(steps=[(&#x27;sic_grouping&#x27;,\n",
       "                                                                                                   sic_grouping()),\n",
       "                                                                                                  (&#x27;onehotencoder&#x27;,\n",
       "                                                                                                   OneHotEncoder(handle_unknown=&#x27;ignore&#x27;))]),\n",
       "                                                                                  &lt;sklearn.compose._column_transformer.make_column_selector object at 0x00000226693C9550&gt;)])),\n",
       "                                                (&#x27;svc&#x27;, SVC())]))],\n",
       "                   final_estimator=LGBMClassifier())</pre><b>Please rerun this cell to show the HTML repr or trust the notebook.</b></div><div class=\"sk-container\" hidden><div class=\"sk-item sk-dashed-wrapped\"><div class=\"sk-label-container\"><div class=\"sk-label sk-toggleable\"><input class=\"sk-toggleable__control sk-hidden--visually\" id=\"bcc8d18b-5181-4052-9a76-e025b448f029\" type=\"checkbox\" ><label for=\"bcc8d18b-5181-4052-9a76-e025b448f029\" class=\"sk-toggleable__label sk-toggleable__label-arrow\">StackingClassifier</label><div class=\"sk-toggleable__content\"><pre>StackingClassifier(estimators=[(&#x27;LightGBM&#x27;,\n",
       "                                Pipeline(steps=[(&#x27;columntransformer&#x27;,\n",
       "                                                 ColumnTransformer(transformers=[(&#x27;pipeline-1&#x27;,\n",
       "                                                                                  Pipeline(steps=[(&#x27;polynomialfeatures&#x27;,\n",
       "                                                                                                   PolynomialFeatures(include_bias=False,\n",
       "                                                                                                                      interaction_only=True)),\n",
       "                                                                                                  (&#x27;standardscaler&#x27;,\n",
       "                                                                                                   StandardScaler())]),\n",
       "                                                                                  &lt;sklearn.compose._column_transformer.make_column_selector object at 0x00000226693C97F0&gt;),...\n",
       "                                                                                                   StandardScaler())]),\n",
       "                                                                                  &lt;sklearn.compose._column_transformer.make_column_selector object at 0x00000226693C97F0&gt;),\n",
       "                                                                                 (&#x27;pipeline-2&#x27;,\n",
       "                                                                                  Pipeline(steps=[(&#x27;sic_grouping&#x27;,\n",
       "                                                                                                   sic_grouping()),\n",
       "                                                                                                  (&#x27;onehotencoder&#x27;,\n",
       "                                                                                                   OneHotEncoder(handle_unknown=&#x27;ignore&#x27;))]),\n",
       "                                                                                  &lt;sklearn.compose._column_transformer.make_column_selector object at 0x00000226693C9550&gt;)])),\n",
       "                                                (&#x27;svc&#x27;, SVC())]))],\n",
       "                   final_estimator=LGBMClassifier())</pre></div></div></div><div class=\"sk-serial\"><div class=\"sk-item\"><div class=\"sk-parallel\"><div class=\"sk-parallel-item\"><div class=\"sk-item\"><div class=\"sk-label-container\"><div class=\"sk-label sk-toggleable\"><label>LightGBM</label></div></div><div class=\"sk-serial\"><div class=\"sk-item\"><div class=\"sk-serial\"><div class=\"sk-item sk-dashed-wrapped\"><div class=\"sk-label-container\"><div class=\"sk-label sk-toggleable\"><input class=\"sk-toggleable__control sk-hidden--visually\" id=\"f2d5503b-021c-4124-b3ec-144f7da972b8\" type=\"checkbox\" ><label for=\"f2d5503b-021c-4124-b3ec-144f7da972b8\" class=\"sk-toggleable__label sk-toggleable__label-arrow\">columntransformer: ColumnTransformer</label><div class=\"sk-toggleable__content\"><pre>ColumnTransformer(transformers=[(&#x27;pipeline-1&#x27;,\n",
       "                                 Pipeline(steps=[(&#x27;polynomialfeatures&#x27;,\n",
       "                                                  PolynomialFeatures(include_bias=False,\n",
       "                                                                     interaction_only=True)),\n",
       "                                                 (&#x27;standardscaler&#x27;,\n",
       "                                                  StandardScaler())]),\n",
       "                                 &lt;sklearn.compose._column_transformer.make_column_selector object at 0x00000226693C97F0&gt;),\n",
       "                                (&#x27;pipeline-2&#x27;,\n",
       "                                 Pipeline(steps=[(&#x27;sic_grouping&#x27;,\n",
       "                                                  sic_grouping()),\n",
       "                                                 (&#x27;onehotencoder&#x27;,\n",
       "                                                  OneHotEncoder(handle_unknown=&#x27;ignore&#x27;))]),\n",
       "                                 &lt;sklearn.compose._column_transformer.make_column_selector object at 0x00000226693C9550&gt;)])</pre></div></div></div><div class=\"sk-parallel\"><div class=\"sk-parallel-item\"><div class=\"sk-item\"><div class=\"sk-label-container\"><div class=\"sk-label sk-toggleable\"><input class=\"sk-toggleable__control sk-hidden--visually\" id=\"e1f58d34-7fad-47e1-add1-2596a0fd290c\" type=\"checkbox\" ><label for=\"e1f58d34-7fad-47e1-add1-2596a0fd290c\" class=\"sk-toggleable__label sk-toggleable__label-arrow\">pipeline-1</label><div class=\"sk-toggleable__content\"><pre>&lt;sklearn.compose._column_transformer.make_column_selector object at 0x00000226693C97F0&gt;</pre></div></div></div><div class=\"sk-serial\"><div class=\"sk-item\"><div class=\"sk-serial\"><div class=\"sk-item\"><div class=\"sk-estimator sk-toggleable\"><input class=\"sk-toggleable__control sk-hidden--visually\" id=\"1b03dac3-6826-481f-99f4-94f680ef5d4b\" type=\"checkbox\" ><label for=\"1b03dac3-6826-481f-99f4-94f680ef5d4b\" class=\"sk-toggleable__label sk-toggleable__label-arrow\">PolynomialFeatures</label><div class=\"sk-toggleable__content\"><pre>PolynomialFeatures(include_bias=False, interaction_only=True)</pre></div></div></div><div class=\"sk-item\"><div class=\"sk-estimator sk-toggleable\"><input class=\"sk-toggleable__control sk-hidden--visually\" id=\"f2ca208a-de97-45ec-bbe9-aa1059aeafed\" type=\"checkbox\" ><label for=\"f2ca208a-de97-45ec-bbe9-aa1059aeafed\" class=\"sk-toggleable__label sk-toggleable__label-arrow\">StandardScaler</label><div class=\"sk-toggleable__content\"><pre>StandardScaler()</pre></div></div></div></div></div></div></div></div><div class=\"sk-parallel-item\"><div class=\"sk-item\"><div class=\"sk-label-container\"><div class=\"sk-label sk-toggleable\"><input class=\"sk-toggleable__control sk-hidden--visually\" id=\"13817901-3b45-441a-9695-b816c6acaea8\" type=\"checkbox\" ><label for=\"13817901-3b45-441a-9695-b816c6acaea8\" class=\"sk-toggleable__label sk-toggleable__label-arrow\">pipeline-2</label><div class=\"sk-toggleable__content\"><pre>&lt;sklearn.compose._column_transformer.make_column_selector object at 0x00000226693C9550&gt;</pre></div></div></div><div class=\"sk-serial\"><div class=\"sk-item\"><div class=\"sk-serial\"><div class=\"sk-item\"><div class=\"sk-estimator sk-toggleable\"><input class=\"sk-toggleable__control sk-hidden--visually\" id=\"24dd9821-d406-4568-bb5a-9d55e245d27f\" type=\"checkbox\" ><label for=\"24dd9821-d406-4568-bb5a-9d55e245d27f\" class=\"sk-toggleable__label sk-toggleable__label-arrow\">sic_grouping</label><div class=\"sk-toggleable__content\"><pre>sic_grouping()</pre></div></div></div><div class=\"sk-item\"><div class=\"sk-estimator sk-toggleable\"><input class=\"sk-toggleable__control sk-hidden--visually\" id=\"729dda69-ed63-4468-9169-b0d24f473cb7\" type=\"checkbox\" ><label for=\"729dda69-ed63-4468-9169-b0d24f473cb7\" class=\"sk-toggleable__label sk-toggleable__label-arrow\">OneHotEncoder</label><div class=\"sk-toggleable__content\"><pre>OneHotEncoder(handle_unknown=&#x27;ignore&#x27;)</pre></div></div></div></div></div></div></div></div></div></div><div class=\"sk-item\"><div class=\"sk-estimator sk-toggleable\"><input class=\"sk-toggleable__control sk-hidden--visually\" id=\"9224e6be-d8dd-43a2-8dbe-1a46562575a8\" type=\"checkbox\" ><label for=\"9224e6be-d8dd-43a2-8dbe-1a46562575a8\" class=\"sk-toggleable__label sk-toggleable__label-arrow\">LGBMClassifier</label><div class=\"sk-toggleable__content\"><pre>LGBMClassifier()</pre></div></div></div></div></div></div></div></div><div class=\"sk-parallel-item\"><div class=\"sk-item\"><div class=\"sk-label-container\"><div class=\"sk-label sk-toggleable\"><label>XGBoost</label></div></div><div class=\"sk-serial\"><div class=\"sk-item\"><div class=\"sk-serial\"><div class=\"sk-item sk-dashed-wrapped\"><div class=\"sk-label-container\"><div class=\"sk-label sk-toggleable\"><input class=\"sk-toggleable__control sk-hidden--visually\" id=\"05660f2e-189a-4e35-bddc-c6e3ba390954\" type=\"checkbox\" ><label for=\"05660f2e-189a-4e35-bddc-c6e3ba390954\" class=\"sk-toggleable__label sk-toggleable__label-arrow\">columntransformer: ColumnTransformer</label><div class=\"sk-toggleable__content\"><pre>ColumnTransformer(transformers=[(&#x27;pipeline-1&#x27;,\n",
       "                                 Pipeline(steps=[(&#x27;polynomialfeatures&#x27;,\n",
       "                                                  PolynomialFeatures(include_bias=False,\n",
       "                                                                     interaction_only=True)),\n",
       "                                                 (&#x27;standardscaler&#x27;,\n",
       "                                                  StandardScaler())]),\n",
       "                                 &lt;sklearn.compose._column_transformer.make_column_selector object at 0x00000226693C97F0&gt;),\n",
       "                                (&#x27;pipeline-2&#x27;,\n",
       "                                 Pipeline(steps=[(&#x27;sic_grouping&#x27;,\n",
       "                                                  sic_grouping()),\n",
       "                                                 (&#x27;onehotencoder&#x27;,\n",
       "                                                  OneHotEncoder(handle_unknown=&#x27;ignore&#x27;))]),\n",
       "                                 &lt;sklearn.compose._column_transformer.make_column_selector object at 0x00000226693C9550&gt;)])</pre></div></div></div><div class=\"sk-parallel\"><div class=\"sk-parallel-item\"><div class=\"sk-item\"><div class=\"sk-label-container\"><div class=\"sk-label sk-toggleable\"><input class=\"sk-toggleable__control sk-hidden--visually\" id=\"90cbd1b5-53a7-4170-b8e9-b75a8dc774df\" type=\"checkbox\" ><label for=\"90cbd1b5-53a7-4170-b8e9-b75a8dc774df\" class=\"sk-toggleable__label sk-toggleable__label-arrow\">pipeline-1</label><div class=\"sk-toggleable__content\"><pre>&lt;sklearn.compose._column_transformer.make_column_selector object at 0x00000226693C97F0&gt;</pre></div></div></div><div class=\"sk-serial\"><div class=\"sk-item\"><div class=\"sk-serial\"><div class=\"sk-item\"><div class=\"sk-estimator sk-toggleable\"><input class=\"sk-toggleable__control sk-hidden--visually\" id=\"98185afd-8a8e-4f20-9c5b-74caff1e3ae2\" type=\"checkbox\" ><label for=\"98185afd-8a8e-4f20-9c5b-74caff1e3ae2\" class=\"sk-toggleable__label sk-toggleable__label-arrow\">PolynomialFeatures</label><div class=\"sk-toggleable__content\"><pre>PolynomialFeatures(include_bias=False, interaction_only=True)</pre></div></div></div><div class=\"sk-item\"><div class=\"sk-estimator sk-toggleable\"><input class=\"sk-toggleable__control sk-hidden--visually\" id=\"b715aeac-b79e-471b-8e4a-e18e2cf515b8\" type=\"checkbox\" ><label for=\"b715aeac-b79e-471b-8e4a-e18e2cf515b8\" class=\"sk-toggleable__label sk-toggleable__label-arrow\">StandardScaler</label><div class=\"sk-toggleable__content\"><pre>StandardScaler()</pre></div></div></div></div></div></div></div></div><div class=\"sk-parallel-item\"><div class=\"sk-item\"><div class=\"sk-label-container\"><div class=\"sk-label sk-toggleable\"><input class=\"sk-toggleable__control sk-hidden--visually\" id=\"baf04f1a-fce3-4af0-9846-e5d195a60fd9\" type=\"checkbox\" ><label for=\"baf04f1a-fce3-4af0-9846-e5d195a60fd9\" class=\"sk-toggleable__label sk-toggleable__label-arrow\">pipeline-2</label><div class=\"sk-toggleable__content\"><pre>&lt;sklearn.compose._column_transformer.make_column_selector object at 0x00000226693C9550&gt;</pre></div></div></div><div class=\"sk-serial\"><div class=\"sk-item\"><div class=\"sk-serial\"><div class=\"sk-item\"><div class=\"sk-estimator sk-toggleable\"><input class=\"sk-toggleable__control sk-hidden--visually\" id=\"94175b74-8d1e-4ed3-a2cc-bccd77f0b160\" type=\"checkbox\" ><label for=\"94175b74-8d1e-4ed3-a2cc-bccd77f0b160\" class=\"sk-toggleable__label sk-toggleable__label-arrow\">sic_grouping</label><div class=\"sk-toggleable__content\"><pre>sic_grouping()</pre></div></div></div><div class=\"sk-item\"><div class=\"sk-estimator sk-toggleable\"><input class=\"sk-toggleable__control sk-hidden--visually\" id=\"bc9420de-bc60-43d3-8e3f-6dad377efbbc\" type=\"checkbox\" ><label for=\"bc9420de-bc60-43d3-8e3f-6dad377efbbc\" class=\"sk-toggleable__label sk-toggleable__label-arrow\">OneHotEncoder</label><div class=\"sk-toggleable__content\"><pre>OneHotEncoder(handle_unknown=&#x27;ignore&#x27;)</pre></div></div></div></div></div></div></div></div></div></div><div class=\"sk-item\"><div class=\"sk-estimator sk-toggleable\"><input class=\"sk-toggleable__control sk-hidden--visually\" id=\"f7bd1b17-1754-4f00-9970-260fa5faa1e7\" type=\"checkbox\" ><label for=\"f7bd1b17-1754-4f00-9970-260fa5faa1e7\" class=\"sk-toggleable__label sk-toggleable__label-arrow\">XGBClassifier</label><div class=\"sk-toggleable__content\"><pre>XGBClassifier(base_score=None, booster=None, colsample_bylevel=None,\n",
       "              colsample_bynode=None, colsample_bytree=None,\n",
       "              enable_categorical=False, gamma=None, gpu_id=None,\n",
       "              importance_type=None, interaction_constraints=None,\n",
       "              learning_rate=None, max_delta_step=None, max_depth=None,\n",
       "              min_child_weight=None, missing=nan, monotone_constraints=None,\n",
       "              n_estimators=100, n_jobs=None, num_parallel_tree=None,\n",
       "              predictor=None, random_state=None, reg_alpha=None,\n",
       "              reg_lambda=None, scale_pos_weight=None, subsample=None,\n",
       "              tree_method=None, use_label_encoder=False,\n",
       "              validate_parameters=None, verbosity=None)</pre></div></div></div></div></div></div></div></div><div class=\"sk-parallel-item\"><div class=\"sk-item\"><div class=\"sk-label-container\"><div class=\"sk-label sk-toggleable\"><label>SVM-RBF</label></div></div><div class=\"sk-serial\"><div class=\"sk-item\"><div class=\"sk-serial\"><div class=\"sk-item sk-dashed-wrapped\"><div class=\"sk-label-container\"><div class=\"sk-label sk-toggleable\"><input class=\"sk-toggleable__control sk-hidden--visually\" id=\"41f19037-b783-443e-a5d4-890a97408e52\" type=\"checkbox\" ><label for=\"41f19037-b783-443e-a5d4-890a97408e52\" class=\"sk-toggleable__label sk-toggleable__label-arrow\">columntransformer: ColumnTransformer</label><div class=\"sk-toggleable__content\"><pre>ColumnTransformer(transformers=[(&#x27;pipeline-1&#x27;,\n",
       "                                 Pipeline(steps=[(&#x27;polynomialfeatures&#x27;,\n",
       "                                                  PolynomialFeatures(include_bias=False,\n",
       "                                                                     interaction_only=True)),\n",
       "                                                 (&#x27;standardscaler&#x27;,\n",
       "                                                  StandardScaler())]),\n",
       "                                 &lt;sklearn.compose._column_transformer.make_column_selector object at 0x00000226693C97F0&gt;),\n",
       "                                (&#x27;pipeline-2&#x27;,\n",
       "                                 Pipeline(steps=[(&#x27;sic_grouping&#x27;,\n",
       "                                                  sic_grouping()),\n",
       "                                                 (&#x27;onehotencoder&#x27;,\n",
       "                                                  OneHotEncoder(handle_unknown=&#x27;ignore&#x27;))]),\n",
       "                                 &lt;sklearn.compose._column_transformer.make_column_selector object at 0x00000226693C9550&gt;)])</pre></div></div></div><div class=\"sk-parallel\"><div class=\"sk-parallel-item\"><div class=\"sk-item\"><div class=\"sk-label-container\"><div class=\"sk-label sk-toggleable\"><input class=\"sk-toggleable__control sk-hidden--visually\" id=\"8f3f49bb-ab2e-4a10-92fa-acdcd106305c\" type=\"checkbox\" ><label for=\"8f3f49bb-ab2e-4a10-92fa-acdcd106305c\" class=\"sk-toggleable__label sk-toggleable__label-arrow\">pipeline-1</label><div class=\"sk-toggleable__content\"><pre>&lt;sklearn.compose._column_transformer.make_column_selector object at 0x00000226693C97F0&gt;</pre></div></div></div><div class=\"sk-serial\"><div class=\"sk-item\"><div class=\"sk-serial\"><div class=\"sk-item\"><div class=\"sk-estimator sk-toggleable\"><input class=\"sk-toggleable__control sk-hidden--visually\" id=\"1614354f-44a2-46d0-8f3b-6f19cc04eaae\" type=\"checkbox\" ><label for=\"1614354f-44a2-46d0-8f3b-6f19cc04eaae\" class=\"sk-toggleable__label sk-toggleable__label-arrow\">PolynomialFeatures</label><div class=\"sk-toggleable__content\"><pre>PolynomialFeatures(include_bias=False, interaction_only=True)</pre></div></div></div><div class=\"sk-item\"><div class=\"sk-estimator sk-toggleable\"><input class=\"sk-toggleable__control sk-hidden--visually\" id=\"06b28f32-8d0d-43cf-b346-f1b4f32f89b6\" type=\"checkbox\" ><label for=\"06b28f32-8d0d-43cf-b346-f1b4f32f89b6\" class=\"sk-toggleable__label sk-toggleable__label-arrow\">StandardScaler</label><div class=\"sk-toggleable__content\"><pre>StandardScaler()</pre></div></div></div></div></div></div></div></div><div class=\"sk-parallel-item\"><div class=\"sk-item\"><div class=\"sk-label-container\"><div class=\"sk-label sk-toggleable\"><input class=\"sk-toggleable__control sk-hidden--visually\" id=\"39d7708a-a530-494b-b8d2-57a3089431a7\" type=\"checkbox\" ><label for=\"39d7708a-a530-494b-b8d2-57a3089431a7\" class=\"sk-toggleable__label sk-toggleable__label-arrow\">pipeline-2</label><div class=\"sk-toggleable__content\"><pre>&lt;sklearn.compose._column_transformer.make_column_selector object at 0x00000226693C9550&gt;</pre></div></div></div><div class=\"sk-serial\"><div class=\"sk-item\"><div class=\"sk-serial\"><div class=\"sk-item\"><div class=\"sk-estimator sk-toggleable\"><input class=\"sk-toggleable__control sk-hidden--visually\" id=\"fe0cbdd7-4c00-45c0-9201-d9e5b1769117\" type=\"checkbox\" ><label for=\"fe0cbdd7-4c00-45c0-9201-d9e5b1769117\" class=\"sk-toggleable__label sk-toggleable__label-arrow\">sic_grouping</label><div class=\"sk-toggleable__content\"><pre>sic_grouping()</pre></div></div></div><div class=\"sk-item\"><div class=\"sk-estimator sk-toggleable\"><input class=\"sk-toggleable__control sk-hidden--visually\" id=\"968c3d02-1f7c-4966-bb77-c7762150b9ca\" type=\"checkbox\" ><label for=\"968c3d02-1f7c-4966-bb77-c7762150b9ca\" class=\"sk-toggleable__label sk-toggleable__label-arrow\">OneHotEncoder</label><div class=\"sk-toggleable__content\"><pre>OneHotEncoder(handle_unknown=&#x27;ignore&#x27;)</pre></div></div></div></div></div></div></div></div></div></div><div class=\"sk-item\"><div class=\"sk-estimator sk-toggleable\"><input class=\"sk-toggleable__control sk-hidden--visually\" id=\"ea27a3e5-9321-4930-a17c-6fa8b74a4101\" type=\"checkbox\" ><label for=\"ea27a3e5-9321-4930-a17c-6fa8b74a4101\" class=\"sk-toggleable__label sk-toggleable__label-arrow\">SVC</label><div class=\"sk-toggleable__content\"><pre>SVC()</pre></div></div></div></div></div></div></div></div></div></div><div class=\"sk-item\"><div class=\"sk-parallel\"><div class=\"sk-parallel-item\"><div class=\"sk-item\"><div class=\"sk-label-container\"><div class=\"sk-label sk-toggleable\"><label>final_estimator</label></div></div><div class=\"sk-serial\"><div class=\"sk-item\"><div class=\"sk-estimator sk-toggleable\"><input class=\"sk-toggleable__control sk-hidden--visually\" id=\"e6bdb0f9-dcd2-49ee-beec-e645999e7f97\" type=\"checkbox\" ><label for=\"e6bdb0f9-dcd2-49ee-beec-e645999e7f97\" class=\"sk-toggleable__label sk-toggleable__label-arrow\">LGBMClassifier</label><div class=\"sk-toggleable__content\"><pre>LGBMClassifier()</pre></div></div></div></div></div></div></div></div></div></div></div></div>"
      ],
      "text/plain": [
       "StackingClassifier(estimators=[('LightGBM',\n",
       "                                Pipeline(steps=[('columntransformer',\n",
       "                                                 ColumnTransformer(transformers=[('pipeline-1',\n",
       "                                                                                  Pipeline(steps=[('polynomialfeatures',\n",
       "                                                                                                   PolynomialFeatures(include_bias=False,\n",
       "                                                                                                                      interaction_only=True)),\n",
       "                                                                                                  ('standardscaler',\n",
       "                                                                                                   StandardScaler())]),\n",
       "                                                                                  <sklearn.compose._column_transformer.make_column_selector object at 0x00000226693C97F0>),...\n",
       "                                                                                                   StandardScaler())]),\n",
       "                                                                                  <sklearn.compose._column_transformer.make_column_selector object at 0x00000226693C97F0>),\n",
       "                                                                                 ('pipeline-2',\n",
       "                                                                                  Pipeline(steps=[('sic_grouping',\n",
       "                                                                                                   sic_grouping()),\n",
       "                                                                                                  ('onehotencoder',\n",
       "                                                                                                   OneHotEncoder(handle_unknown='ignore'))]),\n",
       "                                                                                  <sklearn.compose._column_transformer.make_column_selector object at 0x00000226693C9550>)])),\n",
       "                                                ('svc', SVC())]))],\n",
       "                   final_estimator=LGBMClassifier())"
      ]
     },
     "execution_count": 13,
     "metadata": {},
     "output_type": "execute_result"
    }
   ],
   "source": [
    "from sklearn.ensemble import StackingClassifier\n",
    "\n",
    "estimators = [\n",
    "    (\"LightGBM\", lightgbm_pipeline),\n",
    "    (\"XGBoost\", xgboost_pipeline),\n",
    "    (\"SVM-RBF\", svm_pipeline),\n",
    "]\n",
    "\n",
    "stacking_classifier = StackingClassifier(estimators=estimators, final_estimator=lgb.LGBMClassifier())\n",
    "stacking_classifier"
   ]
  },
  {
   "cell_type": "markdown",
   "id": "d514b222",
   "metadata": {},
   "source": [
    "## Performance on Stacking model without tuning"
   ]
  },
  {
   "cell_type": "code",
   "execution_count": 14,
   "id": "4f5a0c65",
   "metadata": {},
   "outputs": [
    {
     "name": "stdout",
     "output_type": "stream",
     "text": [
      "[14:44:18] WARNING: C:/Users/Administrator/workspace/xgboost-win64_release_1.5.1/src/learner.cc:1115: Starting in XGBoost 1.3.0, the default evaluation metric used with the objective 'binary:logistic' was changed from 'error' to 'logloss'. Explicitly set eval_metric if you'd like to restore the old behavior.\n",
      "[14:44:49] WARNING: C:/Users/Administrator/workspace/xgboost-win64_release_1.5.1/src/learner.cc:1115: Starting in XGBoost 1.3.0, the default evaluation metric used with the objective 'binary:logistic' was changed from 'error' to 'logloss'. Explicitly set eval_metric if you'd like to restore the old behavior.\n",
      "[14:45:03] WARNING: C:/Users/Administrator/workspace/xgboost-win64_release_1.5.1/src/learner.cc:1115: Starting in XGBoost 1.3.0, the default evaluation metric used with the objective 'binary:logistic' was changed from 'error' to 'logloss'. Explicitly set eval_metric if you'd like to restore the old behavior.\n",
      "[14:45:16] WARNING: C:/Users/Administrator/workspace/xgboost-win64_release_1.5.1/src/learner.cc:1115: Starting in XGBoost 1.3.0, the default evaluation metric used with the objective 'binary:logistic' was changed from 'error' to 'logloss'. Explicitly set eval_metric if you'd like to restore the old behavior.\n",
      "[14:45:30] WARNING: C:/Users/Administrator/workspace/xgboost-win64_release_1.5.1/src/learner.cc:1115: Starting in XGBoost 1.3.0, the default evaluation metric used with the objective 'binary:logistic' was changed from 'error' to 'logloss'. Explicitly set eval_metric if you'd like to restore the old behavior.\n",
      "[14:45:43] WARNING: C:/Users/Administrator/workspace/xgboost-win64_release_1.5.1/src/learner.cc:1115: Starting in XGBoost 1.3.0, the default evaluation metric used with the objective 'binary:logistic' was changed from 'error' to 'logloss'. Explicitly set eval_metric if you'd like to restore the old behavior.\n"
     ]
    },
    {
     "data": {
      "text/html": [
       "<style>#sk-13b1b399-db5f-4a11-a871-6ea1572950dd {color: black;background-color: white;}#sk-13b1b399-db5f-4a11-a871-6ea1572950dd pre{padding: 0;}#sk-13b1b399-db5f-4a11-a871-6ea1572950dd div.sk-toggleable {background-color: white;}#sk-13b1b399-db5f-4a11-a871-6ea1572950dd label.sk-toggleable__label {cursor: pointer;display: block;width: 100%;margin-bottom: 0;padding: 0.3em;box-sizing: border-box;text-align: center;}#sk-13b1b399-db5f-4a11-a871-6ea1572950dd label.sk-toggleable__label-arrow:before {content: \"▸\";float: left;margin-right: 0.25em;color: #696969;}#sk-13b1b399-db5f-4a11-a871-6ea1572950dd label.sk-toggleable__label-arrow:hover:before {color: black;}#sk-13b1b399-db5f-4a11-a871-6ea1572950dd div.sk-estimator:hover label.sk-toggleable__label-arrow:before {color: black;}#sk-13b1b399-db5f-4a11-a871-6ea1572950dd div.sk-toggleable__content {max-height: 0;max-width: 0;overflow: hidden;text-align: left;background-color: #f0f8ff;}#sk-13b1b399-db5f-4a11-a871-6ea1572950dd div.sk-toggleable__content pre {margin: 0.2em;color: black;border-radius: 0.25em;background-color: #f0f8ff;}#sk-13b1b399-db5f-4a11-a871-6ea1572950dd input.sk-toggleable__control:checked~div.sk-toggleable__content {max-height: 200px;max-width: 100%;overflow: auto;}#sk-13b1b399-db5f-4a11-a871-6ea1572950dd input.sk-toggleable__control:checked~label.sk-toggleable__label-arrow:before {content: \"▾\";}#sk-13b1b399-db5f-4a11-a871-6ea1572950dd div.sk-estimator input.sk-toggleable__control:checked~label.sk-toggleable__label {background-color: #d4ebff;}#sk-13b1b399-db5f-4a11-a871-6ea1572950dd div.sk-label input.sk-toggleable__control:checked~label.sk-toggleable__label {background-color: #d4ebff;}#sk-13b1b399-db5f-4a11-a871-6ea1572950dd input.sk-hidden--visually {border: 0;clip: rect(1px 1px 1px 1px);clip: rect(1px, 1px, 1px, 1px);height: 1px;margin: -1px;overflow: hidden;padding: 0;position: absolute;width: 1px;}#sk-13b1b399-db5f-4a11-a871-6ea1572950dd div.sk-estimator {font-family: monospace;background-color: #f0f8ff;border: 1px dotted black;border-radius: 0.25em;box-sizing: border-box;margin-bottom: 0.5em;}#sk-13b1b399-db5f-4a11-a871-6ea1572950dd div.sk-estimator:hover {background-color: #d4ebff;}#sk-13b1b399-db5f-4a11-a871-6ea1572950dd div.sk-parallel-item::after {content: \"\";width: 100%;border-bottom: 1px solid gray;flex-grow: 1;}#sk-13b1b399-db5f-4a11-a871-6ea1572950dd div.sk-label:hover label.sk-toggleable__label {background-color: #d4ebff;}#sk-13b1b399-db5f-4a11-a871-6ea1572950dd div.sk-serial::before {content: \"\";position: absolute;border-left: 1px solid gray;box-sizing: border-box;top: 2em;bottom: 0;left: 50%;}#sk-13b1b399-db5f-4a11-a871-6ea1572950dd div.sk-serial {display: flex;flex-direction: column;align-items: center;background-color: white;padding-right: 0.2em;padding-left: 0.2em;}#sk-13b1b399-db5f-4a11-a871-6ea1572950dd div.sk-item {z-index: 1;}#sk-13b1b399-db5f-4a11-a871-6ea1572950dd div.sk-parallel {display: flex;align-items: stretch;justify-content: center;background-color: white;}#sk-13b1b399-db5f-4a11-a871-6ea1572950dd div.sk-parallel::before {content: \"\";position: absolute;border-left: 1px solid gray;box-sizing: border-box;top: 2em;bottom: 0;left: 50%;}#sk-13b1b399-db5f-4a11-a871-6ea1572950dd div.sk-parallel-item {display: flex;flex-direction: column;position: relative;background-color: white;}#sk-13b1b399-db5f-4a11-a871-6ea1572950dd div.sk-parallel-item:first-child::after {align-self: flex-end;width: 50%;}#sk-13b1b399-db5f-4a11-a871-6ea1572950dd div.sk-parallel-item:last-child::after {align-self: flex-start;width: 50%;}#sk-13b1b399-db5f-4a11-a871-6ea1572950dd div.sk-parallel-item:only-child::after {width: 0;}#sk-13b1b399-db5f-4a11-a871-6ea1572950dd div.sk-dashed-wrapped {border: 1px dashed gray;margin: 0 0.4em 0.5em 0.4em;box-sizing: border-box;padding-bottom: 0.4em;background-color: white;position: relative;}#sk-13b1b399-db5f-4a11-a871-6ea1572950dd div.sk-label label {font-family: monospace;font-weight: bold;background-color: white;display: inline-block;line-height: 1.2em;}#sk-13b1b399-db5f-4a11-a871-6ea1572950dd div.sk-label-container {position: relative;z-index: 2;text-align: center;}#sk-13b1b399-db5f-4a11-a871-6ea1572950dd div.sk-container {/* jupyter's `normalize.less` sets `[hidden] { display: none; }` but bootstrap.min.css set `[hidden] { display: none !important; }` so we also need the `!important` here to be able to override the default hidden behavior on the sphinx rendered scikit-learn.org. See: https://github.com/scikit-learn/scikit-learn/issues/21755 */display: inline-block !important;position: relative;}#sk-13b1b399-db5f-4a11-a871-6ea1572950dd div.sk-text-repr-fallback {display: none;}</style><div id=\"sk-13b1b399-db5f-4a11-a871-6ea1572950dd\" class=\"sk-top-container\"><div class=\"sk-text-repr-fallback\"><pre>StackingClassifier(estimators=[(&#x27;LightGBM&#x27;,\n",
       "                                Pipeline(steps=[(&#x27;columntransformer&#x27;,\n",
       "                                                 ColumnTransformer(transformers=[(&#x27;pipeline-1&#x27;,\n",
       "                                                                                  Pipeline(steps=[(&#x27;polynomialfeatures&#x27;,\n",
       "                                                                                                   PolynomialFeatures(include_bias=False,\n",
       "                                                                                                                      interaction_only=True)),\n",
       "                                                                                                  (&#x27;standardscaler&#x27;,\n",
       "                                                                                                   StandardScaler())]),\n",
       "                                                                                  &lt;sklearn.compose._column_transformer.make_column_selector object at 0x00000226693C97F0&gt;),...\n",
       "                                                                                                   StandardScaler())]),\n",
       "                                                                                  &lt;sklearn.compose._column_transformer.make_column_selector object at 0x00000226693C97F0&gt;),\n",
       "                                                                                 (&#x27;pipeline-2&#x27;,\n",
       "                                                                                  Pipeline(steps=[(&#x27;sic_grouping&#x27;,\n",
       "                                                                                                   sic_grouping()),\n",
       "                                                                                                  (&#x27;onehotencoder&#x27;,\n",
       "                                                                                                   OneHotEncoder(handle_unknown=&#x27;ignore&#x27;))]),\n",
       "                                                                                  &lt;sklearn.compose._column_transformer.make_column_selector object at 0x00000226693C9550&gt;)])),\n",
       "                                                (&#x27;svc&#x27;, SVC())]))],\n",
       "                   final_estimator=LGBMClassifier())</pre><b>Please rerun this cell to show the HTML repr or trust the notebook.</b></div><div class=\"sk-container\" hidden><div class=\"sk-item sk-dashed-wrapped\"><div class=\"sk-label-container\"><div class=\"sk-label sk-toggleable\"><input class=\"sk-toggleable__control sk-hidden--visually\" id=\"cbf92d96-b6ee-431e-a974-7162d36232ab\" type=\"checkbox\" ><label for=\"cbf92d96-b6ee-431e-a974-7162d36232ab\" class=\"sk-toggleable__label sk-toggleable__label-arrow\">StackingClassifier</label><div class=\"sk-toggleable__content\"><pre>StackingClassifier(estimators=[(&#x27;LightGBM&#x27;,\n",
       "                                Pipeline(steps=[(&#x27;columntransformer&#x27;,\n",
       "                                                 ColumnTransformer(transformers=[(&#x27;pipeline-1&#x27;,\n",
       "                                                                                  Pipeline(steps=[(&#x27;polynomialfeatures&#x27;,\n",
       "                                                                                                   PolynomialFeatures(include_bias=False,\n",
       "                                                                                                                      interaction_only=True)),\n",
       "                                                                                                  (&#x27;standardscaler&#x27;,\n",
       "                                                                                                   StandardScaler())]),\n",
       "                                                                                  &lt;sklearn.compose._column_transformer.make_column_selector object at 0x00000226693C97F0&gt;),...\n",
       "                                                                                                   StandardScaler())]),\n",
       "                                                                                  &lt;sklearn.compose._column_transformer.make_column_selector object at 0x00000226693C97F0&gt;),\n",
       "                                                                                 (&#x27;pipeline-2&#x27;,\n",
       "                                                                                  Pipeline(steps=[(&#x27;sic_grouping&#x27;,\n",
       "                                                                                                   sic_grouping()),\n",
       "                                                                                                  (&#x27;onehotencoder&#x27;,\n",
       "                                                                                                   OneHotEncoder(handle_unknown=&#x27;ignore&#x27;))]),\n",
       "                                                                                  &lt;sklearn.compose._column_transformer.make_column_selector object at 0x00000226693C9550&gt;)])),\n",
       "                                                (&#x27;svc&#x27;, SVC())]))],\n",
       "                   final_estimator=LGBMClassifier())</pre></div></div></div><div class=\"sk-serial\"><div class=\"sk-item\"><div class=\"sk-parallel\"><div class=\"sk-parallel-item\"><div class=\"sk-item\"><div class=\"sk-label-container\"><div class=\"sk-label sk-toggleable\"><label>LightGBM</label></div></div><div class=\"sk-serial\"><div class=\"sk-item\"><div class=\"sk-serial\"><div class=\"sk-item sk-dashed-wrapped\"><div class=\"sk-label-container\"><div class=\"sk-label sk-toggleable\"><input class=\"sk-toggleable__control sk-hidden--visually\" id=\"cce8915a-bce1-47ee-baa3-a6c0fb523c32\" type=\"checkbox\" ><label for=\"cce8915a-bce1-47ee-baa3-a6c0fb523c32\" class=\"sk-toggleable__label sk-toggleable__label-arrow\">columntransformer: ColumnTransformer</label><div class=\"sk-toggleable__content\"><pre>ColumnTransformer(transformers=[(&#x27;pipeline-1&#x27;,\n",
       "                                 Pipeline(steps=[(&#x27;polynomialfeatures&#x27;,\n",
       "                                                  PolynomialFeatures(include_bias=False,\n",
       "                                                                     interaction_only=True)),\n",
       "                                                 (&#x27;standardscaler&#x27;,\n",
       "                                                  StandardScaler())]),\n",
       "                                 &lt;sklearn.compose._column_transformer.make_column_selector object at 0x00000226693C97F0&gt;),\n",
       "                                (&#x27;pipeline-2&#x27;,\n",
       "                                 Pipeline(steps=[(&#x27;sic_grouping&#x27;,\n",
       "                                                  sic_grouping()),\n",
       "                                                 (&#x27;onehotencoder&#x27;,\n",
       "                                                  OneHotEncoder(handle_unknown=&#x27;ignore&#x27;))]),\n",
       "                                 &lt;sklearn.compose._column_transformer.make_column_selector object at 0x00000226693C9550&gt;)])</pre></div></div></div><div class=\"sk-parallel\"><div class=\"sk-parallel-item\"><div class=\"sk-item\"><div class=\"sk-label-container\"><div class=\"sk-label sk-toggleable\"><input class=\"sk-toggleable__control sk-hidden--visually\" id=\"470b85e5-9bd6-42b8-b741-4287ed1fb020\" type=\"checkbox\" ><label for=\"470b85e5-9bd6-42b8-b741-4287ed1fb020\" class=\"sk-toggleable__label sk-toggleable__label-arrow\">pipeline-1</label><div class=\"sk-toggleable__content\"><pre>&lt;sklearn.compose._column_transformer.make_column_selector object at 0x00000226693C97F0&gt;</pre></div></div></div><div class=\"sk-serial\"><div class=\"sk-item\"><div class=\"sk-serial\"><div class=\"sk-item\"><div class=\"sk-estimator sk-toggleable\"><input class=\"sk-toggleable__control sk-hidden--visually\" id=\"1c5aa591-45c0-4f81-82d2-4193a9c791c8\" type=\"checkbox\" ><label for=\"1c5aa591-45c0-4f81-82d2-4193a9c791c8\" class=\"sk-toggleable__label sk-toggleable__label-arrow\">PolynomialFeatures</label><div class=\"sk-toggleable__content\"><pre>PolynomialFeatures(include_bias=False, interaction_only=True)</pre></div></div></div><div class=\"sk-item\"><div class=\"sk-estimator sk-toggleable\"><input class=\"sk-toggleable__control sk-hidden--visually\" id=\"446a8dea-3a71-438d-a0b0-4098f727f5b7\" type=\"checkbox\" ><label for=\"446a8dea-3a71-438d-a0b0-4098f727f5b7\" class=\"sk-toggleable__label sk-toggleable__label-arrow\">StandardScaler</label><div class=\"sk-toggleable__content\"><pre>StandardScaler()</pre></div></div></div></div></div></div></div></div><div class=\"sk-parallel-item\"><div class=\"sk-item\"><div class=\"sk-label-container\"><div class=\"sk-label sk-toggleable\"><input class=\"sk-toggleable__control sk-hidden--visually\" id=\"653698df-fe9d-45fc-a011-453901756acf\" type=\"checkbox\" ><label for=\"653698df-fe9d-45fc-a011-453901756acf\" class=\"sk-toggleable__label sk-toggleable__label-arrow\">pipeline-2</label><div class=\"sk-toggleable__content\"><pre>&lt;sklearn.compose._column_transformer.make_column_selector object at 0x00000226693C9550&gt;</pre></div></div></div><div class=\"sk-serial\"><div class=\"sk-item\"><div class=\"sk-serial\"><div class=\"sk-item\"><div class=\"sk-estimator sk-toggleable\"><input class=\"sk-toggleable__control sk-hidden--visually\" id=\"1fe283ec-349d-4f71-a6ae-3e5595cb0f2f\" type=\"checkbox\" ><label for=\"1fe283ec-349d-4f71-a6ae-3e5595cb0f2f\" class=\"sk-toggleable__label sk-toggleable__label-arrow\">sic_grouping</label><div class=\"sk-toggleable__content\"><pre>sic_grouping()</pre></div></div></div><div class=\"sk-item\"><div class=\"sk-estimator sk-toggleable\"><input class=\"sk-toggleable__control sk-hidden--visually\" id=\"0e83ad65-8e15-42dc-9c0d-4f921a2eb696\" type=\"checkbox\" ><label for=\"0e83ad65-8e15-42dc-9c0d-4f921a2eb696\" class=\"sk-toggleable__label sk-toggleable__label-arrow\">OneHotEncoder</label><div class=\"sk-toggleable__content\"><pre>OneHotEncoder(handle_unknown=&#x27;ignore&#x27;)</pre></div></div></div></div></div></div></div></div></div></div><div class=\"sk-item\"><div class=\"sk-estimator sk-toggleable\"><input class=\"sk-toggleable__control sk-hidden--visually\" id=\"8075f097-fbe8-4d95-b9a6-d0d6fff6917d\" type=\"checkbox\" ><label for=\"8075f097-fbe8-4d95-b9a6-d0d6fff6917d\" class=\"sk-toggleable__label sk-toggleable__label-arrow\">LGBMClassifier</label><div class=\"sk-toggleable__content\"><pre>LGBMClassifier()</pre></div></div></div></div></div></div></div></div><div class=\"sk-parallel-item\"><div class=\"sk-item\"><div class=\"sk-label-container\"><div class=\"sk-label sk-toggleable\"><label>XGBoost</label></div></div><div class=\"sk-serial\"><div class=\"sk-item\"><div class=\"sk-serial\"><div class=\"sk-item sk-dashed-wrapped\"><div class=\"sk-label-container\"><div class=\"sk-label sk-toggleable\"><input class=\"sk-toggleable__control sk-hidden--visually\" id=\"2b787308-eda6-4b02-bfc7-cf3a51c3f508\" type=\"checkbox\" ><label for=\"2b787308-eda6-4b02-bfc7-cf3a51c3f508\" class=\"sk-toggleable__label sk-toggleable__label-arrow\">columntransformer: ColumnTransformer</label><div class=\"sk-toggleable__content\"><pre>ColumnTransformer(transformers=[(&#x27;pipeline-1&#x27;,\n",
       "                                 Pipeline(steps=[(&#x27;polynomialfeatures&#x27;,\n",
       "                                                  PolynomialFeatures(include_bias=False,\n",
       "                                                                     interaction_only=True)),\n",
       "                                                 (&#x27;standardscaler&#x27;,\n",
       "                                                  StandardScaler())]),\n",
       "                                 &lt;sklearn.compose._column_transformer.make_column_selector object at 0x00000226693C97F0&gt;),\n",
       "                                (&#x27;pipeline-2&#x27;,\n",
       "                                 Pipeline(steps=[(&#x27;sic_grouping&#x27;,\n",
       "                                                  sic_grouping()),\n",
       "                                                 (&#x27;onehotencoder&#x27;,\n",
       "                                                  OneHotEncoder(handle_unknown=&#x27;ignore&#x27;))]),\n",
       "                                 &lt;sklearn.compose._column_transformer.make_column_selector object at 0x00000226693C9550&gt;)])</pre></div></div></div><div class=\"sk-parallel\"><div class=\"sk-parallel-item\"><div class=\"sk-item\"><div class=\"sk-label-container\"><div class=\"sk-label sk-toggleable\"><input class=\"sk-toggleable__control sk-hidden--visually\" id=\"b11bcb25-8b0b-4302-a09d-982457a57a0c\" type=\"checkbox\" ><label for=\"b11bcb25-8b0b-4302-a09d-982457a57a0c\" class=\"sk-toggleable__label sk-toggleable__label-arrow\">pipeline-1</label><div class=\"sk-toggleable__content\"><pre>&lt;sklearn.compose._column_transformer.make_column_selector object at 0x00000226693C97F0&gt;</pre></div></div></div><div class=\"sk-serial\"><div class=\"sk-item\"><div class=\"sk-serial\"><div class=\"sk-item\"><div class=\"sk-estimator sk-toggleable\"><input class=\"sk-toggleable__control sk-hidden--visually\" id=\"8aeca6f8-b28e-43ad-9155-71b831be88cd\" type=\"checkbox\" ><label for=\"8aeca6f8-b28e-43ad-9155-71b831be88cd\" class=\"sk-toggleable__label sk-toggleable__label-arrow\">PolynomialFeatures</label><div class=\"sk-toggleable__content\"><pre>PolynomialFeatures(include_bias=False, interaction_only=True)</pre></div></div></div><div class=\"sk-item\"><div class=\"sk-estimator sk-toggleable\"><input class=\"sk-toggleable__control sk-hidden--visually\" id=\"a6f19386-477d-4311-b70b-1fd12ad25d51\" type=\"checkbox\" ><label for=\"a6f19386-477d-4311-b70b-1fd12ad25d51\" class=\"sk-toggleable__label sk-toggleable__label-arrow\">StandardScaler</label><div class=\"sk-toggleable__content\"><pre>StandardScaler()</pre></div></div></div></div></div></div></div></div><div class=\"sk-parallel-item\"><div class=\"sk-item\"><div class=\"sk-label-container\"><div class=\"sk-label sk-toggleable\"><input class=\"sk-toggleable__control sk-hidden--visually\" id=\"bfb3c1fa-428c-4884-aaa2-5c4f4be2a4a8\" type=\"checkbox\" ><label for=\"bfb3c1fa-428c-4884-aaa2-5c4f4be2a4a8\" class=\"sk-toggleable__label sk-toggleable__label-arrow\">pipeline-2</label><div class=\"sk-toggleable__content\"><pre>&lt;sklearn.compose._column_transformer.make_column_selector object at 0x00000226693C9550&gt;</pre></div></div></div><div class=\"sk-serial\"><div class=\"sk-item\"><div class=\"sk-serial\"><div class=\"sk-item\"><div class=\"sk-estimator sk-toggleable\"><input class=\"sk-toggleable__control sk-hidden--visually\" id=\"0a5018aa-9ae9-4ca5-9cfc-eecf83f38b4c\" type=\"checkbox\" ><label for=\"0a5018aa-9ae9-4ca5-9cfc-eecf83f38b4c\" class=\"sk-toggleable__label sk-toggleable__label-arrow\">sic_grouping</label><div class=\"sk-toggleable__content\"><pre>sic_grouping()</pre></div></div></div><div class=\"sk-item\"><div class=\"sk-estimator sk-toggleable\"><input class=\"sk-toggleable__control sk-hidden--visually\" id=\"b82e5602-73e2-415e-9e66-e75ad4948c15\" type=\"checkbox\" ><label for=\"b82e5602-73e2-415e-9e66-e75ad4948c15\" class=\"sk-toggleable__label sk-toggleable__label-arrow\">OneHotEncoder</label><div class=\"sk-toggleable__content\"><pre>OneHotEncoder(handle_unknown=&#x27;ignore&#x27;)</pre></div></div></div></div></div></div></div></div></div></div><div class=\"sk-item\"><div class=\"sk-estimator sk-toggleable\"><input class=\"sk-toggleable__control sk-hidden--visually\" id=\"ab9a97bd-5f9a-47c1-bdac-f3bfb1c2019e\" type=\"checkbox\" ><label for=\"ab9a97bd-5f9a-47c1-bdac-f3bfb1c2019e\" class=\"sk-toggleable__label sk-toggleable__label-arrow\">XGBClassifier</label><div class=\"sk-toggleable__content\"><pre>XGBClassifier(base_score=None, booster=None, colsample_bylevel=None,\n",
       "              colsample_bynode=None, colsample_bytree=None,\n",
       "              enable_categorical=False, gamma=None, gpu_id=None,\n",
       "              importance_type=None, interaction_constraints=None,\n",
       "              learning_rate=None, max_delta_step=None, max_depth=None,\n",
       "              min_child_weight=None, missing=nan, monotone_constraints=None,\n",
       "              n_estimators=100, n_jobs=None, num_parallel_tree=None,\n",
       "              predictor=None, random_state=None, reg_alpha=None,\n",
       "              reg_lambda=None, scale_pos_weight=None, subsample=None,\n",
       "              tree_method=None, use_label_encoder=False,\n",
       "              validate_parameters=None, verbosity=None)</pre></div></div></div></div></div></div></div></div><div class=\"sk-parallel-item\"><div class=\"sk-item\"><div class=\"sk-label-container\"><div class=\"sk-label sk-toggleable\"><label>SVM-RBF</label></div></div><div class=\"sk-serial\"><div class=\"sk-item\"><div class=\"sk-serial\"><div class=\"sk-item sk-dashed-wrapped\"><div class=\"sk-label-container\"><div class=\"sk-label sk-toggleable\"><input class=\"sk-toggleable__control sk-hidden--visually\" id=\"9b4ecaa9-6a7e-4257-9ddf-42501c08a0f7\" type=\"checkbox\" ><label for=\"9b4ecaa9-6a7e-4257-9ddf-42501c08a0f7\" class=\"sk-toggleable__label sk-toggleable__label-arrow\">columntransformer: ColumnTransformer</label><div class=\"sk-toggleable__content\"><pre>ColumnTransformer(transformers=[(&#x27;pipeline-1&#x27;,\n",
       "                                 Pipeline(steps=[(&#x27;polynomialfeatures&#x27;,\n",
       "                                                  PolynomialFeatures(include_bias=False,\n",
       "                                                                     interaction_only=True)),\n",
       "                                                 (&#x27;standardscaler&#x27;,\n",
       "                                                  StandardScaler())]),\n",
       "                                 &lt;sklearn.compose._column_transformer.make_column_selector object at 0x00000226693C97F0&gt;),\n",
       "                                (&#x27;pipeline-2&#x27;,\n",
       "                                 Pipeline(steps=[(&#x27;sic_grouping&#x27;,\n",
       "                                                  sic_grouping()),\n",
       "                                                 (&#x27;onehotencoder&#x27;,\n",
       "                                                  OneHotEncoder(handle_unknown=&#x27;ignore&#x27;))]),\n",
       "                                 &lt;sklearn.compose._column_transformer.make_column_selector object at 0x00000226693C9550&gt;)])</pre></div></div></div><div class=\"sk-parallel\"><div class=\"sk-parallel-item\"><div class=\"sk-item\"><div class=\"sk-label-container\"><div class=\"sk-label sk-toggleable\"><input class=\"sk-toggleable__control sk-hidden--visually\" id=\"3a9a3fd4-3a3a-4c56-8290-d99d0d033f9a\" type=\"checkbox\" ><label for=\"3a9a3fd4-3a3a-4c56-8290-d99d0d033f9a\" class=\"sk-toggleable__label sk-toggleable__label-arrow\">pipeline-1</label><div class=\"sk-toggleable__content\"><pre>&lt;sklearn.compose._column_transformer.make_column_selector object at 0x00000226693C97F0&gt;</pre></div></div></div><div class=\"sk-serial\"><div class=\"sk-item\"><div class=\"sk-serial\"><div class=\"sk-item\"><div class=\"sk-estimator sk-toggleable\"><input class=\"sk-toggleable__control sk-hidden--visually\" id=\"28e5dbb6-4a51-4d76-8c6c-5d5bf0b5589b\" type=\"checkbox\" ><label for=\"28e5dbb6-4a51-4d76-8c6c-5d5bf0b5589b\" class=\"sk-toggleable__label sk-toggleable__label-arrow\">PolynomialFeatures</label><div class=\"sk-toggleable__content\"><pre>PolynomialFeatures(include_bias=False, interaction_only=True)</pre></div></div></div><div class=\"sk-item\"><div class=\"sk-estimator sk-toggleable\"><input class=\"sk-toggleable__control sk-hidden--visually\" id=\"9620ea7b-3948-4cb2-a28f-4cb451713ae3\" type=\"checkbox\" ><label for=\"9620ea7b-3948-4cb2-a28f-4cb451713ae3\" class=\"sk-toggleable__label sk-toggleable__label-arrow\">StandardScaler</label><div class=\"sk-toggleable__content\"><pre>StandardScaler()</pre></div></div></div></div></div></div></div></div><div class=\"sk-parallel-item\"><div class=\"sk-item\"><div class=\"sk-label-container\"><div class=\"sk-label sk-toggleable\"><input class=\"sk-toggleable__control sk-hidden--visually\" id=\"bdf76171-48e3-44dd-8c3e-99b6def703e5\" type=\"checkbox\" ><label for=\"bdf76171-48e3-44dd-8c3e-99b6def703e5\" class=\"sk-toggleable__label sk-toggleable__label-arrow\">pipeline-2</label><div class=\"sk-toggleable__content\"><pre>&lt;sklearn.compose._column_transformer.make_column_selector object at 0x00000226693C9550&gt;</pre></div></div></div><div class=\"sk-serial\"><div class=\"sk-item\"><div class=\"sk-serial\"><div class=\"sk-item\"><div class=\"sk-estimator sk-toggleable\"><input class=\"sk-toggleable__control sk-hidden--visually\" id=\"a9f3c7d2-8ae8-4fc3-8fbb-c6c4540732e0\" type=\"checkbox\" ><label for=\"a9f3c7d2-8ae8-4fc3-8fbb-c6c4540732e0\" class=\"sk-toggleable__label sk-toggleable__label-arrow\">sic_grouping</label><div class=\"sk-toggleable__content\"><pre>sic_grouping()</pre></div></div></div><div class=\"sk-item\"><div class=\"sk-estimator sk-toggleable\"><input class=\"sk-toggleable__control sk-hidden--visually\" id=\"ac64bdfe-f9e2-4a95-b829-168fca7c61c1\" type=\"checkbox\" ><label for=\"ac64bdfe-f9e2-4a95-b829-168fca7c61c1\" class=\"sk-toggleable__label sk-toggleable__label-arrow\">OneHotEncoder</label><div class=\"sk-toggleable__content\"><pre>OneHotEncoder(handle_unknown=&#x27;ignore&#x27;)</pre></div></div></div></div></div></div></div></div></div></div><div class=\"sk-item\"><div class=\"sk-estimator sk-toggleable\"><input class=\"sk-toggleable__control sk-hidden--visually\" id=\"2b56bc55-b6e7-4b6c-bff6-10c78f262716\" type=\"checkbox\" ><label for=\"2b56bc55-b6e7-4b6c-bff6-10c78f262716\" class=\"sk-toggleable__label sk-toggleable__label-arrow\">SVC</label><div class=\"sk-toggleable__content\"><pre>SVC()</pre></div></div></div></div></div></div></div></div></div></div><div class=\"sk-item\"><div class=\"sk-parallel\"><div class=\"sk-parallel-item\"><div class=\"sk-item\"><div class=\"sk-label-container\"><div class=\"sk-label sk-toggleable\"><label>final_estimator</label></div></div><div class=\"sk-serial\"><div class=\"sk-item\"><div class=\"sk-estimator sk-toggleable\"><input class=\"sk-toggleable__control sk-hidden--visually\" id=\"3c65b1ed-3204-451f-b654-8da685ab2c58\" type=\"checkbox\" ><label for=\"3c65b1ed-3204-451f-b654-8da685ab2c58\" class=\"sk-toggleable__label sk-toggleable__label-arrow\">LGBMClassifier</label><div class=\"sk-toggleable__content\"><pre>LGBMClassifier()</pre></div></div></div></div></div></div></div></div></div></div></div></div>"
      ],
      "text/plain": [
       "StackingClassifier(estimators=[('LightGBM',\n",
       "                                Pipeline(steps=[('columntransformer',\n",
       "                                                 ColumnTransformer(transformers=[('pipeline-1',\n",
       "                                                                                  Pipeline(steps=[('polynomialfeatures',\n",
       "                                                                                                   PolynomialFeatures(include_bias=False,\n",
       "                                                                                                                      interaction_only=True)),\n",
       "                                                                                                  ('standardscaler',\n",
       "                                                                                                   StandardScaler())]),\n",
       "                                                                                  <sklearn.compose._column_transformer.make_column_selector object at 0x00000226693C97F0>),...\n",
       "                                                                                                   StandardScaler())]),\n",
       "                                                                                  <sklearn.compose._column_transformer.make_column_selector object at 0x00000226693C97F0>),\n",
       "                                                                                 ('pipeline-2',\n",
       "                                                                                  Pipeline(steps=[('sic_grouping',\n",
       "                                                                                                   sic_grouping()),\n",
       "                                                                                                  ('onehotencoder',\n",
       "                                                                                                   OneHotEncoder(handle_unknown='ignore'))]),\n",
       "                                                                                  <sklearn.compose._column_transformer.make_column_selector object at 0x00000226693C9550>)])),\n",
       "                                                ('svc', SVC())]))],\n",
       "                   final_estimator=LGBMClassifier())"
      ]
     },
     "execution_count": 14,
     "metadata": {},
     "output_type": "execute_result"
    }
   ],
   "source": [
    "stacking_classifier.fit(X_train,y_train)\n",
    "# Accuracy = stacking_classifier.score(X,y)\n",
    "# print('The accuracy score of stacking without tuning is', Accuracy)"
   ]
  },
  {
   "cell_type": "code",
   "execution_count": 15,
   "id": "561c27b6",
   "metadata": {},
   "outputs": [],
   "source": [
    "y_pred = stacking_classifier.predict(X_test)"
   ]
  },
  {
   "cell_type": "code",
   "execution_count": 16,
   "id": "f47d4e0c",
   "metadata": {},
   "outputs": [],
   "source": [
    "import sklearn.metrics as skmetrics\n",
    "\n",
    "def auc_pr(y_true, y_prob):\n",
    "  precisions, recalls, thresholds = skmetrics.precision_recall_curve(y_true, y_prob)\n",
    "  return skmetrics.auc(recalls, precisions)"
   ]
  },
  {
   "cell_type": "code",
   "execution_count": 17,
   "id": "dea7b984",
   "metadata": {},
   "outputs": [
    {
     "name": "stdout",
     "output_type": "stream",
     "text": [
      "PR-AUC Score = 0.3111297539149888 \n",
      "\n",
      "              precision    recall  f1-score   support\n",
      "\n",
      "           0       0.99      1.00      1.00      7992\n",
      "           1       0.45      0.17      0.24        54\n",
      "\n",
      "    accuracy                           0.99      8046\n",
      "   macro avg       0.72      0.58      0.62      8046\n",
      "weighted avg       0.99      0.99      0.99      8046\n",
      "\n"
     ]
    }
   ],
   "source": [
    "print('PR-AUC Score =', auc_pr(y_test, y_pred),'\\n')\n",
    "print(classification_report(y_test, y_pred))"
   ]
  },
  {
   "cell_type": "markdown",
   "id": "666ef826",
   "metadata": {},
   "source": [
    "## Stacking model tuning"
   ]
  },
  {
   "cell_type": "code",
   "execution_count": 18,
   "id": "0eee4b7c",
   "metadata": {},
   "outputs": [
    {
     "data": {
      "text/html": [
       "<style>#sk-f9b49122-b2cd-4142-b758-50b8b15d2e22 {color: black;background-color: white;}#sk-f9b49122-b2cd-4142-b758-50b8b15d2e22 pre{padding: 0;}#sk-f9b49122-b2cd-4142-b758-50b8b15d2e22 div.sk-toggleable {background-color: white;}#sk-f9b49122-b2cd-4142-b758-50b8b15d2e22 label.sk-toggleable__label {cursor: pointer;display: block;width: 100%;margin-bottom: 0;padding: 0.3em;box-sizing: border-box;text-align: center;}#sk-f9b49122-b2cd-4142-b758-50b8b15d2e22 label.sk-toggleable__label-arrow:before {content: \"▸\";float: left;margin-right: 0.25em;color: #696969;}#sk-f9b49122-b2cd-4142-b758-50b8b15d2e22 label.sk-toggleable__label-arrow:hover:before {color: black;}#sk-f9b49122-b2cd-4142-b758-50b8b15d2e22 div.sk-estimator:hover label.sk-toggleable__label-arrow:before {color: black;}#sk-f9b49122-b2cd-4142-b758-50b8b15d2e22 div.sk-toggleable__content {max-height: 0;max-width: 0;overflow: hidden;text-align: left;background-color: #f0f8ff;}#sk-f9b49122-b2cd-4142-b758-50b8b15d2e22 div.sk-toggleable__content pre {margin: 0.2em;color: black;border-radius: 0.25em;background-color: #f0f8ff;}#sk-f9b49122-b2cd-4142-b758-50b8b15d2e22 input.sk-toggleable__control:checked~div.sk-toggleable__content {max-height: 200px;max-width: 100%;overflow: auto;}#sk-f9b49122-b2cd-4142-b758-50b8b15d2e22 input.sk-toggleable__control:checked~label.sk-toggleable__label-arrow:before {content: \"▾\";}#sk-f9b49122-b2cd-4142-b758-50b8b15d2e22 div.sk-estimator input.sk-toggleable__control:checked~label.sk-toggleable__label {background-color: #d4ebff;}#sk-f9b49122-b2cd-4142-b758-50b8b15d2e22 div.sk-label input.sk-toggleable__control:checked~label.sk-toggleable__label {background-color: #d4ebff;}#sk-f9b49122-b2cd-4142-b758-50b8b15d2e22 input.sk-hidden--visually {border: 0;clip: rect(1px 1px 1px 1px);clip: rect(1px, 1px, 1px, 1px);height: 1px;margin: -1px;overflow: hidden;padding: 0;position: absolute;width: 1px;}#sk-f9b49122-b2cd-4142-b758-50b8b15d2e22 div.sk-estimator {font-family: monospace;background-color: #f0f8ff;border: 1px dotted black;border-radius: 0.25em;box-sizing: border-box;margin-bottom: 0.5em;}#sk-f9b49122-b2cd-4142-b758-50b8b15d2e22 div.sk-estimator:hover {background-color: #d4ebff;}#sk-f9b49122-b2cd-4142-b758-50b8b15d2e22 div.sk-parallel-item::after {content: \"\";width: 100%;border-bottom: 1px solid gray;flex-grow: 1;}#sk-f9b49122-b2cd-4142-b758-50b8b15d2e22 div.sk-label:hover label.sk-toggleable__label {background-color: #d4ebff;}#sk-f9b49122-b2cd-4142-b758-50b8b15d2e22 div.sk-serial::before {content: \"\";position: absolute;border-left: 1px solid gray;box-sizing: border-box;top: 2em;bottom: 0;left: 50%;}#sk-f9b49122-b2cd-4142-b758-50b8b15d2e22 div.sk-serial {display: flex;flex-direction: column;align-items: center;background-color: white;padding-right: 0.2em;padding-left: 0.2em;}#sk-f9b49122-b2cd-4142-b758-50b8b15d2e22 div.sk-item {z-index: 1;}#sk-f9b49122-b2cd-4142-b758-50b8b15d2e22 div.sk-parallel {display: flex;align-items: stretch;justify-content: center;background-color: white;}#sk-f9b49122-b2cd-4142-b758-50b8b15d2e22 div.sk-parallel::before {content: \"\";position: absolute;border-left: 1px solid gray;box-sizing: border-box;top: 2em;bottom: 0;left: 50%;}#sk-f9b49122-b2cd-4142-b758-50b8b15d2e22 div.sk-parallel-item {display: flex;flex-direction: column;position: relative;background-color: white;}#sk-f9b49122-b2cd-4142-b758-50b8b15d2e22 div.sk-parallel-item:first-child::after {align-self: flex-end;width: 50%;}#sk-f9b49122-b2cd-4142-b758-50b8b15d2e22 div.sk-parallel-item:last-child::after {align-self: flex-start;width: 50%;}#sk-f9b49122-b2cd-4142-b758-50b8b15d2e22 div.sk-parallel-item:only-child::after {width: 0;}#sk-f9b49122-b2cd-4142-b758-50b8b15d2e22 div.sk-dashed-wrapped {border: 1px dashed gray;margin: 0 0.4em 0.5em 0.4em;box-sizing: border-box;padding-bottom: 0.4em;background-color: white;position: relative;}#sk-f9b49122-b2cd-4142-b758-50b8b15d2e22 div.sk-label label {font-family: monospace;font-weight: bold;background-color: white;display: inline-block;line-height: 1.2em;}#sk-f9b49122-b2cd-4142-b758-50b8b15d2e22 div.sk-label-container {position: relative;z-index: 2;text-align: center;}#sk-f9b49122-b2cd-4142-b758-50b8b15d2e22 div.sk-container {/* jupyter's `normalize.less` sets `[hidden] { display: none; }` but bootstrap.min.css set `[hidden] { display: none !important; }` so we also need the `!important` here to be able to override the default hidden behavior on the sphinx rendered scikit-learn.org. See: https://github.com/scikit-learn/scikit-learn/issues/21755 */display: inline-block !important;position: relative;}#sk-f9b49122-b2cd-4142-b758-50b8b15d2e22 div.sk-text-repr-fallback {display: none;}</style><div id=\"sk-f9b49122-b2cd-4142-b758-50b8b15d2e22\" class=\"sk-top-container\"><div class=\"sk-text-repr-fallback\"><pre>StackingClassifier(estimators=[(&#x27;LightGBM&#x27;,\n",
       "                                Pipeline(steps=[(&#x27;columntransformer&#x27;,\n",
       "                                                 ColumnTransformer(transformers=[(&#x27;pipeline-1&#x27;,\n",
       "                                                                                  Pipeline(steps=[(&#x27;polynomialfeatures&#x27;,\n",
       "                                                                                                   PolynomialFeatures(include_bias=False,\n",
       "                                                                                                                      interaction_only=True)),\n",
       "                                                                                                  (&#x27;standardscaler&#x27;,\n",
       "                                                                                                   StandardScaler())]),\n",
       "                                                                                  &lt;sklearn.compose._column_transformer.make_column_selector object at 0x00000226693C97F0&gt;),...\n",
       "                                                                                  &lt;sklearn.compose._column_transformer.make_column_selector object at 0x00000226693C97F0&gt;),\n",
       "                                                                                 (&#x27;pipeline-2&#x27;,\n",
       "                                                                                  Pipeline(steps=[(&#x27;sic_grouping&#x27;,\n",
       "                                                                                                   sic_grouping()),\n",
       "                                                                                                  (&#x27;onehotencoder&#x27;,\n",
       "                                                                                                   OneHotEncoder(handle_unknown=&#x27;ignore&#x27;))]),\n",
       "                                                                                  &lt;sklearn.compose._column_transformer.make_column_selector object at 0x00000226693C9550&gt;)])),\n",
       "                                                (&#x27;svc&#x27;,\n",
       "                                                 SVC(C=1, random_state=0))]))],\n",
       "                   final_estimator=LGBMClassifier())</pre><b>Please rerun this cell to show the HTML repr or trust the notebook.</b></div><div class=\"sk-container\" hidden><div class=\"sk-item sk-dashed-wrapped\"><div class=\"sk-label-container\"><div class=\"sk-label sk-toggleable\"><input class=\"sk-toggleable__control sk-hidden--visually\" id=\"fcd15288-0f99-4e8c-8e5f-4562c81dc792\" type=\"checkbox\" ><label for=\"fcd15288-0f99-4e8c-8e5f-4562c81dc792\" class=\"sk-toggleable__label sk-toggleable__label-arrow\">StackingClassifier</label><div class=\"sk-toggleable__content\"><pre>StackingClassifier(estimators=[(&#x27;LightGBM&#x27;,\n",
       "                                Pipeline(steps=[(&#x27;columntransformer&#x27;,\n",
       "                                                 ColumnTransformer(transformers=[(&#x27;pipeline-1&#x27;,\n",
       "                                                                                  Pipeline(steps=[(&#x27;polynomialfeatures&#x27;,\n",
       "                                                                                                   PolynomialFeatures(include_bias=False,\n",
       "                                                                                                                      interaction_only=True)),\n",
       "                                                                                                  (&#x27;standardscaler&#x27;,\n",
       "                                                                                                   StandardScaler())]),\n",
       "                                                                                  &lt;sklearn.compose._column_transformer.make_column_selector object at 0x00000226693C97F0&gt;),...\n",
       "                                                                                  &lt;sklearn.compose._column_transformer.make_column_selector object at 0x00000226693C97F0&gt;),\n",
       "                                                                                 (&#x27;pipeline-2&#x27;,\n",
       "                                                                                  Pipeline(steps=[(&#x27;sic_grouping&#x27;,\n",
       "                                                                                                   sic_grouping()),\n",
       "                                                                                                  (&#x27;onehotencoder&#x27;,\n",
       "                                                                                                   OneHotEncoder(handle_unknown=&#x27;ignore&#x27;))]),\n",
       "                                                                                  &lt;sklearn.compose._column_transformer.make_column_selector object at 0x00000226693C9550&gt;)])),\n",
       "                                                (&#x27;svc&#x27;,\n",
       "                                                 SVC(C=1, random_state=0))]))],\n",
       "                   final_estimator=LGBMClassifier())</pre></div></div></div><div class=\"sk-serial\"><div class=\"sk-item\"><div class=\"sk-parallel\"><div class=\"sk-parallel-item\"><div class=\"sk-item\"><div class=\"sk-label-container\"><div class=\"sk-label sk-toggleable\"><label>LightGBM</label></div></div><div class=\"sk-serial\"><div class=\"sk-item\"><div class=\"sk-serial\"><div class=\"sk-item sk-dashed-wrapped\"><div class=\"sk-label-container\"><div class=\"sk-label sk-toggleable\"><input class=\"sk-toggleable__control sk-hidden--visually\" id=\"76aaa3d6-7868-4456-b506-7a8d2fa0089c\" type=\"checkbox\" ><label for=\"76aaa3d6-7868-4456-b506-7a8d2fa0089c\" class=\"sk-toggleable__label sk-toggleable__label-arrow\">columntransformer: ColumnTransformer</label><div class=\"sk-toggleable__content\"><pre>ColumnTransformer(transformers=[(&#x27;pipeline-1&#x27;,\n",
       "                                 Pipeline(steps=[(&#x27;polynomialfeatures&#x27;,\n",
       "                                                  PolynomialFeatures(include_bias=False,\n",
       "                                                                     interaction_only=True)),\n",
       "                                                 (&#x27;standardscaler&#x27;,\n",
       "                                                  StandardScaler())]),\n",
       "                                 &lt;sklearn.compose._column_transformer.make_column_selector object at 0x00000226693C97F0&gt;),\n",
       "                                (&#x27;pipeline-2&#x27;,\n",
       "                                 Pipeline(steps=[(&#x27;sic_grouping&#x27;,\n",
       "                                                  sic_grouping()),\n",
       "                                                 (&#x27;onehotencoder&#x27;,\n",
       "                                                  OneHotEncoder(handle_unknown=&#x27;ignore&#x27;))]),\n",
       "                                 &lt;sklearn.compose._column_transformer.make_column_selector object at 0x00000226693C9550&gt;)])</pre></div></div></div><div class=\"sk-parallel\"><div class=\"sk-parallel-item\"><div class=\"sk-item\"><div class=\"sk-label-container\"><div class=\"sk-label sk-toggleable\"><input class=\"sk-toggleable__control sk-hidden--visually\" id=\"a431f7a6-19fc-4082-8966-fe1f3649bf21\" type=\"checkbox\" ><label for=\"a431f7a6-19fc-4082-8966-fe1f3649bf21\" class=\"sk-toggleable__label sk-toggleable__label-arrow\">pipeline-1</label><div class=\"sk-toggleable__content\"><pre>&lt;sklearn.compose._column_transformer.make_column_selector object at 0x00000226693C97F0&gt;</pre></div></div></div><div class=\"sk-serial\"><div class=\"sk-item\"><div class=\"sk-serial\"><div class=\"sk-item\"><div class=\"sk-estimator sk-toggleable\"><input class=\"sk-toggleable__control sk-hidden--visually\" id=\"84385d30-e7a6-437d-8aca-dc367f6a2a1e\" type=\"checkbox\" ><label for=\"84385d30-e7a6-437d-8aca-dc367f6a2a1e\" class=\"sk-toggleable__label sk-toggleable__label-arrow\">PolynomialFeatures</label><div class=\"sk-toggleable__content\"><pre>PolynomialFeatures(include_bias=False, interaction_only=True)</pre></div></div></div><div class=\"sk-item\"><div class=\"sk-estimator sk-toggleable\"><input class=\"sk-toggleable__control sk-hidden--visually\" id=\"00774cec-8b59-4837-9fe2-f4436b912644\" type=\"checkbox\" ><label for=\"00774cec-8b59-4837-9fe2-f4436b912644\" class=\"sk-toggleable__label sk-toggleable__label-arrow\">StandardScaler</label><div class=\"sk-toggleable__content\"><pre>StandardScaler()</pre></div></div></div></div></div></div></div></div><div class=\"sk-parallel-item\"><div class=\"sk-item\"><div class=\"sk-label-container\"><div class=\"sk-label sk-toggleable\"><input class=\"sk-toggleable__control sk-hidden--visually\" id=\"1bfd8ef6-72e4-4ceb-b8da-b5d1bc547697\" type=\"checkbox\" ><label for=\"1bfd8ef6-72e4-4ceb-b8da-b5d1bc547697\" class=\"sk-toggleable__label sk-toggleable__label-arrow\">pipeline-2</label><div class=\"sk-toggleable__content\"><pre>&lt;sklearn.compose._column_transformer.make_column_selector object at 0x00000226693C9550&gt;</pre></div></div></div><div class=\"sk-serial\"><div class=\"sk-item\"><div class=\"sk-serial\"><div class=\"sk-item\"><div class=\"sk-estimator sk-toggleable\"><input class=\"sk-toggleable__control sk-hidden--visually\" id=\"768d70ec-468b-4759-aa42-600159dbb4dd\" type=\"checkbox\" ><label for=\"768d70ec-468b-4759-aa42-600159dbb4dd\" class=\"sk-toggleable__label sk-toggleable__label-arrow\">sic_grouping</label><div class=\"sk-toggleable__content\"><pre>sic_grouping()</pre></div></div></div><div class=\"sk-item\"><div class=\"sk-estimator sk-toggleable\"><input class=\"sk-toggleable__control sk-hidden--visually\" id=\"71b5d7c4-5dc8-4162-aeba-856fd1d2381e\" type=\"checkbox\" ><label for=\"71b5d7c4-5dc8-4162-aeba-856fd1d2381e\" class=\"sk-toggleable__label sk-toggleable__label-arrow\">OneHotEncoder</label><div class=\"sk-toggleable__content\"><pre>OneHotEncoder(handle_unknown=&#x27;ignore&#x27;)</pre></div></div></div></div></div></div></div></div></div></div><div class=\"sk-item\"><div class=\"sk-estimator sk-toggleable\"><input class=\"sk-toggleable__control sk-hidden--visually\" id=\"071a8aa2-e88f-4b89-a74c-882fade4c17e\" type=\"checkbox\" ><label for=\"071a8aa2-e88f-4b89-a74c-882fade4c17e\" class=\"sk-toggleable__label sk-toggleable__label-arrow\">LGBMClassifier</label><div class=\"sk-toggleable__content\"><pre>LGBMClassifier(max_depth=10, min_child_samples=10, num_leaves=50)</pre></div></div></div></div></div></div></div></div><div class=\"sk-parallel-item\"><div class=\"sk-item\"><div class=\"sk-label-container\"><div class=\"sk-label sk-toggleable\"><label>XGBoost</label></div></div><div class=\"sk-serial\"><div class=\"sk-item\"><div class=\"sk-serial\"><div class=\"sk-item sk-dashed-wrapped\"><div class=\"sk-label-container\"><div class=\"sk-label sk-toggleable\"><input class=\"sk-toggleable__control sk-hidden--visually\" id=\"50a150ff-b60b-4f42-957f-25ab4d6be16f\" type=\"checkbox\" ><label for=\"50a150ff-b60b-4f42-957f-25ab4d6be16f\" class=\"sk-toggleable__label sk-toggleable__label-arrow\">columntransformer: ColumnTransformer</label><div class=\"sk-toggleable__content\"><pre>ColumnTransformer(transformers=[(&#x27;pipeline-1&#x27;,\n",
       "                                 Pipeline(steps=[(&#x27;polynomialfeatures&#x27;,\n",
       "                                                  PolynomialFeatures(include_bias=False,\n",
       "                                                                     interaction_only=True)),\n",
       "                                                 (&#x27;standardscaler&#x27;,\n",
       "                                                  StandardScaler())]),\n",
       "                                 &lt;sklearn.compose._column_transformer.make_column_selector object at 0x00000226693C97F0&gt;),\n",
       "                                (&#x27;pipeline-2&#x27;,\n",
       "                                 Pipeline(steps=[(&#x27;sic_grouping&#x27;,\n",
       "                                                  sic_grouping()),\n",
       "                                                 (&#x27;onehotencoder&#x27;,\n",
       "                                                  OneHotEncoder(handle_unknown=&#x27;ignore&#x27;))]),\n",
       "                                 &lt;sklearn.compose._column_transformer.make_column_selector object at 0x00000226693C9550&gt;)])</pre></div></div></div><div class=\"sk-parallel\"><div class=\"sk-parallel-item\"><div class=\"sk-item\"><div class=\"sk-label-container\"><div class=\"sk-label sk-toggleable\"><input class=\"sk-toggleable__control sk-hidden--visually\" id=\"99a2c3c1-75a8-46e5-9577-b0c82d37dd68\" type=\"checkbox\" ><label for=\"99a2c3c1-75a8-46e5-9577-b0c82d37dd68\" class=\"sk-toggleable__label sk-toggleable__label-arrow\">pipeline-1</label><div class=\"sk-toggleable__content\"><pre>&lt;sklearn.compose._column_transformer.make_column_selector object at 0x00000226693C97F0&gt;</pre></div></div></div><div class=\"sk-serial\"><div class=\"sk-item\"><div class=\"sk-serial\"><div class=\"sk-item\"><div class=\"sk-estimator sk-toggleable\"><input class=\"sk-toggleable__control sk-hidden--visually\" id=\"2ee599c2-e669-4b46-b7f0-828de4a7437c\" type=\"checkbox\" ><label for=\"2ee599c2-e669-4b46-b7f0-828de4a7437c\" class=\"sk-toggleable__label sk-toggleable__label-arrow\">PolynomialFeatures</label><div class=\"sk-toggleable__content\"><pre>PolynomialFeatures(include_bias=False, interaction_only=True)</pre></div></div></div><div class=\"sk-item\"><div class=\"sk-estimator sk-toggleable\"><input class=\"sk-toggleable__control sk-hidden--visually\" id=\"69edc285-8e10-4305-b7ad-bfe9a94b6aa6\" type=\"checkbox\" ><label for=\"69edc285-8e10-4305-b7ad-bfe9a94b6aa6\" class=\"sk-toggleable__label sk-toggleable__label-arrow\">StandardScaler</label><div class=\"sk-toggleable__content\"><pre>StandardScaler()</pre></div></div></div></div></div></div></div></div><div class=\"sk-parallel-item\"><div class=\"sk-item\"><div class=\"sk-label-container\"><div class=\"sk-label sk-toggleable\"><input class=\"sk-toggleable__control sk-hidden--visually\" id=\"f57cd59b-7f33-4eb0-bd36-7701870a977b\" type=\"checkbox\" ><label for=\"f57cd59b-7f33-4eb0-bd36-7701870a977b\" class=\"sk-toggleable__label sk-toggleable__label-arrow\">pipeline-2</label><div class=\"sk-toggleable__content\"><pre>&lt;sklearn.compose._column_transformer.make_column_selector object at 0x00000226693C9550&gt;</pre></div></div></div><div class=\"sk-serial\"><div class=\"sk-item\"><div class=\"sk-serial\"><div class=\"sk-item\"><div class=\"sk-estimator sk-toggleable\"><input class=\"sk-toggleable__control sk-hidden--visually\" id=\"ce976c3c-bbde-499e-81fd-2523fb5c29d8\" type=\"checkbox\" ><label for=\"ce976c3c-bbde-499e-81fd-2523fb5c29d8\" class=\"sk-toggleable__label sk-toggleable__label-arrow\">sic_grouping</label><div class=\"sk-toggleable__content\"><pre>sic_grouping()</pre></div></div></div><div class=\"sk-item\"><div class=\"sk-estimator sk-toggleable\"><input class=\"sk-toggleable__control sk-hidden--visually\" id=\"b7587968-ffce-4f45-b0dd-d12e8dcfc188\" type=\"checkbox\" ><label for=\"b7587968-ffce-4f45-b0dd-d12e8dcfc188\" class=\"sk-toggleable__label sk-toggleable__label-arrow\">OneHotEncoder</label><div class=\"sk-toggleable__content\"><pre>OneHotEncoder(handle_unknown=&#x27;ignore&#x27;)</pre></div></div></div></div></div></div></div></div></div></div><div class=\"sk-item\"><div class=\"sk-estimator sk-toggleable\"><input class=\"sk-toggleable__control sk-hidden--visually\" id=\"cd441043-561a-4c57-805e-088a4240bddb\" type=\"checkbox\" ><label for=\"cd441043-561a-4c57-805e-088a4240bddb\" class=\"sk-toggleable__label sk-toggleable__label-arrow\">XGBClassifier</label><div class=\"sk-toggleable__content\"><pre>XGBClassifier(base_score=None, booster=None, colsample_bylevel=None,\n",
       "              colsample_bynode=None, colsample_bytree=None,\n",
       "              enable_categorical=False, gamma=None, gpu_id=None,\n",
       "              importance_type=None, interaction_constraints=None,\n",
       "              learning_rate=0.1, max_delta_step=None, max_depth=None,\n",
       "              min_child_weight=None, missing=nan, monotone_constraints=None,\n",
       "              n_estimators=250, n_jobs=None, num_parallel_tree=None,\n",
       "              predictor=None, random_state=None, reg_alpha=None,\n",
       "              reg_lambda=None, scale_pos_weight=None, subsample=None,\n",
       "              tree_method=None, use_label_encoder=False,\n",
       "              validate_parameters=None, verbosity=None)</pre></div></div></div></div></div></div></div></div><div class=\"sk-parallel-item\"><div class=\"sk-item\"><div class=\"sk-label-container\"><div class=\"sk-label sk-toggleable\"><label>SVM-RBF</label></div></div><div class=\"sk-serial\"><div class=\"sk-item\"><div class=\"sk-serial\"><div class=\"sk-item sk-dashed-wrapped\"><div class=\"sk-label-container\"><div class=\"sk-label sk-toggleable\"><input class=\"sk-toggleable__control sk-hidden--visually\" id=\"f72b1057-b181-4f6b-ba89-6f1e5561b65b\" type=\"checkbox\" ><label for=\"f72b1057-b181-4f6b-ba89-6f1e5561b65b\" class=\"sk-toggleable__label sk-toggleable__label-arrow\">columntransformer: ColumnTransformer</label><div class=\"sk-toggleable__content\"><pre>ColumnTransformer(transformers=[(&#x27;pipeline-1&#x27;,\n",
       "                                 Pipeline(steps=[(&#x27;polynomialfeatures&#x27;,\n",
       "                                                  PolynomialFeatures(include_bias=False,\n",
       "                                                                     interaction_only=True)),\n",
       "                                                 (&#x27;standardscaler&#x27;,\n",
       "                                                  StandardScaler())]),\n",
       "                                 &lt;sklearn.compose._column_transformer.make_column_selector object at 0x00000226693C97F0&gt;),\n",
       "                                (&#x27;pipeline-2&#x27;,\n",
       "                                 Pipeline(steps=[(&#x27;sic_grouping&#x27;,\n",
       "                                                  sic_grouping()),\n",
       "                                                 (&#x27;onehotencoder&#x27;,\n",
       "                                                  OneHotEncoder(handle_unknown=&#x27;ignore&#x27;))]),\n",
       "                                 &lt;sklearn.compose._column_transformer.make_column_selector object at 0x00000226693C9550&gt;)])</pre></div></div></div><div class=\"sk-parallel\"><div class=\"sk-parallel-item\"><div class=\"sk-item\"><div class=\"sk-label-container\"><div class=\"sk-label sk-toggleable\"><input class=\"sk-toggleable__control sk-hidden--visually\" id=\"42ea9578-8b84-4e94-8c9d-7b0dbadd0bfb\" type=\"checkbox\" ><label for=\"42ea9578-8b84-4e94-8c9d-7b0dbadd0bfb\" class=\"sk-toggleable__label sk-toggleable__label-arrow\">pipeline-1</label><div class=\"sk-toggleable__content\"><pre>&lt;sklearn.compose._column_transformer.make_column_selector object at 0x00000226693C97F0&gt;</pre></div></div></div><div class=\"sk-serial\"><div class=\"sk-item\"><div class=\"sk-serial\"><div class=\"sk-item\"><div class=\"sk-estimator sk-toggleable\"><input class=\"sk-toggleable__control sk-hidden--visually\" id=\"4998169b-01ff-42da-8ff3-fc3c0c644ba2\" type=\"checkbox\" ><label for=\"4998169b-01ff-42da-8ff3-fc3c0c644ba2\" class=\"sk-toggleable__label sk-toggleable__label-arrow\">PolynomialFeatures</label><div class=\"sk-toggleable__content\"><pre>PolynomialFeatures(include_bias=False, interaction_only=True)</pre></div></div></div><div class=\"sk-item\"><div class=\"sk-estimator sk-toggleable\"><input class=\"sk-toggleable__control sk-hidden--visually\" id=\"15c9406b-748d-4b7a-b7e7-f76660da9477\" type=\"checkbox\" ><label for=\"15c9406b-748d-4b7a-b7e7-f76660da9477\" class=\"sk-toggleable__label sk-toggleable__label-arrow\">StandardScaler</label><div class=\"sk-toggleable__content\"><pre>StandardScaler()</pre></div></div></div></div></div></div></div></div><div class=\"sk-parallel-item\"><div class=\"sk-item\"><div class=\"sk-label-container\"><div class=\"sk-label sk-toggleable\"><input class=\"sk-toggleable__control sk-hidden--visually\" id=\"5f1cb8d8-140e-411f-b2da-138574640920\" type=\"checkbox\" ><label for=\"5f1cb8d8-140e-411f-b2da-138574640920\" class=\"sk-toggleable__label sk-toggleable__label-arrow\">pipeline-2</label><div class=\"sk-toggleable__content\"><pre>&lt;sklearn.compose._column_transformer.make_column_selector object at 0x00000226693C9550&gt;</pre></div></div></div><div class=\"sk-serial\"><div class=\"sk-item\"><div class=\"sk-serial\"><div class=\"sk-item\"><div class=\"sk-estimator sk-toggleable\"><input class=\"sk-toggleable__control sk-hidden--visually\" id=\"7c972985-c003-428c-b29a-4e6a614d233b\" type=\"checkbox\" ><label for=\"7c972985-c003-428c-b29a-4e6a614d233b\" class=\"sk-toggleable__label sk-toggleable__label-arrow\">sic_grouping</label><div class=\"sk-toggleable__content\"><pre>sic_grouping()</pre></div></div></div><div class=\"sk-item\"><div class=\"sk-estimator sk-toggleable\"><input class=\"sk-toggleable__control sk-hidden--visually\" id=\"5fa97100-64df-4cf1-b561-a4cd225a6aff\" type=\"checkbox\" ><label for=\"5fa97100-64df-4cf1-b561-a4cd225a6aff\" class=\"sk-toggleable__label sk-toggleable__label-arrow\">OneHotEncoder</label><div class=\"sk-toggleable__content\"><pre>OneHotEncoder(handle_unknown=&#x27;ignore&#x27;)</pre></div></div></div></div></div></div></div></div></div></div><div class=\"sk-item\"><div class=\"sk-estimator sk-toggleable\"><input class=\"sk-toggleable__control sk-hidden--visually\" id=\"0134bade-e3d6-495d-96d5-fa9c6a1d453b\" type=\"checkbox\" ><label for=\"0134bade-e3d6-495d-96d5-fa9c6a1d453b\" class=\"sk-toggleable__label sk-toggleable__label-arrow\">SVC</label><div class=\"sk-toggleable__content\"><pre>SVC(C=1, random_state=0)</pre></div></div></div></div></div></div></div></div></div></div><div class=\"sk-item\"><div class=\"sk-parallel\"><div class=\"sk-parallel-item\"><div class=\"sk-item\"><div class=\"sk-label-container\"><div class=\"sk-label sk-toggleable\"><label>final_estimator</label></div></div><div class=\"sk-serial\"><div class=\"sk-item\"><div class=\"sk-estimator sk-toggleable\"><input class=\"sk-toggleable__control sk-hidden--visually\" id=\"9705bca9-c233-498a-a993-88396ca39c1c\" type=\"checkbox\" ><label for=\"9705bca9-c233-498a-a993-88396ca39c1c\" class=\"sk-toggleable__label sk-toggleable__label-arrow\">LGBMClassifier</label><div class=\"sk-toggleable__content\"><pre>LGBMClassifier()</pre></div></div></div></div></div></div></div></div></div></div></div></div>"
      ],
      "text/plain": [
       "StackingClassifier(estimators=[('LightGBM',\n",
       "                                Pipeline(steps=[('columntransformer',\n",
       "                                                 ColumnTransformer(transformers=[('pipeline-1',\n",
       "                                                                                  Pipeline(steps=[('polynomialfeatures',\n",
       "                                                                                                   PolynomialFeatures(include_bias=False,\n",
       "                                                                                                                      interaction_only=True)),\n",
       "                                                                                                  ('standardscaler',\n",
       "                                                                                                   StandardScaler())]),\n",
       "                                                                                  <sklearn.compose._column_transformer.make_column_selector object at 0x00000226693C97F0>),...\n",
       "                                                                                  <sklearn.compose._column_transformer.make_column_selector object at 0x00000226693C97F0>),\n",
       "                                                                                 ('pipeline-2',\n",
       "                                                                                  Pipeline(steps=[('sic_grouping',\n",
       "                                                                                                   sic_grouping()),\n",
       "                                                                                                  ('onehotencoder',\n",
       "                                                                                                   OneHotEncoder(handle_unknown='ignore'))]),\n",
       "                                                                                  <sklearn.compose._column_transformer.make_column_selector object at 0x00000226693C9550>)])),\n",
       "                                                ('svc',\n",
       "                                                 SVC(C=1, random_state=0))]))],\n",
       "                   final_estimator=LGBMClassifier())"
      ]
     },
     "execution_count": 18,
     "metadata": {},
     "output_type": "execute_result"
    }
   ],
   "source": [
    "from sklearn import preprocessing\n",
    "cat_processor = sic_grouping()\n",
    "\n",
    "preprocessor = make_column_transformer((interaction_terms, num_selector), (cat_processor, cat_selector))\n",
    "\n",
    "standard_scaler = StandardScaler()\n",
    "standard_processor = make_pipeline(interaction_terms,standard_scaler)\n",
    "\n",
    "second_preprocessor = make_column_transformer((standard_processor, num_selector),(cat_onehot, cat_selector))\n",
    "lightgbm_pipeline = make_pipeline(second_preprocessor, lgb.LGBMClassifier(max_depth=10, num_leaves=50, learning_rate\n",
    "=0.1, min_child_samples=10))\n",
    "xgboost_pipeline = make_pipeline(second_preprocessor, XGBClassifier(n_estimators=250, learning_rate=0.1, objective='binary:logistic',use_label_encoder=False))\n",
    "svm_pipeline = make_pipeline(second_preprocessor, SVC(C=1, random_state=0, kernel ='rbf'))\n",
    "\n",
    "estimators = [\n",
    "    (\"LightGBM\", lightgbm_pipeline),\n",
    "    (\"XGBoost\", xgboost_pipeline),\n",
    "    (\"SVM-RBF\", svm_pipeline),\n",
    "]\n",
    "\n",
    "stacking_classifier_tuned = StackingClassifier(estimators=estimators, final_estimator=lgb.LGBMClassifier())\n",
    "stacking_classifier_tuned"
   ]
  },
  {
   "cell_type": "code",
   "execution_count": 19,
   "id": "c93e6918",
   "metadata": {},
   "outputs": [
    {
     "name": "stdout",
     "output_type": "stream",
     "text": [
      "[14:46:22] WARNING: C:/Users/Administrator/workspace/xgboost-win64_release_1.5.1/src/learner.cc:1115: Starting in XGBoost 1.3.0, the default evaluation metric used with the objective 'binary:logistic' was changed from 'error' to 'logloss'. Explicitly set eval_metric if you'd like to restore the old behavior.\n",
      "[14:47:26] WARNING: C:/Users/Administrator/workspace/xgboost-win64_release_1.5.1/src/learner.cc:1115: Starting in XGBoost 1.3.0, the default evaluation metric used with the objective 'binary:logistic' was changed from 'error' to 'logloss'. Explicitly set eval_metric if you'd like to restore the old behavior.\n",
      "[14:48:08] WARNING: C:/Users/Administrator/workspace/xgboost-win64_release_1.5.1/src/learner.cc:1115: Starting in XGBoost 1.3.0, the default evaluation metric used with the objective 'binary:logistic' was changed from 'error' to 'logloss'. Explicitly set eval_metric if you'd like to restore the old behavior.\n",
      "[14:48:49] WARNING: C:/Users/Administrator/workspace/xgboost-win64_release_1.5.1/src/learner.cc:1115: Starting in XGBoost 1.3.0, the default evaluation metric used with the objective 'binary:logistic' was changed from 'error' to 'logloss'. Explicitly set eval_metric if you'd like to restore the old behavior.\n",
      "[14:49:35] WARNING: C:/Users/Administrator/workspace/xgboost-win64_release_1.5.1/src/learner.cc:1115: Starting in XGBoost 1.3.0, the default evaluation metric used with the objective 'binary:logistic' was changed from 'error' to 'logloss'. Explicitly set eval_metric if you'd like to restore the old behavior.\n",
      "[14:50:27] WARNING: C:/Users/Administrator/workspace/xgboost-win64_release_1.5.1/src/learner.cc:1115: Starting in XGBoost 1.3.0, the default evaluation metric used with the objective 'binary:logistic' was changed from 'error' to 'logloss'. Explicitly set eval_metric if you'd like to restore the old behavior.\n"
     ]
    },
    {
     "data": {
      "text/html": [
       "<style>#sk-ac732284-00f6-496b-b6ce-8446d38f90f1 {color: black;background-color: white;}#sk-ac732284-00f6-496b-b6ce-8446d38f90f1 pre{padding: 0;}#sk-ac732284-00f6-496b-b6ce-8446d38f90f1 div.sk-toggleable {background-color: white;}#sk-ac732284-00f6-496b-b6ce-8446d38f90f1 label.sk-toggleable__label {cursor: pointer;display: block;width: 100%;margin-bottom: 0;padding: 0.3em;box-sizing: border-box;text-align: center;}#sk-ac732284-00f6-496b-b6ce-8446d38f90f1 label.sk-toggleable__label-arrow:before {content: \"▸\";float: left;margin-right: 0.25em;color: #696969;}#sk-ac732284-00f6-496b-b6ce-8446d38f90f1 label.sk-toggleable__label-arrow:hover:before {color: black;}#sk-ac732284-00f6-496b-b6ce-8446d38f90f1 div.sk-estimator:hover label.sk-toggleable__label-arrow:before {color: black;}#sk-ac732284-00f6-496b-b6ce-8446d38f90f1 div.sk-toggleable__content {max-height: 0;max-width: 0;overflow: hidden;text-align: left;background-color: #f0f8ff;}#sk-ac732284-00f6-496b-b6ce-8446d38f90f1 div.sk-toggleable__content pre {margin: 0.2em;color: black;border-radius: 0.25em;background-color: #f0f8ff;}#sk-ac732284-00f6-496b-b6ce-8446d38f90f1 input.sk-toggleable__control:checked~div.sk-toggleable__content {max-height: 200px;max-width: 100%;overflow: auto;}#sk-ac732284-00f6-496b-b6ce-8446d38f90f1 input.sk-toggleable__control:checked~label.sk-toggleable__label-arrow:before {content: \"▾\";}#sk-ac732284-00f6-496b-b6ce-8446d38f90f1 div.sk-estimator input.sk-toggleable__control:checked~label.sk-toggleable__label {background-color: #d4ebff;}#sk-ac732284-00f6-496b-b6ce-8446d38f90f1 div.sk-label input.sk-toggleable__control:checked~label.sk-toggleable__label {background-color: #d4ebff;}#sk-ac732284-00f6-496b-b6ce-8446d38f90f1 input.sk-hidden--visually {border: 0;clip: rect(1px 1px 1px 1px);clip: rect(1px, 1px, 1px, 1px);height: 1px;margin: -1px;overflow: hidden;padding: 0;position: absolute;width: 1px;}#sk-ac732284-00f6-496b-b6ce-8446d38f90f1 div.sk-estimator {font-family: monospace;background-color: #f0f8ff;border: 1px dotted black;border-radius: 0.25em;box-sizing: border-box;margin-bottom: 0.5em;}#sk-ac732284-00f6-496b-b6ce-8446d38f90f1 div.sk-estimator:hover {background-color: #d4ebff;}#sk-ac732284-00f6-496b-b6ce-8446d38f90f1 div.sk-parallel-item::after {content: \"\";width: 100%;border-bottom: 1px solid gray;flex-grow: 1;}#sk-ac732284-00f6-496b-b6ce-8446d38f90f1 div.sk-label:hover label.sk-toggleable__label {background-color: #d4ebff;}#sk-ac732284-00f6-496b-b6ce-8446d38f90f1 div.sk-serial::before {content: \"\";position: absolute;border-left: 1px solid gray;box-sizing: border-box;top: 2em;bottom: 0;left: 50%;}#sk-ac732284-00f6-496b-b6ce-8446d38f90f1 div.sk-serial {display: flex;flex-direction: column;align-items: center;background-color: white;padding-right: 0.2em;padding-left: 0.2em;}#sk-ac732284-00f6-496b-b6ce-8446d38f90f1 div.sk-item {z-index: 1;}#sk-ac732284-00f6-496b-b6ce-8446d38f90f1 div.sk-parallel {display: flex;align-items: stretch;justify-content: center;background-color: white;}#sk-ac732284-00f6-496b-b6ce-8446d38f90f1 div.sk-parallel::before {content: \"\";position: absolute;border-left: 1px solid gray;box-sizing: border-box;top: 2em;bottom: 0;left: 50%;}#sk-ac732284-00f6-496b-b6ce-8446d38f90f1 div.sk-parallel-item {display: flex;flex-direction: column;position: relative;background-color: white;}#sk-ac732284-00f6-496b-b6ce-8446d38f90f1 div.sk-parallel-item:first-child::after {align-self: flex-end;width: 50%;}#sk-ac732284-00f6-496b-b6ce-8446d38f90f1 div.sk-parallel-item:last-child::after {align-self: flex-start;width: 50%;}#sk-ac732284-00f6-496b-b6ce-8446d38f90f1 div.sk-parallel-item:only-child::after {width: 0;}#sk-ac732284-00f6-496b-b6ce-8446d38f90f1 div.sk-dashed-wrapped {border: 1px dashed gray;margin: 0 0.4em 0.5em 0.4em;box-sizing: border-box;padding-bottom: 0.4em;background-color: white;position: relative;}#sk-ac732284-00f6-496b-b6ce-8446d38f90f1 div.sk-label label {font-family: monospace;font-weight: bold;background-color: white;display: inline-block;line-height: 1.2em;}#sk-ac732284-00f6-496b-b6ce-8446d38f90f1 div.sk-label-container {position: relative;z-index: 2;text-align: center;}#sk-ac732284-00f6-496b-b6ce-8446d38f90f1 div.sk-container {/* jupyter's `normalize.less` sets `[hidden] { display: none; }` but bootstrap.min.css set `[hidden] { display: none !important; }` so we also need the `!important` here to be able to override the default hidden behavior on the sphinx rendered scikit-learn.org. See: https://github.com/scikit-learn/scikit-learn/issues/21755 */display: inline-block !important;position: relative;}#sk-ac732284-00f6-496b-b6ce-8446d38f90f1 div.sk-text-repr-fallback {display: none;}</style><div id=\"sk-ac732284-00f6-496b-b6ce-8446d38f90f1\" class=\"sk-top-container\"><div class=\"sk-text-repr-fallback\"><pre>StackingClassifier(estimators=[(&#x27;LightGBM&#x27;,\n",
       "                                Pipeline(steps=[(&#x27;columntransformer&#x27;,\n",
       "                                                 ColumnTransformer(transformers=[(&#x27;pipeline-1&#x27;,\n",
       "                                                                                  Pipeline(steps=[(&#x27;polynomialfeatures&#x27;,\n",
       "                                                                                                   PolynomialFeatures(include_bias=False,\n",
       "                                                                                                                      interaction_only=True)),\n",
       "                                                                                                  (&#x27;standardscaler&#x27;,\n",
       "                                                                                                   StandardScaler())]),\n",
       "                                                                                  &lt;sklearn.compose._column_transformer.make_column_selector object at 0x00000226693C97F0&gt;),...\n",
       "                                                                                  &lt;sklearn.compose._column_transformer.make_column_selector object at 0x00000226693C97F0&gt;),\n",
       "                                                                                 (&#x27;pipeline-2&#x27;,\n",
       "                                                                                  Pipeline(steps=[(&#x27;sic_grouping&#x27;,\n",
       "                                                                                                   sic_grouping()),\n",
       "                                                                                                  (&#x27;onehotencoder&#x27;,\n",
       "                                                                                                   OneHotEncoder(handle_unknown=&#x27;ignore&#x27;))]),\n",
       "                                                                                  &lt;sklearn.compose._column_transformer.make_column_selector object at 0x00000226693C9550&gt;)])),\n",
       "                                                (&#x27;svc&#x27;,\n",
       "                                                 SVC(C=1, random_state=0))]))],\n",
       "                   final_estimator=LGBMClassifier())</pre><b>Please rerun this cell to show the HTML repr or trust the notebook.</b></div><div class=\"sk-container\" hidden><div class=\"sk-item sk-dashed-wrapped\"><div class=\"sk-label-container\"><div class=\"sk-label sk-toggleable\"><input class=\"sk-toggleable__control sk-hidden--visually\" id=\"20a734e9-5c23-43fa-a049-53443e9814e8\" type=\"checkbox\" ><label for=\"20a734e9-5c23-43fa-a049-53443e9814e8\" class=\"sk-toggleable__label sk-toggleable__label-arrow\">StackingClassifier</label><div class=\"sk-toggleable__content\"><pre>StackingClassifier(estimators=[(&#x27;LightGBM&#x27;,\n",
       "                                Pipeline(steps=[(&#x27;columntransformer&#x27;,\n",
       "                                                 ColumnTransformer(transformers=[(&#x27;pipeline-1&#x27;,\n",
       "                                                                                  Pipeline(steps=[(&#x27;polynomialfeatures&#x27;,\n",
       "                                                                                                   PolynomialFeatures(include_bias=False,\n",
       "                                                                                                                      interaction_only=True)),\n",
       "                                                                                                  (&#x27;standardscaler&#x27;,\n",
       "                                                                                                   StandardScaler())]),\n",
       "                                                                                  &lt;sklearn.compose._column_transformer.make_column_selector object at 0x00000226693C97F0&gt;),...\n",
       "                                                                                  &lt;sklearn.compose._column_transformer.make_column_selector object at 0x00000226693C97F0&gt;),\n",
       "                                                                                 (&#x27;pipeline-2&#x27;,\n",
       "                                                                                  Pipeline(steps=[(&#x27;sic_grouping&#x27;,\n",
       "                                                                                                   sic_grouping()),\n",
       "                                                                                                  (&#x27;onehotencoder&#x27;,\n",
       "                                                                                                   OneHotEncoder(handle_unknown=&#x27;ignore&#x27;))]),\n",
       "                                                                                  &lt;sklearn.compose._column_transformer.make_column_selector object at 0x00000226693C9550&gt;)])),\n",
       "                                                (&#x27;svc&#x27;,\n",
       "                                                 SVC(C=1, random_state=0))]))],\n",
       "                   final_estimator=LGBMClassifier())</pre></div></div></div><div class=\"sk-serial\"><div class=\"sk-item\"><div class=\"sk-parallel\"><div class=\"sk-parallel-item\"><div class=\"sk-item\"><div class=\"sk-label-container\"><div class=\"sk-label sk-toggleable\"><label>LightGBM</label></div></div><div class=\"sk-serial\"><div class=\"sk-item\"><div class=\"sk-serial\"><div class=\"sk-item sk-dashed-wrapped\"><div class=\"sk-label-container\"><div class=\"sk-label sk-toggleable\"><input class=\"sk-toggleable__control sk-hidden--visually\" id=\"bb6d3b72-9223-47ab-8af1-10697f3f8b58\" type=\"checkbox\" ><label for=\"bb6d3b72-9223-47ab-8af1-10697f3f8b58\" class=\"sk-toggleable__label sk-toggleable__label-arrow\">columntransformer: ColumnTransformer</label><div class=\"sk-toggleable__content\"><pre>ColumnTransformer(transformers=[(&#x27;pipeline-1&#x27;,\n",
       "                                 Pipeline(steps=[(&#x27;polynomialfeatures&#x27;,\n",
       "                                                  PolynomialFeatures(include_bias=False,\n",
       "                                                                     interaction_only=True)),\n",
       "                                                 (&#x27;standardscaler&#x27;,\n",
       "                                                  StandardScaler())]),\n",
       "                                 &lt;sklearn.compose._column_transformer.make_column_selector object at 0x00000226693C97F0&gt;),\n",
       "                                (&#x27;pipeline-2&#x27;,\n",
       "                                 Pipeline(steps=[(&#x27;sic_grouping&#x27;,\n",
       "                                                  sic_grouping()),\n",
       "                                                 (&#x27;onehotencoder&#x27;,\n",
       "                                                  OneHotEncoder(handle_unknown=&#x27;ignore&#x27;))]),\n",
       "                                 &lt;sklearn.compose._column_transformer.make_column_selector object at 0x00000226693C9550&gt;)])</pre></div></div></div><div class=\"sk-parallel\"><div class=\"sk-parallel-item\"><div class=\"sk-item\"><div class=\"sk-label-container\"><div class=\"sk-label sk-toggleable\"><input class=\"sk-toggleable__control sk-hidden--visually\" id=\"d3e646e7-4339-454a-b9e9-8be1495e604d\" type=\"checkbox\" ><label for=\"d3e646e7-4339-454a-b9e9-8be1495e604d\" class=\"sk-toggleable__label sk-toggleable__label-arrow\">pipeline-1</label><div class=\"sk-toggleable__content\"><pre>&lt;sklearn.compose._column_transformer.make_column_selector object at 0x00000226693C97F0&gt;</pre></div></div></div><div class=\"sk-serial\"><div class=\"sk-item\"><div class=\"sk-serial\"><div class=\"sk-item\"><div class=\"sk-estimator sk-toggleable\"><input class=\"sk-toggleable__control sk-hidden--visually\" id=\"1838ee13-35e4-4ae9-ab6a-1527434b1385\" type=\"checkbox\" ><label for=\"1838ee13-35e4-4ae9-ab6a-1527434b1385\" class=\"sk-toggleable__label sk-toggleable__label-arrow\">PolynomialFeatures</label><div class=\"sk-toggleable__content\"><pre>PolynomialFeatures(include_bias=False, interaction_only=True)</pre></div></div></div><div class=\"sk-item\"><div class=\"sk-estimator sk-toggleable\"><input class=\"sk-toggleable__control sk-hidden--visually\" id=\"f6e8f475-252e-477d-8123-6021afcd5828\" type=\"checkbox\" ><label for=\"f6e8f475-252e-477d-8123-6021afcd5828\" class=\"sk-toggleable__label sk-toggleable__label-arrow\">StandardScaler</label><div class=\"sk-toggleable__content\"><pre>StandardScaler()</pre></div></div></div></div></div></div></div></div><div class=\"sk-parallel-item\"><div class=\"sk-item\"><div class=\"sk-label-container\"><div class=\"sk-label sk-toggleable\"><input class=\"sk-toggleable__control sk-hidden--visually\" id=\"ae279710-cf83-49c5-b8dc-1137fc1736dc\" type=\"checkbox\" ><label for=\"ae279710-cf83-49c5-b8dc-1137fc1736dc\" class=\"sk-toggleable__label sk-toggleable__label-arrow\">pipeline-2</label><div class=\"sk-toggleable__content\"><pre>&lt;sklearn.compose._column_transformer.make_column_selector object at 0x00000226693C9550&gt;</pre></div></div></div><div class=\"sk-serial\"><div class=\"sk-item\"><div class=\"sk-serial\"><div class=\"sk-item\"><div class=\"sk-estimator sk-toggleable\"><input class=\"sk-toggleable__control sk-hidden--visually\" id=\"0fe01b7c-c51b-4bbe-9c57-dae27185ec81\" type=\"checkbox\" ><label for=\"0fe01b7c-c51b-4bbe-9c57-dae27185ec81\" class=\"sk-toggleable__label sk-toggleable__label-arrow\">sic_grouping</label><div class=\"sk-toggleable__content\"><pre>sic_grouping()</pre></div></div></div><div class=\"sk-item\"><div class=\"sk-estimator sk-toggleable\"><input class=\"sk-toggleable__control sk-hidden--visually\" id=\"6763c98a-a4d7-4222-a7e0-7deaacb51ccb\" type=\"checkbox\" ><label for=\"6763c98a-a4d7-4222-a7e0-7deaacb51ccb\" class=\"sk-toggleable__label sk-toggleable__label-arrow\">OneHotEncoder</label><div class=\"sk-toggleable__content\"><pre>OneHotEncoder(handle_unknown=&#x27;ignore&#x27;)</pre></div></div></div></div></div></div></div></div></div></div><div class=\"sk-item\"><div class=\"sk-estimator sk-toggleable\"><input class=\"sk-toggleable__control sk-hidden--visually\" id=\"87dd7425-6024-45c1-bea6-b4a0a2d287f2\" type=\"checkbox\" ><label for=\"87dd7425-6024-45c1-bea6-b4a0a2d287f2\" class=\"sk-toggleable__label sk-toggleable__label-arrow\">LGBMClassifier</label><div class=\"sk-toggleable__content\"><pre>LGBMClassifier(max_depth=10, min_child_samples=10, num_leaves=50)</pre></div></div></div></div></div></div></div></div><div class=\"sk-parallel-item\"><div class=\"sk-item\"><div class=\"sk-label-container\"><div class=\"sk-label sk-toggleable\"><label>XGBoost</label></div></div><div class=\"sk-serial\"><div class=\"sk-item\"><div class=\"sk-serial\"><div class=\"sk-item sk-dashed-wrapped\"><div class=\"sk-label-container\"><div class=\"sk-label sk-toggleable\"><input class=\"sk-toggleable__control sk-hidden--visually\" id=\"eb5d53f2-d41f-4f7f-bb5a-fd9273809dc7\" type=\"checkbox\" ><label for=\"eb5d53f2-d41f-4f7f-bb5a-fd9273809dc7\" class=\"sk-toggleable__label sk-toggleable__label-arrow\">columntransformer: ColumnTransformer</label><div class=\"sk-toggleable__content\"><pre>ColumnTransformer(transformers=[(&#x27;pipeline-1&#x27;,\n",
       "                                 Pipeline(steps=[(&#x27;polynomialfeatures&#x27;,\n",
       "                                                  PolynomialFeatures(include_bias=False,\n",
       "                                                                     interaction_only=True)),\n",
       "                                                 (&#x27;standardscaler&#x27;,\n",
       "                                                  StandardScaler())]),\n",
       "                                 &lt;sklearn.compose._column_transformer.make_column_selector object at 0x00000226693C97F0&gt;),\n",
       "                                (&#x27;pipeline-2&#x27;,\n",
       "                                 Pipeline(steps=[(&#x27;sic_grouping&#x27;,\n",
       "                                                  sic_grouping()),\n",
       "                                                 (&#x27;onehotencoder&#x27;,\n",
       "                                                  OneHotEncoder(handle_unknown=&#x27;ignore&#x27;))]),\n",
       "                                 &lt;sklearn.compose._column_transformer.make_column_selector object at 0x00000226693C9550&gt;)])</pre></div></div></div><div class=\"sk-parallel\"><div class=\"sk-parallel-item\"><div class=\"sk-item\"><div class=\"sk-label-container\"><div class=\"sk-label sk-toggleable\"><input class=\"sk-toggleable__control sk-hidden--visually\" id=\"dab5d13f-1d91-49e0-8cc3-f93e00e280f3\" type=\"checkbox\" ><label for=\"dab5d13f-1d91-49e0-8cc3-f93e00e280f3\" class=\"sk-toggleable__label sk-toggleable__label-arrow\">pipeline-1</label><div class=\"sk-toggleable__content\"><pre>&lt;sklearn.compose._column_transformer.make_column_selector object at 0x00000226693C97F0&gt;</pre></div></div></div><div class=\"sk-serial\"><div class=\"sk-item\"><div class=\"sk-serial\"><div class=\"sk-item\"><div class=\"sk-estimator sk-toggleable\"><input class=\"sk-toggleable__control sk-hidden--visually\" id=\"56dd100b-7496-4675-bae9-1105b98780ae\" type=\"checkbox\" ><label for=\"56dd100b-7496-4675-bae9-1105b98780ae\" class=\"sk-toggleable__label sk-toggleable__label-arrow\">PolynomialFeatures</label><div class=\"sk-toggleable__content\"><pre>PolynomialFeatures(include_bias=False, interaction_only=True)</pre></div></div></div><div class=\"sk-item\"><div class=\"sk-estimator sk-toggleable\"><input class=\"sk-toggleable__control sk-hidden--visually\" id=\"b79adfa9-c71e-4a25-afed-89bbf680d8be\" type=\"checkbox\" ><label for=\"b79adfa9-c71e-4a25-afed-89bbf680d8be\" class=\"sk-toggleable__label sk-toggleable__label-arrow\">StandardScaler</label><div class=\"sk-toggleable__content\"><pre>StandardScaler()</pre></div></div></div></div></div></div></div></div><div class=\"sk-parallel-item\"><div class=\"sk-item\"><div class=\"sk-label-container\"><div class=\"sk-label sk-toggleable\"><input class=\"sk-toggleable__control sk-hidden--visually\" id=\"549f8775-3d6c-4f27-b364-e28914f660ce\" type=\"checkbox\" ><label for=\"549f8775-3d6c-4f27-b364-e28914f660ce\" class=\"sk-toggleable__label sk-toggleable__label-arrow\">pipeline-2</label><div class=\"sk-toggleable__content\"><pre>&lt;sklearn.compose._column_transformer.make_column_selector object at 0x00000226693C9550&gt;</pre></div></div></div><div class=\"sk-serial\"><div class=\"sk-item\"><div class=\"sk-serial\"><div class=\"sk-item\"><div class=\"sk-estimator sk-toggleable\"><input class=\"sk-toggleable__control sk-hidden--visually\" id=\"ce004ca3-ab1a-417b-b985-6836be820bf8\" type=\"checkbox\" ><label for=\"ce004ca3-ab1a-417b-b985-6836be820bf8\" class=\"sk-toggleable__label sk-toggleable__label-arrow\">sic_grouping</label><div class=\"sk-toggleable__content\"><pre>sic_grouping()</pre></div></div></div><div class=\"sk-item\"><div class=\"sk-estimator sk-toggleable\"><input class=\"sk-toggleable__control sk-hidden--visually\" id=\"ce2acbe0-7781-425a-b8cb-434bb824b92c\" type=\"checkbox\" ><label for=\"ce2acbe0-7781-425a-b8cb-434bb824b92c\" class=\"sk-toggleable__label sk-toggleable__label-arrow\">OneHotEncoder</label><div class=\"sk-toggleable__content\"><pre>OneHotEncoder(handle_unknown=&#x27;ignore&#x27;)</pre></div></div></div></div></div></div></div></div></div></div><div class=\"sk-item\"><div class=\"sk-estimator sk-toggleable\"><input class=\"sk-toggleable__control sk-hidden--visually\" id=\"59f9a5f0-54f0-40b1-bec4-0d75f29536c4\" type=\"checkbox\" ><label for=\"59f9a5f0-54f0-40b1-bec4-0d75f29536c4\" class=\"sk-toggleable__label sk-toggleable__label-arrow\">XGBClassifier</label><div class=\"sk-toggleable__content\"><pre>XGBClassifier(base_score=None, booster=None, colsample_bylevel=None,\n",
       "              colsample_bynode=None, colsample_bytree=None,\n",
       "              enable_categorical=False, gamma=None, gpu_id=None,\n",
       "              importance_type=None, interaction_constraints=None,\n",
       "              learning_rate=0.1, max_delta_step=None, max_depth=None,\n",
       "              min_child_weight=None, missing=nan, monotone_constraints=None,\n",
       "              n_estimators=250, n_jobs=None, num_parallel_tree=None,\n",
       "              predictor=None, random_state=None, reg_alpha=None,\n",
       "              reg_lambda=None, scale_pos_weight=None, subsample=None,\n",
       "              tree_method=None, use_label_encoder=False,\n",
       "              validate_parameters=None, verbosity=None)</pre></div></div></div></div></div></div></div></div><div class=\"sk-parallel-item\"><div class=\"sk-item\"><div class=\"sk-label-container\"><div class=\"sk-label sk-toggleable\"><label>SVM-RBF</label></div></div><div class=\"sk-serial\"><div class=\"sk-item\"><div class=\"sk-serial\"><div class=\"sk-item sk-dashed-wrapped\"><div class=\"sk-label-container\"><div class=\"sk-label sk-toggleable\"><input class=\"sk-toggleable__control sk-hidden--visually\" id=\"266bb1cd-2629-4b26-a857-b2c2887f8326\" type=\"checkbox\" ><label for=\"266bb1cd-2629-4b26-a857-b2c2887f8326\" class=\"sk-toggleable__label sk-toggleable__label-arrow\">columntransformer: ColumnTransformer</label><div class=\"sk-toggleable__content\"><pre>ColumnTransformer(transformers=[(&#x27;pipeline-1&#x27;,\n",
       "                                 Pipeline(steps=[(&#x27;polynomialfeatures&#x27;,\n",
       "                                                  PolynomialFeatures(include_bias=False,\n",
       "                                                                     interaction_only=True)),\n",
       "                                                 (&#x27;standardscaler&#x27;,\n",
       "                                                  StandardScaler())]),\n",
       "                                 &lt;sklearn.compose._column_transformer.make_column_selector object at 0x00000226693C97F0&gt;),\n",
       "                                (&#x27;pipeline-2&#x27;,\n",
       "                                 Pipeline(steps=[(&#x27;sic_grouping&#x27;,\n",
       "                                                  sic_grouping()),\n",
       "                                                 (&#x27;onehotencoder&#x27;,\n",
       "                                                  OneHotEncoder(handle_unknown=&#x27;ignore&#x27;))]),\n",
       "                                 &lt;sklearn.compose._column_transformer.make_column_selector object at 0x00000226693C9550&gt;)])</pre></div></div></div><div class=\"sk-parallel\"><div class=\"sk-parallel-item\"><div class=\"sk-item\"><div class=\"sk-label-container\"><div class=\"sk-label sk-toggleable\"><input class=\"sk-toggleable__control sk-hidden--visually\" id=\"82f4acd0-81a0-43e9-9744-cd305ad2e074\" type=\"checkbox\" ><label for=\"82f4acd0-81a0-43e9-9744-cd305ad2e074\" class=\"sk-toggleable__label sk-toggleable__label-arrow\">pipeline-1</label><div class=\"sk-toggleable__content\"><pre>&lt;sklearn.compose._column_transformer.make_column_selector object at 0x00000226693C97F0&gt;</pre></div></div></div><div class=\"sk-serial\"><div class=\"sk-item\"><div class=\"sk-serial\"><div class=\"sk-item\"><div class=\"sk-estimator sk-toggleable\"><input class=\"sk-toggleable__control sk-hidden--visually\" id=\"55de0902-971e-48db-9963-a7294c66cd0e\" type=\"checkbox\" ><label for=\"55de0902-971e-48db-9963-a7294c66cd0e\" class=\"sk-toggleable__label sk-toggleable__label-arrow\">PolynomialFeatures</label><div class=\"sk-toggleable__content\"><pre>PolynomialFeatures(include_bias=False, interaction_only=True)</pre></div></div></div><div class=\"sk-item\"><div class=\"sk-estimator sk-toggleable\"><input class=\"sk-toggleable__control sk-hidden--visually\" id=\"6eb55512-f567-4545-baaa-c3eb9969ea78\" type=\"checkbox\" ><label for=\"6eb55512-f567-4545-baaa-c3eb9969ea78\" class=\"sk-toggleable__label sk-toggleable__label-arrow\">StandardScaler</label><div class=\"sk-toggleable__content\"><pre>StandardScaler()</pre></div></div></div></div></div></div></div></div><div class=\"sk-parallel-item\"><div class=\"sk-item\"><div class=\"sk-label-container\"><div class=\"sk-label sk-toggleable\"><input class=\"sk-toggleable__control sk-hidden--visually\" id=\"e7493113-f337-44d8-87be-e47ecd512c76\" type=\"checkbox\" ><label for=\"e7493113-f337-44d8-87be-e47ecd512c76\" class=\"sk-toggleable__label sk-toggleable__label-arrow\">pipeline-2</label><div class=\"sk-toggleable__content\"><pre>&lt;sklearn.compose._column_transformer.make_column_selector object at 0x00000226693C9550&gt;</pre></div></div></div><div class=\"sk-serial\"><div class=\"sk-item\"><div class=\"sk-serial\"><div class=\"sk-item\"><div class=\"sk-estimator sk-toggleable\"><input class=\"sk-toggleable__control sk-hidden--visually\" id=\"ca662071-4db6-4525-85b9-e246dec2523e\" type=\"checkbox\" ><label for=\"ca662071-4db6-4525-85b9-e246dec2523e\" class=\"sk-toggleable__label sk-toggleable__label-arrow\">sic_grouping</label><div class=\"sk-toggleable__content\"><pre>sic_grouping()</pre></div></div></div><div class=\"sk-item\"><div class=\"sk-estimator sk-toggleable\"><input class=\"sk-toggleable__control sk-hidden--visually\" id=\"ed54bc98-b7b3-4170-bf77-28dbbccd5a77\" type=\"checkbox\" ><label for=\"ed54bc98-b7b3-4170-bf77-28dbbccd5a77\" class=\"sk-toggleable__label sk-toggleable__label-arrow\">OneHotEncoder</label><div class=\"sk-toggleable__content\"><pre>OneHotEncoder(handle_unknown=&#x27;ignore&#x27;)</pre></div></div></div></div></div></div></div></div></div></div><div class=\"sk-item\"><div class=\"sk-estimator sk-toggleable\"><input class=\"sk-toggleable__control sk-hidden--visually\" id=\"75356269-6caa-4abc-a084-199688073f92\" type=\"checkbox\" ><label for=\"75356269-6caa-4abc-a084-199688073f92\" class=\"sk-toggleable__label sk-toggleable__label-arrow\">SVC</label><div class=\"sk-toggleable__content\"><pre>SVC(C=1, random_state=0)</pre></div></div></div></div></div></div></div></div></div></div><div class=\"sk-item\"><div class=\"sk-parallel\"><div class=\"sk-parallel-item\"><div class=\"sk-item\"><div class=\"sk-label-container\"><div class=\"sk-label sk-toggleable\"><label>final_estimator</label></div></div><div class=\"sk-serial\"><div class=\"sk-item\"><div class=\"sk-estimator sk-toggleable\"><input class=\"sk-toggleable__control sk-hidden--visually\" id=\"2c4e8a43-e1fb-47d4-8034-57633d4d40e4\" type=\"checkbox\" ><label for=\"2c4e8a43-e1fb-47d4-8034-57633d4d40e4\" class=\"sk-toggleable__label sk-toggleable__label-arrow\">LGBMClassifier</label><div class=\"sk-toggleable__content\"><pre>LGBMClassifier()</pre></div></div></div></div></div></div></div></div></div></div></div></div>"
      ],
      "text/plain": [
       "StackingClassifier(estimators=[('LightGBM',\n",
       "                                Pipeline(steps=[('columntransformer',\n",
       "                                                 ColumnTransformer(transformers=[('pipeline-1',\n",
       "                                                                                  Pipeline(steps=[('polynomialfeatures',\n",
       "                                                                                                   PolynomialFeatures(include_bias=False,\n",
       "                                                                                                                      interaction_only=True)),\n",
       "                                                                                                  ('standardscaler',\n",
       "                                                                                                   StandardScaler())]),\n",
       "                                                                                  <sklearn.compose._column_transformer.make_column_selector object at 0x00000226693C97F0>),...\n",
       "                                                                                  <sklearn.compose._column_transformer.make_column_selector object at 0x00000226693C97F0>),\n",
       "                                                                                 ('pipeline-2',\n",
       "                                                                                  Pipeline(steps=[('sic_grouping',\n",
       "                                                                                                   sic_grouping()),\n",
       "                                                                                                  ('onehotencoder',\n",
       "                                                                                                   OneHotEncoder(handle_unknown='ignore'))]),\n",
       "                                                                                  <sklearn.compose._column_transformer.make_column_selector object at 0x00000226693C9550>)])),\n",
       "                                                ('svc',\n",
       "                                                 SVC(C=1, random_state=0))]))],\n",
       "                   final_estimator=LGBMClassifier())"
      ]
     },
     "execution_count": 19,
     "metadata": {},
     "output_type": "execute_result"
    }
   ],
   "source": [
    "stacking_classifier_tuned.fit(X_train,y_train)"
   ]
  },
  {
   "cell_type": "code",
   "execution_count": 20,
   "id": "8d0001f3",
   "metadata": {},
   "outputs": [
    {
     "name": "stdout",
     "output_type": "stream",
     "text": [
      "PR-AUC Score = 0.3229718591781467 \n",
      "\n",
      "              precision    recall  f1-score   support\n",
      "\n",
      "           0       0.99      1.00      1.00      7992\n",
      "           1       0.47      0.17      0.25        54\n",
      "\n",
      "    accuracy                           0.99      8046\n",
      "   macro avg       0.73      0.58      0.62      8046\n",
      "weighted avg       0.99      0.99      0.99      8046\n",
      "\n"
     ]
    }
   ],
   "source": [
    "y_pred_2 = stacking_classifier_tuned.predict(X_test)\n",
    "\n",
    "print('PR-AUC Score =', auc_pr(y_test, y_pred_2),'\\n')\n",
    "print(classification_report(y_test, y_pred_2))"
   ]
  },
  {
   "cell_type": "markdown",
   "id": "76ec8f87",
   "metadata": {},
   "source": [
    "## Test data prediction"
   ]
  },
  {
   "cell_type": "code",
   "execution_count": 23,
   "id": "eacb79e4",
   "metadata": {},
   "outputs": [],
   "source": [
    "df_test = pd.read_csv(r'C:\\Users\\Joyce Huang\\Downloads\\BT5126-HW2\\Q1_test.csv')\n",
    "df_test.sic = df_test.sic.astype('object')\n",
    "X_test = df_test.drop(['id','bankrupt'],axis=1)\n",
    "y_test = df_test.bankrupt"
   ]
  },
  {
   "cell_type": "code",
   "execution_count": 24,
   "id": "b3469e0b",
   "metadata": {},
   "outputs": [],
   "source": [
    "y_pred = stacking_classifier_tuned.predict(X_test)\n",
    "df_test.bankrupt = y_pred\n",
    "df_test.to_csv(r'C:\\Users\\Joyce Huang\\Downloads\\BT5126-HW2\\q3_pred.csv', index=False)"
   ]
  }
 ],
 "metadata": {
  "kernelspec": {
   "display_name": "Python 3",
   "language": "python",
   "name": "python3"
  },
  "language_info": {
   "codemirror_mode": {
    "name": "ipython",
    "version": 3
   },
   "file_extension": ".py",
   "mimetype": "text/x-python",
   "name": "python",
   "nbconvert_exporter": "python",
   "pygments_lexer": "ipython3",
   "version": "3.8.8"
  }
 },
 "nbformat": 4,
 "nbformat_minor": 5
}
